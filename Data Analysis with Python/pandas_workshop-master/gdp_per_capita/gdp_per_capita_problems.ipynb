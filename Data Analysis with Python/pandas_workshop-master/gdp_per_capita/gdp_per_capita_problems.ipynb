{
 "cells": [
  {
   "cell_type": "markdown",
   "metadata": {},
   "source": [
    "# GDP Per Capita Analysis"
   ]
  },
  {
   "cell_type": "markdown",
   "metadata": {},
   "source": [
    "GDP per capita data was taken from world bank\n",
    "https://data.worldbank.org/indicator/NY.GDP.PCAP.CD"
   ]
  },
  {
   "cell_type": "code",
   "execution_count": 1,
   "metadata": {},
   "outputs": [],
   "source": [
    "import pandas as pd"
   ]
  },
  {
   "cell_type": "markdown",
   "metadata": {},
   "source": [
    "read \"gdp_per_capita.csv\" file into a dataframe"
   ]
  },
  {
   "cell_type": "code",
   "execution_count": 5,
   "metadata": {},
   "outputs": [],
   "source": [
    "data=pd.read_csv('gdp_per_capita_2020July.csv', skiprows=4)#use shift+tab to see read_csv function params\n",
    "#csv has title, then that's not part of the data so use skiprows"
   ]
  },
  {
   "cell_type": "code",
   "execution_count": 6,
   "metadata": {},
   "outputs": [
    {
     "data": {
      "text/plain": [
       "pandas.core.frame.DataFrame"
      ]
     },
     "execution_count": 6,
     "metadata": {},
     "output_type": "execute_result"
    }
   ],
   "source": [
    "type(data)"
   ]
  },
  {
   "cell_type": "markdown",
   "metadata": {},
   "source": [
    "check the top-five rows the data frame"
   ]
  },
  {
   "cell_type": "code",
   "execution_count": 7,
   "metadata": {},
   "outputs": [
    {
     "data": {
      "text/html": [
       "<div>\n",
       "<style scoped>\n",
       "    .dataframe tbody tr th:only-of-type {\n",
       "        vertical-align: middle;\n",
       "    }\n",
       "\n",
       "    .dataframe tbody tr th {\n",
       "        vertical-align: top;\n",
       "    }\n",
       "\n",
       "    .dataframe thead th {\n",
       "        text-align: right;\n",
       "    }\n",
       "</style>\n",
       "<table border=\"1\" class=\"dataframe\">\n",
       "  <thead>\n",
       "    <tr style=\"text-align: right;\">\n",
       "      <th></th>\n",
       "      <th>Country Name</th>\n",
       "      <th>Country Code</th>\n",
       "      <th>Indicator Name</th>\n",
       "      <th>Indicator Code</th>\n",
       "      <th>1960</th>\n",
       "      <th>1961</th>\n",
       "      <th>1962</th>\n",
       "      <th>1963</th>\n",
       "      <th>1964</th>\n",
       "      <th>1965</th>\n",
       "      <th>...</th>\n",
       "      <th>2011</th>\n",
       "      <th>2012</th>\n",
       "      <th>2013</th>\n",
       "      <th>2014</th>\n",
       "      <th>2015</th>\n",
       "      <th>2016</th>\n",
       "      <th>2017</th>\n",
       "      <th>2018</th>\n",
       "      <th>2019</th>\n",
       "      <th>Unnamed: 64</th>\n",
       "    </tr>\n",
       "  </thead>\n",
       "  <tbody>\n",
       "    <tr>\n",
       "      <th>0</th>\n",
       "      <td>Aruba</td>\n",
       "      <td>ABW</td>\n",
       "      <td>GDP per capita (current US$)</td>\n",
       "      <td>NY.GDP.PCAP.CD</td>\n",
       "      <td>NaN</td>\n",
       "      <td>NaN</td>\n",
       "      <td>NaN</td>\n",
       "      <td>NaN</td>\n",
       "      <td>NaN</td>\n",
       "      <td>NaN</td>\n",
       "      <td>...</td>\n",
       "      <td>24985.993281</td>\n",
       "      <td>24713.698045</td>\n",
       "      <td>26189.435509</td>\n",
       "      <td>26647.938101</td>\n",
       "      <td>27980.880695</td>\n",
       "      <td>28281.350482</td>\n",
       "      <td>29007.693003</td>\n",
       "      <td>NaN</td>\n",
       "      <td>NaN</td>\n",
       "      <td>NaN</td>\n",
       "    </tr>\n",
       "    <tr>\n",
       "      <th>1</th>\n",
       "      <td>Afghanistan</td>\n",
       "      <td>AFG</td>\n",
       "      <td>GDP per capita (current US$)</td>\n",
       "      <td>NY.GDP.PCAP.CD</td>\n",
       "      <td>59.773194</td>\n",
       "      <td>59.860874</td>\n",
       "      <td>58.458015</td>\n",
       "      <td>78.706388</td>\n",
       "      <td>82.095231</td>\n",
       "      <td>101.108305</td>\n",
       "      <td>...</td>\n",
       "      <td>591.162759</td>\n",
       "      <td>641.871479</td>\n",
       "      <td>637.165523</td>\n",
       "      <td>613.856689</td>\n",
       "      <td>578.466353</td>\n",
       "      <td>547.228110</td>\n",
       "      <td>556.302002</td>\n",
       "      <td>524.162881</td>\n",
       "      <td>502.115487</td>\n",
       "      <td>NaN</td>\n",
       "    </tr>\n",
       "    <tr>\n",
       "      <th>2</th>\n",
       "      <td>Angola</td>\n",
       "      <td>AGO</td>\n",
       "      <td>GDP per capita (current US$)</td>\n",
       "      <td>NY.GDP.PCAP.CD</td>\n",
       "      <td>NaN</td>\n",
       "      <td>NaN</td>\n",
       "      <td>NaN</td>\n",
       "      <td>NaN</td>\n",
       "      <td>NaN</td>\n",
       "      <td>NaN</td>\n",
       "      <td>...</td>\n",
       "      <td>4615.468028</td>\n",
       "      <td>5100.095808</td>\n",
       "      <td>5254.882338</td>\n",
       "      <td>5408.410496</td>\n",
       "      <td>4166.979684</td>\n",
       "      <td>3506.072885</td>\n",
       "      <td>4095.812942</td>\n",
       "      <td>3289.646664</td>\n",
       "      <td>2973.591160</td>\n",
       "      <td>NaN</td>\n",
       "    </tr>\n",
       "    <tr>\n",
       "      <th>3</th>\n",
       "      <td>Albania</td>\n",
       "      <td>ALB</td>\n",
       "      <td>GDP per capita (current US$)</td>\n",
       "      <td>NY.GDP.PCAP.CD</td>\n",
       "      <td>NaN</td>\n",
       "      <td>NaN</td>\n",
       "      <td>NaN</td>\n",
       "      <td>NaN</td>\n",
       "      <td>NaN</td>\n",
       "      <td>NaN</td>\n",
       "      <td>...</td>\n",
       "      <td>4437.142885</td>\n",
       "      <td>4247.629984</td>\n",
       "      <td>4413.060861</td>\n",
       "      <td>4578.631994</td>\n",
       "      <td>3952.801215</td>\n",
       "      <td>4124.055726</td>\n",
       "      <td>4531.020806</td>\n",
       "      <td>5284.380184</td>\n",
       "      <td>5352.857411</td>\n",
       "      <td>NaN</td>\n",
       "    </tr>\n",
       "    <tr>\n",
       "      <th>4</th>\n",
       "      <td>Andorra</td>\n",
       "      <td>AND</td>\n",
       "      <td>GDP per capita (current US$)</td>\n",
       "      <td>NY.GDP.PCAP.CD</td>\n",
       "      <td>NaN</td>\n",
       "      <td>NaN</td>\n",
       "      <td>NaN</td>\n",
       "      <td>NaN</td>\n",
       "      <td>NaN</td>\n",
       "      <td>NaN</td>\n",
       "      <td>...</td>\n",
       "      <td>43335.328862</td>\n",
       "      <td>38686.461264</td>\n",
       "      <td>39538.766722</td>\n",
       "      <td>41303.929371</td>\n",
       "      <td>35762.523074</td>\n",
       "      <td>37474.665406</td>\n",
       "      <td>38962.880354</td>\n",
       "      <td>41793.055258</td>\n",
       "      <td>40886.391165</td>\n",
       "      <td>NaN</td>\n",
       "    </tr>\n",
       "  </tbody>\n",
       "</table>\n",
       "<p>5 rows × 65 columns</p>\n",
       "</div>"
      ],
      "text/plain": [
       "  Country Name Country Code                Indicator Name  Indicator Code  \\\n",
       "0        Aruba          ABW  GDP per capita (current US$)  NY.GDP.PCAP.CD   \n",
       "1  Afghanistan          AFG  GDP per capita (current US$)  NY.GDP.PCAP.CD   \n",
       "2       Angola          AGO  GDP per capita (current US$)  NY.GDP.PCAP.CD   \n",
       "3      Albania          ALB  GDP per capita (current US$)  NY.GDP.PCAP.CD   \n",
       "4      Andorra          AND  GDP per capita (current US$)  NY.GDP.PCAP.CD   \n",
       "\n",
       "        1960       1961       1962       1963       1964        1965  ...  \\\n",
       "0        NaN        NaN        NaN        NaN        NaN         NaN  ...   \n",
       "1  59.773194  59.860874  58.458015  78.706388  82.095231  101.108305  ...   \n",
       "2        NaN        NaN        NaN        NaN        NaN         NaN  ...   \n",
       "3        NaN        NaN        NaN        NaN        NaN         NaN  ...   \n",
       "4        NaN        NaN        NaN        NaN        NaN         NaN  ...   \n",
       "\n",
       "           2011          2012          2013          2014          2015  \\\n",
       "0  24985.993281  24713.698045  26189.435509  26647.938101  27980.880695   \n",
       "1    591.162759    641.871479    637.165523    613.856689    578.466353   \n",
       "2   4615.468028   5100.095808   5254.882338   5408.410496   4166.979684   \n",
       "3   4437.142885   4247.629984   4413.060861   4578.631994   3952.801215   \n",
       "4  43335.328862  38686.461264  39538.766722  41303.929371  35762.523074   \n",
       "\n",
       "           2016          2017          2018          2019  Unnamed: 64  \n",
       "0  28281.350482  29007.693003           NaN           NaN          NaN  \n",
       "1    547.228110    556.302002    524.162881    502.115487          NaN  \n",
       "2   3506.072885   4095.812942   3289.646664   2973.591160          NaN  \n",
       "3   4124.055726   4531.020806   5284.380184   5352.857411          NaN  \n",
       "4  37474.665406  38962.880354  41793.055258  40886.391165          NaN  \n",
       "\n",
       "[5 rows x 65 columns]"
      ]
     },
     "execution_count": 7,
     "metadata": {},
     "output_type": "execute_result"
    }
   ],
   "source": [
    "data.head()"
   ]
  },
  {
   "cell_type": "code",
   "execution_count": 8,
   "metadata": {},
   "outputs": [],
   "source": [
    "#set index of the dataframe as Country name\n",
    "data.set_index('Country Name', inplace=True)"
   ]
  },
  {
   "cell_type": "code",
   "execution_count": 9,
   "metadata": {
    "scrolled": false
   },
   "outputs": [
    {
     "data": {
      "text/html": [
       "<div>\n",
       "<style scoped>\n",
       "    .dataframe tbody tr th:only-of-type {\n",
       "        vertical-align: middle;\n",
       "    }\n",
       "\n",
       "    .dataframe tbody tr th {\n",
       "        vertical-align: top;\n",
       "    }\n",
       "\n",
       "    .dataframe thead th {\n",
       "        text-align: right;\n",
       "    }\n",
       "</style>\n",
       "<table border=\"1\" class=\"dataframe\">\n",
       "  <thead>\n",
       "    <tr style=\"text-align: right;\">\n",
       "      <th></th>\n",
       "      <th>Country Code</th>\n",
       "      <th>Indicator Name</th>\n",
       "      <th>Indicator Code</th>\n",
       "      <th>1960</th>\n",
       "      <th>1961</th>\n",
       "      <th>1962</th>\n",
       "      <th>1963</th>\n",
       "      <th>1964</th>\n",
       "      <th>1965</th>\n",
       "      <th>1966</th>\n",
       "      <th>...</th>\n",
       "      <th>2011</th>\n",
       "      <th>2012</th>\n",
       "      <th>2013</th>\n",
       "      <th>2014</th>\n",
       "      <th>2015</th>\n",
       "      <th>2016</th>\n",
       "      <th>2017</th>\n",
       "      <th>2018</th>\n",
       "      <th>2019</th>\n",
       "      <th>Unnamed: 64</th>\n",
       "    </tr>\n",
       "    <tr>\n",
       "      <th>Country Name</th>\n",
       "      <th></th>\n",
       "      <th></th>\n",
       "      <th></th>\n",
       "      <th></th>\n",
       "      <th></th>\n",
       "      <th></th>\n",
       "      <th></th>\n",
       "      <th></th>\n",
       "      <th></th>\n",
       "      <th></th>\n",
       "      <th></th>\n",
       "      <th></th>\n",
       "      <th></th>\n",
       "      <th></th>\n",
       "      <th></th>\n",
       "      <th></th>\n",
       "      <th></th>\n",
       "      <th></th>\n",
       "      <th></th>\n",
       "      <th></th>\n",
       "      <th></th>\n",
       "    </tr>\n",
       "  </thead>\n",
       "  <tbody>\n",
       "    <tr>\n",
       "      <th>Aruba</th>\n",
       "      <td>ABW</td>\n",
       "      <td>GDP per capita (current US$)</td>\n",
       "      <td>NY.GDP.PCAP.CD</td>\n",
       "      <td>NaN</td>\n",
       "      <td>NaN</td>\n",
       "      <td>NaN</td>\n",
       "      <td>NaN</td>\n",
       "      <td>NaN</td>\n",
       "      <td>NaN</td>\n",
       "      <td>NaN</td>\n",
       "      <td>...</td>\n",
       "      <td>24985.993281</td>\n",
       "      <td>24713.698045</td>\n",
       "      <td>26189.435509</td>\n",
       "      <td>26647.938101</td>\n",
       "      <td>27980.880695</td>\n",
       "      <td>28281.350482</td>\n",
       "      <td>29007.693003</td>\n",
       "      <td>NaN</td>\n",
       "      <td>NaN</td>\n",
       "      <td>NaN</td>\n",
       "    </tr>\n",
       "    <tr>\n",
       "      <th>Afghanistan</th>\n",
       "      <td>AFG</td>\n",
       "      <td>GDP per capita (current US$)</td>\n",
       "      <td>NY.GDP.PCAP.CD</td>\n",
       "      <td>59.773194</td>\n",
       "      <td>59.860874</td>\n",
       "      <td>58.458015</td>\n",
       "      <td>78.706388</td>\n",
       "      <td>82.095231</td>\n",
       "      <td>101.108305</td>\n",
       "      <td>137.594352</td>\n",
       "      <td>...</td>\n",
       "      <td>591.162759</td>\n",
       "      <td>641.871479</td>\n",
       "      <td>637.165523</td>\n",
       "      <td>613.856689</td>\n",
       "      <td>578.466353</td>\n",
       "      <td>547.228110</td>\n",
       "      <td>556.302002</td>\n",
       "      <td>524.162881</td>\n",
       "      <td>502.115487</td>\n",
       "      <td>NaN</td>\n",
       "    </tr>\n",
       "    <tr>\n",
       "      <th>Angola</th>\n",
       "      <td>AGO</td>\n",
       "      <td>GDP per capita (current US$)</td>\n",
       "      <td>NY.GDP.PCAP.CD</td>\n",
       "      <td>NaN</td>\n",
       "      <td>NaN</td>\n",
       "      <td>NaN</td>\n",
       "      <td>NaN</td>\n",
       "      <td>NaN</td>\n",
       "      <td>NaN</td>\n",
       "      <td>NaN</td>\n",
       "      <td>...</td>\n",
       "      <td>4615.468028</td>\n",
       "      <td>5100.095808</td>\n",
       "      <td>5254.882338</td>\n",
       "      <td>5408.410496</td>\n",
       "      <td>4166.979684</td>\n",
       "      <td>3506.072885</td>\n",
       "      <td>4095.812942</td>\n",
       "      <td>3289.646664</td>\n",
       "      <td>2973.591160</td>\n",
       "      <td>NaN</td>\n",
       "    </tr>\n",
       "    <tr>\n",
       "      <th>Albania</th>\n",
       "      <td>ALB</td>\n",
       "      <td>GDP per capita (current US$)</td>\n",
       "      <td>NY.GDP.PCAP.CD</td>\n",
       "      <td>NaN</td>\n",
       "      <td>NaN</td>\n",
       "      <td>NaN</td>\n",
       "      <td>NaN</td>\n",
       "      <td>NaN</td>\n",
       "      <td>NaN</td>\n",
       "      <td>NaN</td>\n",
       "      <td>...</td>\n",
       "      <td>4437.142885</td>\n",
       "      <td>4247.629984</td>\n",
       "      <td>4413.060861</td>\n",
       "      <td>4578.631994</td>\n",
       "      <td>3952.801215</td>\n",
       "      <td>4124.055726</td>\n",
       "      <td>4531.020806</td>\n",
       "      <td>5284.380184</td>\n",
       "      <td>5352.857411</td>\n",
       "      <td>NaN</td>\n",
       "    </tr>\n",
       "    <tr>\n",
       "      <th>Andorra</th>\n",
       "      <td>AND</td>\n",
       "      <td>GDP per capita (current US$)</td>\n",
       "      <td>NY.GDP.PCAP.CD</td>\n",
       "      <td>NaN</td>\n",
       "      <td>NaN</td>\n",
       "      <td>NaN</td>\n",
       "      <td>NaN</td>\n",
       "      <td>NaN</td>\n",
       "      <td>NaN</td>\n",
       "      <td>NaN</td>\n",
       "      <td>...</td>\n",
       "      <td>43335.328862</td>\n",
       "      <td>38686.461264</td>\n",
       "      <td>39538.766722</td>\n",
       "      <td>41303.929371</td>\n",
       "      <td>35762.523074</td>\n",
       "      <td>37474.665406</td>\n",
       "      <td>38962.880354</td>\n",
       "      <td>41793.055258</td>\n",
       "      <td>40886.391165</td>\n",
       "      <td>NaN</td>\n",
       "    </tr>\n",
       "  </tbody>\n",
       "</table>\n",
       "<p>5 rows × 64 columns</p>\n",
       "</div>"
      ],
      "text/plain": [
       "             Country Code                Indicator Name  Indicator Code  \\\n",
       "Country Name                                                              \n",
       "Aruba                 ABW  GDP per capita (current US$)  NY.GDP.PCAP.CD   \n",
       "Afghanistan           AFG  GDP per capita (current US$)  NY.GDP.PCAP.CD   \n",
       "Angola                AGO  GDP per capita (current US$)  NY.GDP.PCAP.CD   \n",
       "Albania               ALB  GDP per capita (current US$)  NY.GDP.PCAP.CD   \n",
       "Andorra               AND  GDP per capita (current US$)  NY.GDP.PCAP.CD   \n",
       "\n",
       "                   1960       1961       1962       1963       1964  \\\n",
       "Country Name                                                          \n",
       "Aruba               NaN        NaN        NaN        NaN        NaN   \n",
       "Afghanistan   59.773194  59.860874  58.458015  78.706388  82.095231   \n",
       "Angola              NaN        NaN        NaN        NaN        NaN   \n",
       "Albania             NaN        NaN        NaN        NaN        NaN   \n",
       "Andorra             NaN        NaN        NaN        NaN        NaN   \n",
       "\n",
       "                    1965        1966  ...          2011          2012  \\\n",
       "Country Name                          ...                               \n",
       "Aruba                NaN         NaN  ...  24985.993281  24713.698045   \n",
       "Afghanistan   101.108305  137.594352  ...    591.162759    641.871479   \n",
       "Angola               NaN         NaN  ...   4615.468028   5100.095808   \n",
       "Albania              NaN         NaN  ...   4437.142885   4247.629984   \n",
       "Andorra              NaN         NaN  ...  43335.328862  38686.461264   \n",
       "\n",
       "                      2013          2014          2015          2016  \\\n",
       "Country Name                                                           \n",
       "Aruba         26189.435509  26647.938101  27980.880695  28281.350482   \n",
       "Afghanistan     637.165523    613.856689    578.466353    547.228110   \n",
       "Angola         5254.882338   5408.410496   4166.979684   3506.072885   \n",
       "Albania        4413.060861   4578.631994   3952.801215   4124.055726   \n",
       "Andorra       39538.766722  41303.929371  35762.523074  37474.665406   \n",
       "\n",
       "                      2017          2018          2019  Unnamed: 64  \n",
       "Country Name                                                         \n",
       "Aruba         29007.693003           NaN           NaN          NaN  \n",
       "Afghanistan     556.302002    524.162881    502.115487          NaN  \n",
       "Angola         4095.812942   3289.646664   2973.591160          NaN  \n",
       "Albania        4531.020806   5284.380184   5352.857411          NaN  \n",
       "Andorra       38962.880354  41793.055258  40886.391165          NaN  \n",
       "\n",
       "[5 rows x 64 columns]"
      ]
     },
     "execution_count": 9,
     "metadata": {},
     "output_type": "execute_result"
    }
   ],
   "source": [
    "#check again top-five rows of the dataframe\n",
    "data.head()"
   ]
  },
  {
   "cell_type": "markdown",
   "metadata": {},
   "source": [
    "### How to delete a column? "
   ]
  },
  {
   "cell_type": "code",
   "execution_count": 12,
   "metadata": {},
   "outputs": [],
   "source": [
    "# delete Country Code, Indicator Name and Indicator Code columns\n",
    "data.drop(['Country Code', 'Indicator Name', 'Indicator Code'], axis=1, inplace=True)"
   ]
  },
  {
   "cell_type": "code",
   "execution_count": 13,
   "metadata": {},
   "outputs": [
    {
     "data": {
      "text/html": [
       "<div>\n",
       "<style scoped>\n",
       "    .dataframe tbody tr th:only-of-type {\n",
       "        vertical-align: middle;\n",
       "    }\n",
       "\n",
       "    .dataframe tbody tr th {\n",
       "        vertical-align: top;\n",
       "    }\n",
       "\n",
       "    .dataframe thead th {\n",
       "        text-align: right;\n",
       "    }\n",
       "</style>\n",
       "<table border=\"1\" class=\"dataframe\">\n",
       "  <thead>\n",
       "    <tr style=\"text-align: right;\">\n",
       "      <th></th>\n",
       "      <th>1960</th>\n",
       "      <th>1961</th>\n",
       "      <th>1962</th>\n",
       "      <th>1963</th>\n",
       "      <th>1964</th>\n",
       "      <th>1965</th>\n",
       "      <th>1966</th>\n",
       "      <th>1967</th>\n",
       "      <th>1968</th>\n",
       "      <th>1969</th>\n",
       "      <th>...</th>\n",
       "      <th>2011</th>\n",
       "      <th>2012</th>\n",
       "      <th>2013</th>\n",
       "      <th>2014</th>\n",
       "      <th>2015</th>\n",
       "      <th>2016</th>\n",
       "      <th>2017</th>\n",
       "      <th>2018</th>\n",
       "      <th>2019</th>\n",
       "      <th>Unnamed: 64</th>\n",
       "    </tr>\n",
       "    <tr>\n",
       "      <th>Country Name</th>\n",
       "      <th></th>\n",
       "      <th></th>\n",
       "      <th></th>\n",
       "      <th></th>\n",
       "      <th></th>\n",
       "      <th></th>\n",
       "      <th></th>\n",
       "      <th></th>\n",
       "      <th></th>\n",
       "      <th></th>\n",
       "      <th></th>\n",
       "      <th></th>\n",
       "      <th></th>\n",
       "      <th></th>\n",
       "      <th></th>\n",
       "      <th></th>\n",
       "      <th></th>\n",
       "      <th></th>\n",
       "      <th></th>\n",
       "      <th></th>\n",
       "      <th></th>\n",
       "    </tr>\n",
       "  </thead>\n",
       "  <tbody>\n",
       "    <tr>\n",
       "      <th>Aruba</th>\n",
       "      <td>NaN</td>\n",
       "      <td>NaN</td>\n",
       "      <td>NaN</td>\n",
       "      <td>NaN</td>\n",
       "      <td>NaN</td>\n",
       "      <td>NaN</td>\n",
       "      <td>NaN</td>\n",
       "      <td>NaN</td>\n",
       "      <td>NaN</td>\n",
       "      <td>NaN</td>\n",
       "      <td>...</td>\n",
       "      <td>24985.993281</td>\n",
       "      <td>24713.698045</td>\n",
       "      <td>26189.435509</td>\n",
       "      <td>26647.938101</td>\n",
       "      <td>27980.880695</td>\n",
       "      <td>28281.350482</td>\n",
       "      <td>29007.693003</td>\n",
       "      <td>NaN</td>\n",
       "      <td>NaN</td>\n",
       "      <td>NaN</td>\n",
       "    </tr>\n",
       "    <tr>\n",
       "      <th>Afghanistan</th>\n",
       "      <td>59.773194</td>\n",
       "      <td>59.860874</td>\n",
       "      <td>58.458015</td>\n",
       "      <td>78.706388</td>\n",
       "      <td>82.095231</td>\n",
       "      <td>101.108305</td>\n",
       "      <td>137.594352</td>\n",
       "      <td>160.898589</td>\n",
       "      <td>129.108323</td>\n",
       "      <td>129.329713</td>\n",
       "      <td>...</td>\n",
       "      <td>591.162759</td>\n",
       "      <td>641.871479</td>\n",
       "      <td>637.165523</td>\n",
       "      <td>613.856689</td>\n",
       "      <td>578.466353</td>\n",
       "      <td>547.228110</td>\n",
       "      <td>556.302002</td>\n",
       "      <td>524.162881</td>\n",
       "      <td>502.115487</td>\n",
       "      <td>NaN</td>\n",
       "    </tr>\n",
       "    <tr>\n",
       "      <th>Angola</th>\n",
       "      <td>NaN</td>\n",
       "      <td>NaN</td>\n",
       "      <td>NaN</td>\n",
       "      <td>NaN</td>\n",
       "      <td>NaN</td>\n",
       "      <td>NaN</td>\n",
       "      <td>NaN</td>\n",
       "      <td>NaN</td>\n",
       "      <td>NaN</td>\n",
       "      <td>NaN</td>\n",
       "      <td>...</td>\n",
       "      <td>4615.468028</td>\n",
       "      <td>5100.095808</td>\n",
       "      <td>5254.882338</td>\n",
       "      <td>5408.410496</td>\n",
       "      <td>4166.979684</td>\n",
       "      <td>3506.072885</td>\n",
       "      <td>4095.812942</td>\n",
       "      <td>3289.646664</td>\n",
       "      <td>2973.591160</td>\n",
       "      <td>NaN</td>\n",
       "    </tr>\n",
       "    <tr>\n",
       "      <th>Albania</th>\n",
       "      <td>NaN</td>\n",
       "      <td>NaN</td>\n",
       "      <td>NaN</td>\n",
       "      <td>NaN</td>\n",
       "      <td>NaN</td>\n",
       "      <td>NaN</td>\n",
       "      <td>NaN</td>\n",
       "      <td>NaN</td>\n",
       "      <td>NaN</td>\n",
       "      <td>NaN</td>\n",
       "      <td>...</td>\n",
       "      <td>4437.142885</td>\n",
       "      <td>4247.629984</td>\n",
       "      <td>4413.060861</td>\n",
       "      <td>4578.631994</td>\n",
       "      <td>3952.801215</td>\n",
       "      <td>4124.055726</td>\n",
       "      <td>4531.020806</td>\n",
       "      <td>5284.380184</td>\n",
       "      <td>5352.857411</td>\n",
       "      <td>NaN</td>\n",
       "    </tr>\n",
       "    <tr>\n",
       "      <th>Andorra</th>\n",
       "      <td>NaN</td>\n",
       "      <td>NaN</td>\n",
       "      <td>NaN</td>\n",
       "      <td>NaN</td>\n",
       "      <td>NaN</td>\n",
       "      <td>NaN</td>\n",
       "      <td>NaN</td>\n",
       "      <td>NaN</td>\n",
       "      <td>NaN</td>\n",
       "      <td>NaN</td>\n",
       "      <td>...</td>\n",
       "      <td>43335.328862</td>\n",
       "      <td>38686.461264</td>\n",
       "      <td>39538.766722</td>\n",
       "      <td>41303.929371</td>\n",
       "      <td>35762.523074</td>\n",
       "      <td>37474.665406</td>\n",
       "      <td>38962.880354</td>\n",
       "      <td>41793.055258</td>\n",
       "      <td>40886.391165</td>\n",
       "      <td>NaN</td>\n",
       "    </tr>\n",
       "  </tbody>\n",
       "</table>\n",
       "<p>5 rows × 61 columns</p>\n",
       "</div>"
      ],
      "text/plain": [
       "                   1960       1961       1962       1963       1964  \\\n",
       "Country Name                                                          \n",
       "Aruba               NaN        NaN        NaN        NaN        NaN   \n",
       "Afghanistan   59.773194  59.860874  58.458015  78.706388  82.095231   \n",
       "Angola              NaN        NaN        NaN        NaN        NaN   \n",
       "Albania             NaN        NaN        NaN        NaN        NaN   \n",
       "Andorra             NaN        NaN        NaN        NaN        NaN   \n",
       "\n",
       "                    1965        1966        1967        1968        1969  ...  \\\n",
       "Country Name                                                              ...   \n",
       "Aruba                NaN         NaN         NaN         NaN         NaN  ...   \n",
       "Afghanistan   101.108305  137.594352  160.898589  129.108323  129.329713  ...   \n",
       "Angola               NaN         NaN         NaN         NaN         NaN  ...   \n",
       "Albania              NaN         NaN         NaN         NaN         NaN  ...   \n",
       "Andorra              NaN         NaN         NaN         NaN         NaN  ...   \n",
       "\n",
       "                      2011          2012          2013          2014  \\\n",
       "Country Name                                                           \n",
       "Aruba         24985.993281  24713.698045  26189.435509  26647.938101   \n",
       "Afghanistan     591.162759    641.871479    637.165523    613.856689   \n",
       "Angola         4615.468028   5100.095808   5254.882338   5408.410496   \n",
       "Albania        4437.142885   4247.629984   4413.060861   4578.631994   \n",
       "Andorra       43335.328862  38686.461264  39538.766722  41303.929371   \n",
       "\n",
       "                      2015          2016          2017          2018  \\\n",
       "Country Name                                                           \n",
       "Aruba         27980.880695  28281.350482  29007.693003           NaN   \n",
       "Afghanistan     578.466353    547.228110    556.302002    524.162881   \n",
       "Angola         4166.979684   3506.072885   4095.812942   3289.646664   \n",
       "Albania        3952.801215   4124.055726   4531.020806   5284.380184   \n",
       "Andorra       35762.523074  37474.665406  38962.880354  41793.055258   \n",
       "\n",
       "                      2019  Unnamed: 64  \n",
       "Country Name                             \n",
       "Aruba                  NaN          NaN  \n",
       "Afghanistan     502.115487          NaN  \n",
       "Angola         2973.591160          NaN  \n",
       "Albania        5352.857411          NaN  \n",
       "Andorra       40886.391165          NaN  \n",
       "\n",
       "[5 rows x 61 columns]"
      ]
     },
     "execution_count": 13,
     "metadata": {},
     "output_type": "execute_result"
    }
   ],
   "source": [
    "# check the dataframe\n",
    "data.head()"
   ]
  },
  {
   "cell_type": "markdown",
   "metadata": {},
   "source": [
    "### get data for Italy "
   ]
  },
  {
   "cell_type": "code",
   "execution_count": 14,
   "metadata": {},
   "outputs": [],
   "source": [
    "#loc is to find in rows in index\n",
    "italy=data.loc['Italy']"
   ]
  },
  {
   "cell_type": "code",
   "execution_count": 15,
   "metadata": {},
   "outputs": [
    {
     "data": {
      "text/plain": [
       "pandas.core.series.Series"
      ]
     },
     "execution_count": 15,
     "metadata": {},
     "output_type": "execute_result"
    }
   ],
   "source": [
    "type(italy)"
   ]
  },
  {
   "cell_type": "code",
   "execution_count": 17,
   "metadata": {},
   "outputs": [
    {
     "data": {
      "text/plain": [
       "1960             804.492623\n",
       "1961             887.336745\n",
       "1962             990.260152\n",
       "1963            1126.019337\n",
       "1964            1222.544540\n",
       "                   ...     \n",
       "2016           30939.714246\n",
       "2017           32406.720315\n",
       "2018           34520.085162\n",
       "2019           33189.565799\n",
       "Unnamed: 64             NaN\n",
       "Name: Italy, Length: 61, dtype: float64"
      ]
     },
     "execution_count": 17,
     "metadata": {},
     "output_type": "execute_result"
    }
   ],
   "source": [
    "# get italy's gdp per capita for 2019\n",
    "italy"
   ]
  },
  {
   "cell_type": "code",
   "execution_count": 18,
   "metadata": {},
   "outputs": [
    {
     "data": {
      "text/plain": [
       "2016           30939.714246\n",
       "2017           32406.720315\n",
       "2018           34520.085162\n",
       "2019           33189.565799\n",
       "Unnamed: 64             NaN\n",
       "Name: Italy, dtype: float64"
      ]
     },
     "execution_count": 18,
     "metadata": {},
     "output_type": "execute_result"
    }
   ],
   "source": [
    "italy.tail()"
   ]
  },
  {
   "cell_type": "code",
   "execution_count": 16,
   "metadata": {},
   "outputs": [
    {
     "data": {
      "text/plain": [
       "Index(['aruba', 'afghanistan', 'angola', 'albania', 'andorra', 'arab world',\n",
       "       'united arab emirates', 'argentina', 'armenia', 'american samoa',\n",
       "       ...\n",
       "       'virgin islands (u.s.)', 'vietnam', 'vanuatu', 'world', 'samoa',\n",
       "       'kosovo', 'yemen, rep.', 'south africa', 'zambia', 'zimbabwe'],\n",
       "      dtype='object', name='Country Name', length=264)"
      ]
     },
     "execution_count": 16,
     "metadata": {},
     "output_type": "execute_result"
    }
   ],
   "source": [
    "#changing index str to a function\n",
    "#data.index=data.index.str.lower()"
   ]
  },
  {
   "cell_type": "code",
   "execution_count": null,
   "metadata": {},
   "outputs": [],
   "source": []
  },
  {
   "cell_type": "markdown",
   "metadata": {},
   "source": [
    "### Find the year that italy has the highest increase of gdb per capita "
   ]
  },
  {
   "cell_type": "markdown",
   "metadata": {},
   "source": [
    "- Calculate the yearly percentage increase compared to previous year \n",
    "- find the year that has highest increase in terms of percentage."
   ]
  },
  {
   "cell_type": "markdown",
   "metadata": {},
   "source": [
    "calculate the yearly change in percentage"
   ]
  },
  {
   "cell_type": "code",
   "execution_count": 19,
   "metadata": {},
   "outputs": [],
   "source": [
    "italy_pct_change=italy.pct_change()#change from previous year"
   ]
  },
  {
   "cell_type": "code",
   "execution_count": 22,
   "metadata": {},
   "outputs": [],
   "source": [
    "# multiply italy_pct_change by 100\n",
    "italy_pct_change=italy_pct_change*100"
   ]
  },
  {
   "cell_type": "code",
   "execution_count": 23,
   "metadata": {},
   "outputs": [
    {
     "data": {
      "text/plain": [
       "1960                 NaN\n",
       "1961           10.297686\n",
       "1962           11.599137\n",
       "1963           13.709446\n",
       "1964            8.572251\n",
       "                 ...    \n",
       "2016            2.346949\n",
       "2017            4.741498\n",
       "2018            6.521378\n",
       "2019           -3.854334\n",
       "Unnamed: 64     0.000000\n",
       "Name: Italy, Length: 61, dtype: float64"
      ]
     },
     "execution_count": 23,
     "metadata": {},
     "output_type": "execute_result"
    }
   ],
   "source": [
    "italy_pct_change"
   ]
  },
  {
   "cell_type": "code",
   "execution_count": 25,
   "metadata": {},
   "outputs": [],
   "source": [
    "pd.options.display.max_rows=None #shows more than 5 head and tails above"
   ]
  },
  {
   "cell_type": "code",
   "execution_count": 26,
   "metadata": {},
   "outputs": [
    {
     "data": {
      "text/plain": [
       "1960                 NaN\n",
       "1961           10.297686\n",
       "1962           11.599137\n",
       "1963           13.709446\n",
       "1964            8.572251\n",
       "1965            6.699901\n",
       "1966            7.511844\n",
       "1967            9.358711\n",
       "1968            7.709920\n",
       "1969            9.773285\n",
       "1970           16.183840\n",
       "1971            9.433254\n",
       "1972           15.853834\n",
       "1973           19.995781\n",
       "1974           12.975384\n",
       "1975           13.416969\n",
       "1976           -1.799235\n",
       "1977           14.145457\n",
       "1978           21.871980\n",
       "1979           24.592962\n",
       "1980           20.981019\n",
       "1981           -9.862760\n",
       "1982           -0.869885\n",
       "1983            3.653161\n",
       "1984           -1.185563\n",
       "1985            3.242642\n",
       "1986           41.602540\n",
       "1987           25.803885\n",
       "1988           10.607386\n",
       "1989            4.077579\n",
       "1990           27.089849\n",
       "1991            5.429546\n",
       "1992            5.861331\n",
       "1993          -19.380539\n",
       "1994            3.195873\n",
       "1995            6.861861\n",
       "1996           11.696612\n",
       "1997           -5.425354\n",
       "1998            2.239149\n",
       "1999           -1.436110\n",
       "2000           -8.682903\n",
       "2001            1.969494\n",
       "2002            8.723865\n",
       "2003           23.329580\n",
       "2004           13.813755\n",
       "2005            2.506177\n",
       "2006            4.551732\n",
       "2007           12.897890\n",
       "2008            7.814567\n",
       "2009           -9.069972\n",
       "2010           -2.910587\n",
       "2011            7.218068\n",
       "2012           -9.185549\n",
       "2013            1.416258\n",
       "2014           -0.088775\n",
       "2015          -14.888584\n",
       "2016            2.346949\n",
       "2017            4.741498\n",
       "2018            6.521378\n",
       "2019           -3.854334\n",
       "Unnamed: 64     0.000000\n",
       "Name: Italy, dtype: float64"
      ]
     },
     "execution_count": 26,
     "metadata": {},
     "output_type": "execute_result"
    }
   ],
   "source": [
    "italy_pct_change"
   ]
  },
  {
   "cell_type": "markdown",
   "metadata": {},
   "source": [
    "find the year that has highest change"
   ]
  },
  {
   "cell_type": "code",
   "execution_count": 29,
   "metadata": {},
   "outputs": [
    {
     "data": {
      "text/plain": [
       "'1986'"
      ]
     },
     "execution_count": 29,
     "metadata": {},
     "output_type": "execute_result"
    }
   ],
   "source": [
    "italy_pct_change.idxmax() #returns the index of the max value"
   ]
  },
  {
   "cell_type": "code",
   "execution_count": 31,
   "metadata": {},
   "outputs": [
    {
     "data": {
      "text/plain": [
       "41.60254037779829"
      ]
     },
     "execution_count": 31,
     "metadata": {},
     "output_type": "execute_result"
    }
   ],
   "source": [
    "italy_pct_change.max() #returns max pct"
   ]
  },
  {
   "cell_type": "code",
   "execution_count": 32,
   "metadata": {},
   "outputs": [
    {
     "data": {
      "text/plain": [
       "-19.380538955524628"
      ]
     },
     "execution_count": 32,
     "metadata": {},
     "output_type": "execute_result"
    }
   ],
   "source": [
    "italy_pct_change.min()"
   ]
  },
  {
   "cell_type": "code",
   "execution_count": 33,
   "metadata": {},
   "outputs": [
    {
     "data": {
      "text/plain": [
       "1986    41.602540\n",
       "1990    27.089849\n",
       "1987    25.803885\n",
       "1979    24.592962\n",
       "2003    23.329580\n",
       "Name: Italy, dtype: float64"
      ]
     },
     "execution_count": 33,
     "metadata": {},
     "output_type": "execute_result"
    }
   ],
   "source": [
    "italy_pct_change.nlargest(5)#top 5 of largest pct change"
   ]
  },
  {
   "cell_type": "markdown",
   "metadata": {},
   "source": [
    "### Find the years that GDP per capita decreased compared to the previous year."
   ]
  },
  {
   "cell_type": "code",
   "execution_count": null,
   "metadata": {},
   "outputs": [],
   "source": [
    "italy_negative=italy_pct_change"
   ]
  },
  {
   "cell_type": "code",
   "execution_count": null,
   "metadata": {},
   "outputs": [],
   "source": [
    "italy_negative"
   ]
  },
  {
   "cell_type": "code",
   "execution_count": null,
   "metadata": {},
   "outputs": [],
   "source": [
    "# get only years\n",
    "italy_negative"
   ]
  },
  {
   "cell_type": "markdown",
   "metadata": {},
   "source": [
    "## Find the year that GDP per capita of the world increased the most compared to previous year "
   ]
  },
  {
   "cell_type": "code",
   "execution_count": null,
   "metadata": {
    "scrolled": true
   },
   "outputs": [],
   "source": [
    "data.head()"
   ]
  },
  {
   "cell_type": "code",
   "execution_count": null,
   "metadata": {},
   "outputs": [],
   "source": [
    "# first get the data for world\n",
    "# there is an index named World\n",
    "world=data."
   ]
  },
  {
   "cell_type": "code",
   "execution_count": null,
   "metadata": {},
   "outputs": [],
   "source": [
    "# now find the year that has highest increase in percentange\n",
    "world"
   ]
  },
  {
   "cell_type": "markdown",
   "metadata": {},
   "source": [
    "## find top 10 years that have highest standart deviation"
   ]
  },
  {
   "cell_type": "code",
   "execution_count": null,
   "metadata": {
    "scrolled": true
   },
   "outputs": [],
   "source": [
    "data.head()"
   ]
  },
  {
   "cell_type": "code",
   "execution_count": null,
   "metadata": {},
   "outputs": [],
   "source": [
    "# first calculate standart deviation for each year\n",
    "data_std=data."
   ]
  },
  {
   "cell_type": "code",
   "execution_count": null,
   "metadata": {
    "scrolled": true
   },
   "outputs": [],
   "source": [
    "data_std"
   ]
  },
  {
   "cell_type": "code",
   "execution_count": null,
   "metadata": {
    "scrolled": true
   },
   "outputs": [],
   "source": [
    "# now top-10 years having the hightest standart deviation\n",
    "data_std."
   ]
  },
  {
   "cell_type": "markdown",
   "metadata": {},
   "source": [
    "### Which country has the highest gdp_per_capita in 2019? "
   ]
  },
  {
   "cell_type": "code",
   "execution_count": null,
   "metadata": {},
   "outputs": [],
   "source": [
    "data.head()"
   ]
  },
  {
   "cell_type": "code",
   "execution_count": null,
   "metadata": {},
   "outputs": [],
   "source": [
    "# get the data for the year 2019\n",
    "data_2019=data"
   ]
  },
  {
   "cell_type": "code",
   "execution_count": null,
   "metadata": {},
   "outputs": [],
   "source": [
    "data_2019"
   ]
  },
  {
   "cell_type": "code",
   "execution_count": null,
   "metadata": {},
   "outputs": [],
   "source": [
    "# now get the country\n",
    "data_2019."
   ]
  },
  {
   "cell_type": "markdown",
   "metadata": {},
   "source": [
    "# Rank of Luxembourg"
   ]
  },
  {
   "cell_type": "markdown",
   "metadata": {},
   "source": [
    "find the rank of Luxembourg each year"
   ]
  },
  {
   "cell_type": "code",
   "execution_count": null,
   "metadata": {},
   "outputs": [],
   "source": [
    "# calculate the rank of each country for each year\n",
    "data_rank=data."
   ]
  },
  {
   "cell_type": "code",
   "execution_count": null,
   "metadata": {},
   "outputs": [],
   "source": [
    "data_rank"
   ]
  },
  {
   "cell_type": "code",
   "execution_count": null,
   "metadata": {},
   "outputs": [],
   "source": [
    "# now get the rank of Luxembourg\n",
    "lux_rank=data_rank."
   ]
  },
  {
   "cell_type": "code",
   "execution_count": null,
   "metadata": {},
   "outputs": [],
   "source": [
    "# plot the rank of luxembourg\n",
    "lux_rank."
   ]
  },
  {
   "cell_type": "code",
   "execution_count": null,
   "metadata": {},
   "outputs": [],
   "source": [
    "# print the years where Luxembourg ranks top\n",
    "lux_rank"
   ]
  },
  {
   "cell_type": "code",
   "execution_count": null,
   "metadata": {},
   "outputs": [],
   "source": []
  }
 ],
 "metadata": {
  "kernelspec": {
   "display_name": "Python 3",
   "language": "python",
   "name": "python3"
  },
  "language_info": {
   "codemirror_mode": {
    "name": "ipython",
    "version": 3
   },
   "file_extension": ".py",
   "mimetype": "text/x-python",
   "name": "python",
   "nbconvert_exporter": "python",
   "pygments_lexer": "ipython3",
   "version": "3.8.5"
  }
 },
 "nbformat": 4,
 "nbformat_minor": 2
}
