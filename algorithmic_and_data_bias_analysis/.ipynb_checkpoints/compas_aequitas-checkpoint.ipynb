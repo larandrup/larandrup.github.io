{
 "cells": [
  {
   "cell_type": "code",
   "execution_count": null,
   "metadata": {},
   "outputs": [],
   "source": [
    "!pip install aequitas\n",
    "import pandas as pd\n",
    "import numpy as np\n",
    "import matplotlib.pyplot as plt\n",
    "import seaborn as sns\n",
    "from sklearn.preprocessing import OneHotEncoder\n",
    "from aequitas.group import Group\n",
    "from aequitas.bias import Bias\n",
    "from aequitas.fairness import Fairness\n",
    "import aequitas.plot as ap"
   ]
  },
  {
   "cell_type": "markdown",
   "metadata": {},
   "source": [
    "# Predicting Recidivism"
   ]
  },
  {
   "cell_type": "markdown",
   "metadata": {},
   "source": [
    "**Context**\n",
    "\n",
    "Recent works in the Machine Learning community has raised concerns about the risk of unintentional bias in Algorithmic Decision-Making systems, affecting individuals unfairly. This project is inspired by COMPAS (Correctional Offender Management Profiling for Alternative Sanctions) which is a popular commercial algorithm used by judges and parole officers for scoring criminal defendant’s likelihood of reoffending (recidivism). It has been shown that the algorithm is biased in favor of white defendants, and against black inmates. In this project we intend to analyze the same data that ProPublica, a nonprofit organization, used for analysing COMPAS and investigate how bias occurs by creating machinge learning models that predicts recidivism and anaylzing their disparity ratio.\n",
    "\n",
    "\n",
    "\n",
    "**Data**\n",
    "\n",
    "The dataset in this project was resourced from a compas.db - a sqlite3 database that was extracted a csv file with combined relavant tables. It contains criminal history, jail and prison time, demographics and COMPAS risk scores for over 10,000 inmates from Broward County, FL from 2013-2014."
   ]
  },
  {
   "cell_type": "markdown",
   "metadata": {
    "id": "bI2D7RjzkNX1"
   },
   "source": [
    "# Data Loading and Cleaning"
   ]
  },
  {
   "cell_type": "code",
   "execution_count": 4,
   "metadata": {
    "executionInfo": {
     "elapsed": 564,
     "status": "ok",
     "timestamp": 1616510447411,
     "user": {
      "displayName": "L.A. Randrup",
      "photoUrl": "https://lh3.googleusercontent.com/a-/AOh14GhrT_ewqOmImZ3FHgJt4jxnRah6I3vNx3ogEvdC2w=s64",
      "userId": "17880013496629414915"
     },
     "user_tz": 420
    },
    "id": "dZ_T9TXSzImH"
   },
   "outputs": [],
   "source": [
    "#Load data after SQLite extraction\n",
    "compas_raw = pd.read_csv('compas.csv').drop(columns='Unnamed: 0') "
   ]
  },
  {
   "cell_type": "code",
   "execution_count": 5,
   "metadata": {
    "colab": {
     "base_uri": "https://localhost:8080/",
     "height": 400
    },
    "executionInfo": {
     "elapsed": 3353,
     "status": "ok",
     "timestamp": 1616510452558,
     "user": {
      "displayName": "L.A. Randrup",
      "photoUrl": "https://lh3.googleusercontent.com/a-/AOh14GhrT_ewqOmImZ3FHgJt4jxnRah6I3vNx3ogEvdC2w=s64",
      "userId": "17880013496629414915"
     },
     "user_tz": 420
    },
    "id": "VXswe3ZrkNX3",
    "outputId": "c57f5f35-2ff2-4017-fb69-1b796e943294",
    "scrolled": true
   },
   "outputs": [
    {
     "data": {
      "text/html": [
       "<div>\n",
       "<style scoped>\n",
       "    .dataframe tbody tr th:only-of-type {\n",
       "        vertical-align: middle;\n",
       "    }\n",
       "\n",
       "    .dataframe tbody tr th {\n",
       "        vertical-align: top;\n",
       "    }\n",
       "\n",
       "    .dataframe thead th {\n",
       "        text-align: right;\n",
       "    }\n",
       "</style>\n",
       "<table border=\"1\" class=\"dataframe\">\n",
       "  <thead>\n",
       "    <tr style=\"text-align: right;\">\n",
       "      <th></th>\n",
       "      <th>id</th>\n",
       "      <th>name</th>\n",
       "      <th>first</th>\n",
       "      <th>last</th>\n",
       "      <th>sex</th>\n",
       "      <th>race</th>\n",
       "      <th>dob</th>\n",
       "      <th>age</th>\n",
       "      <th>age_cat</th>\n",
       "      <th>juv_fel_count</th>\n",
       "      <th>...</th>\n",
       "      <th>marital_status</th>\n",
       "      <th>screening_date</th>\n",
       "      <th>rec_supervision_level</th>\n",
       "      <th>rec_supervision_level_text</th>\n",
       "      <th>score_text_y</th>\n",
       "      <th>scale_id</th>\n",
       "      <th>type_of_assessment</th>\n",
       "      <th>raw_score</th>\n",
       "      <th>decile_score_y</th>\n",
       "      <th>person_id</th>\n",
       "    </tr>\n",
       "  </thead>\n",
       "  <tbody>\n",
       "    <tr>\n",
       "      <th>0</th>\n",
       "      <td>1</td>\n",
       "      <td>miguel hernandez</td>\n",
       "      <td>miguel</td>\n",
       "      <td>hernandez</td>\n",
       "      <td>Male</td>\n",
       "      <td>Other</td>\n",
       "      <td>1947-04-18 00:00:00.000000</td>\n",
       "      <td>69</td>\n",
       "      <td>Greater than 45</td>\n",
       "      <td>0</td>\n",
       "      <td>...</td>\n",
       "      <td>Single</td>\n",
       "      <td>2013-08-14 00:00:00.000000</td>\n",
       "      <td>1</td>\n",
       "      <td>Low</td>\n",
       "      <td>Low</td>\n",
       "      <td>7</td>\n",
       "      <td>Risk of Violence</td>\n",
       "      <td>-4.31</td>\n",
       "      <td>1</td>\n",
       "      <td>1</td>\n",
       "    </tr>\n",
       "    <tr>\n",
       "      <th>1</th>\n",
       "      <td>1</td>\n",
       "      <td>miguel hernandez</td>\n",
       "      <td>miguel</td>\n",
       "      <td>hernandez</td>\n",
       "      <td>Male</td>\n",
       "      <td>Other</td>\n",
       "      <td>1947-04-18 00:00:00.000000</td>\n",
       "      <td>69</td>\n",
       "      <td>Greater than 45</td>\n",
       "      <td>0</td>\n",
       "      <td>...</td>\n",
       "      <td>Single</td>\n",
       "      <td>2013-08-14 00:00:00.000000</td>\n",
       "      <td>1</td>\n",
       "      <td>Low</td>\n",
       "      <td>Low</td>\n",
       "      <td>8</td>\n",
       "      <td>Risk of Recidivism</td>\n",
       "      <td>-2.78</td>\n",
       "      <td>1</td>\n",
       "      <td>1</td>\n",
       "    </tr>\n",
       "    <tr>\n",
       "      <th>2</th>\n",
       "      <td>1</td>\n",
       "      <td>miguel hernandez</td>\n",
       "      <td>miguel</td>\n",
       "      <td>hernandez</td>\n",
       "      <td>Male</td>\n",
       "      <td>Other</td>\n",
       "      <td>1947-04-18 00:00:00.000000</td>\n",
       "      <td>69</td>\n",
       "      <td>Greater than 45</td>\n",
       "      <td>0</td>\n",
       "      <td>...</td>\n",
       "      <td>Single</td>\n",
       "      <td>2013-08-14 00:00:00.000000</td>\n",
       "      <td>1</td>\n",
       "      <td>Low</td>\n",
       "      <td>Low</td>\n",
       "      <td>18</td>\n",
       "      <td>Risk of Failure to Appear</td>\n",
       "      <td>13.00</td>\n",
       "      <td>1</td>\n",
       "      <td>1</td>\n",
       "    </tr>\n",
       "    <tr>\n",
       "      <th>3</th>\n",
       "      <td>1</td>\n",
       "      <td>miguel hernandez</td>\n",
       "      <td>miguel</td>\n",
       "      <td>hernandez</td>\n",
       "      <td>Male</td>\n",
       "      <td>Other</td>\n",
       "      <td>1947-04-18 00:00:00.000000</td>\n",
       "      <td>69</td>\n",
       "      <td>Greater than 45</td>\n",
       "      <td>0</td>\n",
       "      <td>...</td>\n",
       "      <td>Single</td>\n",
       "      <td>2013-08-14 00:00:00.000000</td>\n",
       "      <td>1</td>\n",
       "      <td>Low</td>\n",
       "      <td>Low</td>\n",
       "      <td>7</td>\n",
       "      <td>Risk of Violence</td>\n",
       "      <td>-4.31</td>\n",
       "      <td>1</td>\n",
       "      <td>1</td>\n",
       "    </tr>\n",
       "    <tr>\n",
       "      <th>4</th>\n",
       "      <td>1</td>\n",
       "      <td>miguel hernandez</td>\n",
       "      <td>miguel</td>\n",
       "      <td>hernandez</td>\n",
       "      <td>Male</td>\n",
       "      <td>Other</td>\n",
       "      <td>1947-04-18 00:00:00.000000</td>\n",
       "      <td>69</td>\n",
       "      <td>Greater than 45</td>\n",
       "      <td>0</td>\n",
       "      <td>...</td>\n",
       "      <td>Single</td>\n",
       "      <td>2013-08-14 00:00:00.000000</td>\n",
       "      <td>1</td>\n",
       "      <td>Low</td>\n",
       "      <td>Low</td>\n",
       "      <td>8</td>\n",
       "      <td>Risk of Recidivism</td>\n",
       "      <td>-2.78</td>\n",
       "      <td>1</td>\n",
       "      <td>1</td>\n",
       "    </tr>\n",
       "  </tbody>\n",
       "</table>\n",
       "<p>5 rows × 62 columns</p>\n",
       "</div>"
      ],
      "text/plain": [
       "   id              name   first       last   sex   race  \\\n",
       "0   1  miguel hernandez  miguel  hernandez  Male  Other   \n",
       "1   1  miguel hernandez  miguel  hernandez  Male  Other   \n",
       "2   1  miguel hernandez  miguel  hernandez  Male  Other   \n",
       "3   1  miguel hernandez  miguel  hernandez  Male  Other   \n",
       "4   1  miguel hernandez  miguel  hernandez  Male  Other   \n",
       "\n",
       "                          dob  age          age_cat  juv_fel_count  ...  \\\n",
       "0  1947-04-18 00:00:00.000000   69  Greater than 45              0  ...   \n",
       "1  1947-04-18 00:00:00.000000   69  Greater than 45              0  ...   \n",
       "2  1947-04-18 00:00:00.000000   69  Greater than 45              0  ...   \n",
       "3  1947-04-18 00:00:00.000000   69  Greater than 45              0  ...   \n",
       "4  1947-04-18 00:00:00.000000   69  Greater than 45              0  ...   \n",
       "\n",
       "   marital_status              screening_date rec_supervision_level  \\\n",
       "0          Single  2013-08-14 00:00:00.000000                     1   \n",
       "1          Single  2013-08-14 00:00:00.000000                     1   \n",
       "2          Single  2013-08-14 00:00:00.000000                     1   \n",
       "3          Single  2013-08-14 00:00:00.000000                     1   \n",
       "4          Single  2013-08-14 00:00:00.000000                     1   \n",
       "\n",
       "   rec_supervision_level_text  score_text_y  scale_id  \\\n",
       "0                         Low           Low         7   \n",
       "1                         Low           Low         8   \n",
       "2                         Low           Low        18   \n",
       "3                         Low           Low         7   \n",
       "4                         Low           Low         8   \n",
       "\n",
       "          type_of_assessment  raw_score decile_score_y person_id  \n",
       "0           Risk of Violence      -4.31              1         1  \n",
       "1         Risk of Recidivism      -2.78              1         1  \n",
       "2  Risk of Failure to Appear      13.00              1         1  \n",
       "3           Risk of Violence      -4.31              1         1  \n",
       "4         Risk of Recidivism      -2.78              1         1  \n",
       "\n",
       "[5 rows x 62 columns]"
      ]
     },
     "execution_count": 5,
     "metadata": {},
     "output_type": "execute_result"
    }
   ],
   "source": [
    "compas_raw.head()"
   ]
  },
  {
   "cell_type": "code",
   "execution_count": 6,
   "metadata": {
    "executionInfo": {
     "elapsed": 320,
     "status": "ok",
     "timestamp": 1616510452799,
     "user": {
      "displayName": "L.A. Randrup",
      "photoUrl": "https://lh3.googleusercontent.com/a-/AOh14GhrT_ewqOmImZ3FHgJt4jxnRah6I3vNx3ogEvdC2w=s64",
      "userId": "17880013496629414915"
     },
     "user_tz": 420
    },
    "id": "yqrz0WmHkNX9"
   },
   "outputs": [],
   "source": [
    "# drop columns\n",
    "compas_raw = compas_raw.drop(columns=['name', 'first', 'last', 'dob', 'age_cat', 'compas_screening_date', \n",
    "                              'decile_score_x', 'score_text_x', 'days_b_screening_arrest',\n",
    "                              'c_case_number', 'c_days_from_compas', 'r_days_from_arrest',\n",
    "                              'vr_case_number', 'person_id_x', 'in_custody_y', 'out_custody_y',\n",
    "                              'person_id_y', 'agency_text', 'scale_set', 'assessment_reason', \n",
    "                              'legal_status', 'screening_date', 'score_text_y', 'scale_id', \n",
    "                              'type_of_assessment', 'person_id', 'violent_recid', 'num_vr_cases',\n",
    "                              'r_case_number', 'c_charge_desc', 'r_charge_desc', 'vr_charge_desc', \n",
    "                              'rec_supervision_level_text', 'num_r_cases', 'r_charge_degree', 'c_arrest_date',\n",
    "                              'c_offense_date', 'r_offense_date', 'r_jail_in', 'r_jail_out', 'is_violent_recid',\n",
    "                              'vr_charge_degree', 'vr_offense_date'])\n",
    "\n",
    "# rename columns\n",
    "compas_raw = compas_raw.rename(columns={'in_custody_x': 'in_custody', 'out_custody_x': 'out_custody',\n",
    "                                'c_jail_in': 'jail_in', 'c_jail_out': 'jail_out',\n",
    "                                'c_charge_degree': 'charge_degree', 'decile_score_y': 'decile_score'})"
   ]
  },
  {
   "cell_type": "code",
   "execution_count": 7,
   "metadata": {
    "id": "cths4VqEkNX-",
    "outputId": "f3ab0090-ef04-4290-9b91-54fafa0bb103"
   },
   "outputs": [
    {
     "data": {
      "text/html": [
       "<div>\n",
       "<style scoped>\n",
       "    .dataframe tbody tr th:only-of-type {\n",
       "        vertical-align: middle;\n",
       "    }\n",
       "\n",
       "    .dataframe tbody tr th {\n",
       "        vertical-align: top;\n",
       "    }\n",
       "\n",
       "    .dataframe thead th {\n",
       "        text-align: right;\n",
       "    }\n",
       "</style>\n",
       "<table border=\"1\" class=\"dataframe\">\n",
       "  <thead>\n",
       "    <tr style=\"text-align: right;\">\n",
       "      <th></th>\n",
       "      <th>id</th>\n",
       "      <th>sex</th>\n",
       "      <th>race</th>\n",
       "      <th>age</th>\n",
       "      <th>juv_fel_count</th>\n",
       "      <th>juv_misd_count</th>\n",
       "      <th>juv_other_count</th>\n",
       "      <th>priors_count</th>\n",
       "      <th>jail_in</th>\n",
       "      <th>jail_out</th>\n",
       "      <th>charge_degree</th>\n",
       "      <th>is_recid</th>\n",
       "      <th>in_custody</th>\n",
       "      <th>out_custody</th>\n",
       "      <th>custody_status</th>\n",
       "      <th>marital_status</th>\n",
       "      <th>rec_supervision_level</th>\n",
       "      <th>raw_score</th>\n",
       "      <th>decile_score</th>\n",
       "    </tr>\n",
       "  </thead>\n",
       "  <tbody>\n",
       "    <tr>\n",
       "      <th>0</th>\n",
       "      <td>1</td>\n",
       "      <td>Male</td>\n",
       "      <td>Other</td>\n",
       "      <td>69</td>\n",
       "      <td>0</td>\n",
       "      <td>0</td>\n",
       "      <td>0</td>\n",
       "      <td>0</td>\n",
       "      <td>2013-08-13 06:03:42</td>\n",
       "      <td>2013-08-14 05:41:20</td>\n",
       "      <td>(F3)</td>\n",
       "      <td>0</td>\n",
       "      <td>2013-08-13 06:03:42.000000</td>\n",
       "      <td>2013-08-14 05:41:20.000000</td>\n",
       "      <td>Jail Inmate</td>\n",
       "      <td>Single</td>\n",
       "      <td>1</td>\n",
       "      <td>-4.31</td>\n",
       "      <td>1</td>\n",
       "    </tr>\n",
       "    <tr>\n",
       "      <th>1</th>\n",
       "      <td>1</td>\n",
       "      <td>Male</td>\n",
       "      <td>Other</td>\n",
       "      <td>69</td>\n",
       "      <td>0</td>\n",
       "      <td>0</td>\n",
       "      <td>0</td>\n",
       "      <td>0</td>\n",
       "      <td>2013-08-13 06:03:42</td>\n",
       "      <td>2013-08-14 05:41:20</td>\n",
       "      <td>(F3)</td>\n",
       "      <td>0</td>\n",
       "      <td>2013-08-13 06:03:42.000000</td>\n",
       "      <td>2013-08-14 05:41:20.000000</td>\n",
       "      <td>Jail Inmate</td>\n",
       "      <td>Single</td>\n",
       "      <td>1</td>\n",
       "      <td>-2.78</td>\n",
       "      <td>1</td>\n",
       "    </tr>\n",
       "    <tr>\n",
       "      <th>2</th>\n",
       "      <td>1</td>\n",
       "      <td>Male</td>\n",
       "      <td>Other</td>\n",
       "      <td>69</td>\n",
       "      <td>0</td>\n",
       "      <td>0</td>\n",
       "      <td>0</td>\n",
       "      <td>0</td>\n",
       "      <td>2013-08-13 06:03:42</td>\n",
       "      <td>2013-08-14 05:41:20</td>\n",
       "      <td>(F3)</td>\n",
       "      <td>0</td>\n",
       "      <td>2013-08-13 06:03:42.000000</td>\n",
       "      <td>2013-08-14 05:41:20.000000</td>\n",
       "      <td>Jail Inmate</td>\n",
       "      <td>Single</td>\n",
       "      <td>1</td>\n",
       "      <td>13.00</td>\n",
       "      <td>1</td>\n",
       "    </tr>\n",
       "    <tr>\n",
       "      <th>3</th>\n",
       "      <td>1</td>\n",
       "      <td>Male</td>\n",
       "      <td>Other</td>\n",
       "      <td>69</td>\n",
       "      <td>0</td>\n",
       "      <td>0</td>\n",
       "      <td>0</td>\n",
       "      <td>0</td>\n",
       "      <td>2013-08-13 06:03:42</td>\n",
       "      <td>2013-08-14 05:41:20</td>\n",
       "      <td>(F3)</td>\n",
       "      <td>0</td>\n",
       "      <td>2014-07-07 09:26:12.000000</td>\n",
       "      <td>2014-07-14 08:24:15.000000</td>\n",
       "      <td>Jail Inmate</td>\n",
       "      <td>Single</td>\n",
       "      <td>1</td>\n",
       "      <td>-4.31</td>\n",
       "      <td>1</td>\n",
       "    </tr>\n",
       "    <tr>\n",
       "      <th>4</th>\n",
       "      <td>1</td>\n",
       "      <td>Male</td>\n",
       "      <td>Other</td>\n",
       "      <td>69</td>\n",
       "      <td>0</td>\n",
       "      <td>0</td>\n",
       "      <td>0</td>\n",
       "      <td>0</td>\n",
       "      <td>2013-08-13 06:03:42</td>\n",
       "      <td>2013-08-14 05:41:20</td>\n",
       "      <td>(F3)</td>\n",
       "      <td>0</td>\n",
       "      <td>2014-07-07 09:26:12.000000</td>\n",
       "      <td>2014-07-14 08:24:15.000000</td>\n",
       "      <td>Jail Inmate</td>\n",
       "      <td>Single</td>\n",
       "      <td>1</td>\n",
       "      <td>-2.78</td>\n",
       "      <td>1</td>\n",
       "    </tr>\n",
       "  </tbody>\n",
       "</table>\n",
       "</div>"
      ],
      "text/plain": [
       "   id   sex   race  age  juv_fel_count  juv_misd_count  juv_other_count  \\\n",
       "0   1  Male  Other   69              0               0                0   \n",
       "1   1  Male  Other   69              0               0                0   \n",
       "2   1  Male  Other   69              0               0                0   \n",
       "3   1  Male  Other   69              0               0                0   \n",
       "4   1  Male  Other   69              0               0                0   \n",
       "\n",
       "   priors_count              jail_in             jail_out charge_degree  \\\n",
       "0             0  2013-08-13 06:03:42  2013-08-14 05:41:20          (F3)   \n",
       "1             0  2013-08-13 06:03:42  2013-08-14 05:41:20          (F3)   \n",
       "2             0  2013-08-13 06:03:42  2013-08-14 05:41:20          (F3)   \n",
       "3             0  2013-08-13 06:03:42  2013-08-14 05:41:20          (F3)   \n",
       "4             0  2013-08-13 06:03:42  2013-08-14 05:41:20          (F3)   \n",
       "\n",
       "   is_recid                  in_custody                 out_custody  \\\n",
       "0         0  2013-08-13 06:03:42.000000  2013-08-14 05:41:20.000000   \n",
       "1         0  2013-08-13 06:03:42.000000  2013-08-14 05:41:20.000000   \n",
       "2         0  2013-08-13 06:03:42.000000  2013-08-14 05:41:20.000000   \n",
       "3         0  2014-07-07 09:26:12.000000  2014-07-14 08:24:15.000000   \n",
       "4         0  2014-07-07 09:26:12.000000  2014-07-14 08:24:15.000000   \n",
       "\n",
       "  custody_status marital_status  rec_supervision_level  raw_score  \\\n",
       "0    Jail Inmate         Single                      1      -4.31   \n",
       "1    Jail Inmate         Single                      1      -2.78   \n",
       "2    Jail Inmate         Single                      1      13.00   \n",
       "3    Jail Inmate         Single                      1      -4.31   \n",
       "4    Jail Inmate         Single                      1      -2.78   \n",
       "\n",
       "   decile_score  \n",
       "0             1  \n",
       "1             1  \n",
       "2             1  \n",
       "3             1  \n",
       "4             1  "
      ]
     },
     "execution_count": 7,
     "metadata": {},
     "output_type": "execute_result"
    }
   ],
   "source": [
    "compas_raw.head()"
   ]
  },
  {
   "cell_type": "code",
   "execution_count": 8,
   "metadata": {
    "id": "DK40u4JSkNX-",
    "outputId": "90f081fb-7df3-42e5-f195-0554babcadc6",
    "scrolled": true
   },
   "outputs": [
    {
     "name": "stdout",
     "output_type": "stream",
     "text": [
      "<class 'pandas.core.frame.DataFrame'>\n",
      "RangeIndex: 101190 entries, 0 to 101189\n",
      "Data columns (total 19 columns):\n",
      " #   Column                 Non-Null Count   Dtype  \n",
      "---  ------                 --------------   -----  \n",
      " 0   id                     101190 non-null  int64  \n",
      " 1   sex                    101190 non-null  object \n",
      " 2   race                   101190 non-null  object \n",
      " 3   age                    101190 non-null  int64  \n",
      " 4   juv_fel_count          101190 non-null  int64  \n",
      " 5   juv_misd_count         101190 non-null  int64  \n",
      " 6   juv_other_count        101190 non-null  int64  \n",
      " 7   priors_count           101190 non-null  int64  \n",
      " 8   jail_in                95997 non-null   object \n",
      " 9   jail_out               95997 non-null   object \n",
      " 10  charge_degree          97986 non-null   object \n",
      " 11  is_recid               101190 non-null  int64  \n",
      " 12  in_custody             98283 non-null   object \n",
      " 13  out_custody            98283 non-null   object \n",
      " 14  custody_status         101190 non-null  object \n",
      " 15  marital_status         101190 non-null  object \n",
      " 16  rec_supervision_level  101190 non-null  int64  \n",
      " 17  raw_score              101190 non-null  float64\n",
      " 18  decile_score           101190 non-null  int64  \n",
      "dtypes: float64(1), int64(9), object(9)\n",
      "memory usage: 14.7+ MB\n"
     ]
    }
   ],
   "source": [
    "compas_raw.info()"
   ]
  },
  {
   "cell_type": "code",
   "execution_count": 9,
   "metadata": {
    "executionInfo": {
     "elapsed": 690,
     "status": "ok",
     "timestamp": 1616510460829,
     "user": {
      "displayName": "L.A. Randrup",
      "photoUrl": "https://lh3.googleusercontent.com/a-/AOh14GhrT_ewqOmImZ3FHgJt4jxnRah6I3vNx3ogEvdC2w=s64",
      "userId": "17880013496629414915"
     },
     "user_tz": 420
    },
    "id": "9gyW2blpkNYC"
   },
   "outputs": [],
   "source": [
    "# fix data types\n",
    "compas_raw['jail_in'] = pd.to_datetime(compas_raw['jail_in'])\n",
    "compas_raw['jail_out'] = pd.to_datetime(compas_raw['jail_out'])\n",
    "compas_raw['in_custody'] = pd.to_datetime(compas_raw['in_custody'])\n",
    "compas_raw['out_custody'] = pd.to_datetime(compas_raw['out_custody'])"
   ]
  },
  {
   "cell_type": "code",
   "execution_count": 10,
   "metadata": {
    "executionInfo": {
     "elapsed": 317,
     "status": "ok",
     "timestamp": 1616510462469,
     "user": {
      "displayName": "L.A. Randrup",
      "photoUrl": "https://lh3.googleusercontent.com/a-/AOh14GhrT_ewqOmImZ3FHgJt4jxnRah6I3vNx3ogEvdC2w=s64",
      "userId": "17880013496629414915"
     },
     "user_tz": 420
    },
    "id": "f0ADguvHkNYD",
    "scrolled": true
   },
   "outputs": [],
   "source": [
    "# feature engineering\n",
    "compas_raw['hours_in_jail'] = (compas_raw['jail_out'] - compas_raw['jail_in'])/np.timedelta64(1, 'h')\n",
    "compas_raw['hours_in_custody'] = (compas_raw['out_custody'] - compas_raw['in_custody'])/np.timedelta64(1, 'h')\n",
    "\n",
    "# drop time columns\n",
    "compas_raw = compas_raw.drop(columns=['jail_in', 'jail_out', 'in_custody', 'out_custody'])"
   ]
  },
  {
   "cell_type": "code",
   "execution_count": 11,
   "metadata": {
    "executionInfo": {
     "elapsed": 327,
     "status": "ok",
     "timestamp": 1616510465692,
     "user": {
      "displayName": "L.A. Randrup",
      "photoUrl": "https://lh3.googleusercontent.com/a-/AOh14GhrT_ewqOmImZ3FHgJt4jxnRah6I3vNx3ogEvdC2w=s64",
      "userId": "17880013496629414915"
     },
     "user_tz": 420
    },
    "id": "n7U42mXZkNYD"
   },
   "outputs": [],
   "source": [
    "# missing values\n",
    "compas_raw = compas_raw[compas_raw['is_recid'] != -1]\n",
    "compas_raw = compas_raw[~compas_raw['charge_degree'].isna()]\n",
    "compas_raw = compas_raw.fillna(0)"
   ]
  },
  {
   "cell_type": "markdown",
   "metadata": {
    "id": "-a98jMMfkNYE"
   },
   "source": [
    "|encoding|charge degree|description|degree|\n",
    "|--------|-------------|-----------|------|\n",
    "|13|F10|(felony) 10th level|1st|\n",
    "|12|F9|(felony) 9th level|1st|\n",
    "|11|F8|(felony) 8th level|1st|\n",
    "|10|F7|(felony) 7th level|1st|\n",
    "|9|F6|(felony) 6th level|2nd|\n",
    "|8|F5|(felony) 5th level|2nd|\n",
    "|7|F4|(felony) 4th level|2nd|\n",
    "|6|F3|(felony) 3rd level|3rd|\n",
    "|5|F2|(felony) 2nd level|3rd|\n",
    "|4|F1|(felony) 1st level|3rd|\n",
    "|3|M1|(misdemeanor) 1st degree||\n",
    "|2|M2|(misdemeanor) 2nd degree||\n",
    "|1|O|other||"
   ]
  },
  {
   "cell_type": "code",
   "execution_count": 12,
   "metadata": {
    "executionInfo": {
     "elapsed": 316,
     "status": "ok",
     "timestamp": 1616510468576,
     "user": {
      "displayName": "L.A. Randrup",
      "photoUrl": "https://lh3.googleusercontent.com/a-/AOh14GhrT_ewqOmImZ3FHgJt4jxnRah6I3vNx3ogEvdC2w=s64",
      "userId": "17880013496629414915"
     },
     "user_tz": 420
    },
    "id": "Lurjm3UOkNYG"
   },
   "outputs": [],
   "source": [
    "# re-encode columns\n",
    "compas_raw['charge_degree'] = compas_raw['charge_degree'].map({'(F7)': 10, '(F6)': 9, '(F5)': 8, '(MO3)': 7, '(F3)': 6, \n",
    "                                                       '(F2)': 5, '(F1)': 4, '(M1)': 3, '(M2)': 2, '(NI0)': 1, \n",
    "                                                       '(CO3)': 1, '(X)': 1, '(CT)': 1, '(TCX)': 1})\n",
    "compas_raw = pd.get_dummies(data=compas_raw, columns=['custody_status', 'marital_status'], drop_first=True)\n",
    "compas_raw['sex'] = compas_raw['sex'].map({'Male': 0, 'Female': 1})"
   ]
  },
  {
   "cell_type": "code",
   "execution_count": 13,
   "metadata": {
    "id": "Q8mD532UkNYJ"
   },
   "outputs": [],
   "source": [
    "#saving clean dataframe to csv\n",
    "#compas_raw.to_csv('compas_clean.csv', index=False)"
   ]
  },
  {
   "cell_type": "code",
   "execution_count": 32,
   "metadata": {},
   "outputs": [],
   "source": [
    "#Load dataframe (gdrive)\n",
    "compas = pd.read_csv('compas_clean.csv')"
   ]
  },
  {
   "cell_type": "markdown",
   "metadata": {
    "id": "rCGOuZKwkNYK"
   },
   "source": [
    "# Exploratory Data Analysis"
   ]
  },
  {
   "cell_type": "code",
   "execution_count": 16,
   "metadata": {
    "id": "Hi0fXx7ykNYL",
    "outputId": "ba041bdc-e463-4c50-8cc4-6942f1e2a2eb"
   },
   "outputs": [
    {
     "data": {
      "text/plain": [
       "1    56088\n",
       "0    41895\n",
       "Name: is_recid, dtype: int64"
      ]
     },
     "execution_count": 16,
     "metadata": {},
     "output_type": "execute_result"
    }
   ],
   "source": [
    "compas['is_recid'].value_counts()"
   ]
  },
  {
   "cell_type": "code",
   "execution_count": 17,
   "metadata": {
    "id": "Uh51cVfikNYM",
    "outputId": "bc25051f-7c7c-462a-b23c-352489be1fc0",
    "scrolled": true
   },
   "outputs": [
    {
     "data": {
      "image/png": "[encoded data removed]",
      "text/plain": [
       "<Figure size 432x288 with 1 Axes>"
      ]
     },
     "metadata": {
      "needs_background": "light"
     },
     "output_type": "display_data"
    }
   ],
   "source": [
    "plt.hist(compas['sex']);"
   ]
  },
  {
   "cell_type": "code",
   "execution_count": 18,
   "metadata": {
    "id": "InH53KIqkNYM",
    "outputId": "b875ad2c-68fc-4fb1-dc66-f84783b4ecdc"
   },
   "outputs": [
    {
     "data": {
      "image/png": "[encoded data removed]",
      "text/plain": [
       "<Figure size 432x288 with 1 Axes>"
      ]
     },
     "metadata": {
      "needs_background": "light"
     },
     "output_type": "display_data"
    }
   ],
   "source": [
    "plt.hist(compas['race']);"
   ]
  },
  {
   "cell_type": "code",
   "execution_count": 19,
   "metadata": {
    "id": "t0W9Mp2ikNYN",
    "outputId": "51726ea7-1f16-435d-a379-e0fa5f244294"
   },
   "outputs": [
    {
     "data": {
      "image/png": "[encoded data removed]",
      "text/plain": [
       "<Figure size 432x288 with 1 Axes>"
      ]
     },
     "metadata": {
      "needs_background": "light"
     },
     "output_type": "display_data"
    }
   ],
   "source": [
    "plt.hist(compas['age']);"
   ]
  },
  {
   "cell_type": "code",
   "execution_count": 20,
   "metadata": {
    "id": "ybWbJptakNYO",
    "outputId": "564b53cb-e6b8-4fc6-899e-4aa74ba90662"
   },
   "outputs": [
    {
     "data": {
      "text/html": [
       "<div>\n",
       "<style scoped>\n",
       "    .dataframe tbody tr th:only-of-type {\n",
       "        vertical-align: middle;\n",
       "    }\n",
       "\n",
       "    .dataframe tbody tr th {\n",
       "        vertical-align: top;\n",
       "    }\n",
       "\n",
       "    .dataframe thead th {\n",
       "        text-align: right;\n",
       "    }\n",
       "</style>\n",
       "<table border=\"1\" class=\"dataframe\">\n",
       "  <thead>\n",
       "    <tr style=\"text-align: right;\">\n",
       "      <th></th>\n",
       "      <th>juv_fel_count</th>\n",
       "      <th>juv_misd_count</th>\n",
       "      <th>juv_other_count</th>\n",
       "      <th>priors_count</th>\n",
       "    </tr>\n",
       "  </thead>\n",
       "  <tbody>\n",
       "    <tr>\n",
       "      <th>count</th>\n",
       "      <td>97983.000000</td>\n",
       "      <td>97983.000000</td>\n",
       "      <td>97983.000000</td>\n",
       "      <td>97983.000000</td>\n",
       "    </tr>\n",
       "    <tr>\n",
       "      <th>mean</th>\n",
       "      <td>0.157650</td>\n",
       "      <td>0.128624</td>\n",
       "      <td>0.142127</td>\n",
       "      <td>7.139402</td>\n",
       "    </tr>\n",
       "    <tr>\n",
       "      <th>std</th>\n",
       "      <td>0.657636</td>\n",
       "      <td>0.614939</td>\n",
       "      <td>0.561689</td>\n",
       "      <td>7.808344</td>\n",
       "    </tr>\n",
       "    <tr>\n",
       "      <th>min</th>\n",
       "      <td>0.000000</td>\n",
       "      <td>0.000000</td>\n",
       "      <td>0.000000</td>\n",
       "      <td>0.000000</td>\n",
       "    </tr>\n",
       "    <tr>\n",
       "      <th>25%</th>\n",
       "      <td>0.000000</td>\n",
       "      <td>0.000000</td>\n",
       "      <td>0.000000</td>\n",
       "      <td>1.000000</td>\n",
       "    </tr>\n",
       "    <tr>\n",
       "      <th>50%</th>\n",
       "      <td>0.000000</td>\n",
       "      <td>0.000000</td>\n",
       "      <td>0.000000</td>\n",
       "      <td>4.000000</td>\n",
       "    </tr>\n",
       "    <tr>\n",
       "      <th>75%</th>\n",
       "      <td>0.000000</td>\n",
       "      <td>0.000000</td>\n",
       "      <td>0.000000</td>\n",
       "      <td>11.000000</td>\n",
       "    </tr>\n",
       "    <tr>\n",
       "      <th>max</th>\n",
       "      <td>20.000000</td>\n",
       "      <td>13.000000</td>\n",
       "      <td>17.000000</td>\n",
       "      <td>43.000000</td>\n",
       "    </tr>\n",
       "  </tbody>\n",
       "</table>\n",
       "</div>"
      ],
      "text/plain": [
       "       juv_fel_count  juv_misd_count  juv_other_count  priors_count\n",
       "count   97983.000000    97983.000000     97983.000000  97983.000000\n",
       "mean        0.157650        0.128624         0.142127      7.139402\n",
       "std         0.657636        0.614939         0.561689      7.808344\n",
       "min         0.000000        0.000000         0.000000      0.000000\n",
       "25%         0.000000        0.000000         0.000000      1.000000\n",
       "50%         0.000000        0.000000         0.000000      4.000000\n",
       "75%         0.000000        0.000000         0.000000     11.000000\n",
       "max        20.000000       13.000000        17.000000     43.000000"
      ]
     },
     "execution_count": 20,
     "metadata": {},
     "output_type": "execute_result"
    }
   ],
   "source": [
    "compas[['juv_fel_count', 'juv_misd_count', 'juv_other_count', 'priors_count']].describe()"
   ]
  },
  {
   "cell_type": "code",
   "execution_count": null,
   "metadata": {
    "id": "miEVv813kNYP",
    "outputId": "a1e9f90d-285a-4c35-fb90-12866c38df2c"
   },
   "outputs": [
    {
     "data": {
      "image/png": "[encoded data removed]",
      "text/plain": [
       "<Figure size 432x288 with 1 Axes>"
      ]
     },
     "metadata": {
      "needs_background": "light",
      "tags": []
     },
     "output_type": "display_data"
    }
   ],
   "source": [
    "plt.hist(compas['charge_degree']);"
   ]
  },
  {
   "cell_type": "code",
   "execution_count": null,
   "metadata": {
    "id": "kWI1fM81kNYQ",
    "outputId": "ee881c0e-51d6-4689-f697-4e4f2706d981"
   },
   "outputs": [
    {
     "data": {
      "image/png": "[encoded data removed]",
      "text/plain": [
       "<Figure size 432x288 with 1 Axes>"
      ]
     },
     "metadata": {
      "needs_background": "light",
      "tags": []
     },
     "output_type": "display_data"
    }
   ],
   "source": [
    "plt.hist(compas['custody_status']);"
   ]
  },
  {
   "cell_type": "code",
   "execution_count": null,
   "metadata": {
    "id": "6_-oFAAmkNYR",
    "outputId": "f9e4ff36-b7b2-4fe6-c9be-9c3c52bc61bd"
   },
   "outputs": [
    {
     "data": {
      "image/png": "[encoded data removed]",
      "text/plain": [
       "<Figure size 432x288 with 1 Axes>"
      ]
     },
     "metadata": {
      "needs_background": "light",
      "tags": []
     },
     "output_type": "display_data"
    }
   ],
   "source": [
    "plt.hist(compas['marital_status']);"
   ]
  },
  {
   "cell_type": "code",
   "execution_count": null,
   "metadata": {
    "id": "CDWqB6UgkNYT",
    "outputId": "94cea28e-d0e7-49bd-f25b-3a482e32e77a"
   },
   "outputs": [
    {
     "data": {
      "image/png": "[encoded data removed]",
      "text/plain": [
       "<Figure size 1152x648 with 1 Axes>"
      ]
     },
     "metadata": {
      "needs_background": "light",
      "tags": []
     },
     "output_type": "display_data"
    }
   ],
   "source": [
    "plt.figure(figsize=(16,9))\n",
    "sns.histplot(x='race',hue='is_recid', data=compas, multiple='stack');"
   ]
  },
  {
   "cell_type": "code",
   "execution_count": null,
   "metadata": {
    "id": "tu75N6sAkNYT",
    "outputId": "b637691a-607e-433f-d97a-3523a065b5b1"
   },
   "outputs": [
    {
     "data": {
      "image/png": "[encoded data removed]",
      "text/plain": [
       "<Figure size 432x288 with 1 Axes>"
      ]
     },
     "metadata": {
      "needs_background": "light",
      "tags": []
     },
     "output_type": "display_data"
    }
   ],
   "source": [
    "sns.boxplot(x='is_recid', y='age', data=compas);"
   ]
  },
  {
   "cell_type": "markdown",
   "metadata": {},
   "source": [
    "# Exploratory Data Analysis"
   ]
  },
  {
   "cell_type": "code",
   "execution_count": 21,
   "metadata": {
    "executionInfo": {
     "elapsed": 267,
     "status": "ok",
     "timestamp": 1616510480013,
     "user": {
      "displayName": "L.A. Randrup",
      "photoUrl": "https://lh3.googleusercontent.com/a-/AOh14GhrT_ewqOmImZ3FHgJt4jxnRah6I3vNx3ogEvdC2w=s64",
      "userId": "17880013496629414915"
     },
     "user_tz": 420
    },
    "id": "dlZi8_7T0NQ0"
   },
   "outputs": [],
   "source": [
    "from sklearn.model_selection import cross_val_score, train_test_split, GridSearchCV\n",
    "from sklearn.metrics import confusion_matrix, plot_confusion_matrix\n",
    "from sklearn.metrics import accuracy_score, classification_report\n",
    "from sklearn.preprocessing import StandardScaler"
   ]
  },
  {
   "cell_type": "code",
   "execution_count": 37,
   "metadata": {},
   "outputs": [
    {
     "name": "stdout",
     "output_type": "stream",
     "text": [
      "<class 'pandas.core.frame.DataFrame'>\n",
      "RangeIndex: 10375 entries, 0 to 10374\n",
      "Data columns (total 23 columns):\n",
      " #   Column                              Non-Null Count  Dtype  \n",
      "---  ------                              --------------  -----  \n",
      " 0   id                                  10375 non-null  int64  \n",
      " 1   sex                                 10375 non-null  int64  \n",
      " 2   race                                10375 non-null  object \n",
      " 3   age                                 10375 non-null  int64  \n",
      " 4   juv_fel_count                       10375 non-null  int64  \n",
      " 5   juv_misd_count                      10375 non-null  int64  \n",
      " 6   juv_other_count                     10375 non-null  int64  \n",
      " 7   priors_count                        10375 non-null  int64  \n",
      " 8   charge_degree                       10375 non-null  int64  \n",
      " 9   is_recid                            10375 non-null  int64  \n",
      " 10  hours_in_custody                    10375 non-null  float64\n",
      " 11  custody_status_Parole               10375 non-null  int64  \n",
      " 12  custody_status_Pretrial Defendant   10375 non-null  int64  \n",
      " 13  custody_status_Prison Inmate        10375 non-null  int64  \n",
      " 14  custody_status_Probation            10375 non-null  int64  \n",
      " 15  custody_status_Residential Program  10375 non-null  int64  \n",
      " 16  marital_status_Married              10375 non-null  int64  \n",
      " 17  marital_status_Separated            10375 non-null  int64  \n",
      " 18  marital_status_Significant Other    10375 non-null  int64  \n",
      " 19  marital_status_Single               10375 non-null  int64  \n",
      " 20  marital_status_Unknown              10375 non-null  int64  \n",
      " 21  marital_status_Widowed              10375 non-null  int64  \n",
      " 22  num_charges                         10375 non-null  int64  \n",
      "dtypes: float64(1), int64(21), object(1)\n",
      "memory usage: 1.8+ MB\n"
     ]
    }
   ],
   "source": [
    "compas.info()"
   ]
  },
  {
   "cell_type": "code",
   "execution_count": 1,
   "metadata": {
    "executionInfo": {
     "elapsed": 644,
     "status": "ok",
     "timestamp": 1616510483282,
     "user": {
      "displayName": "L.A. Randrup",
      "photoUrl": "https://lh3.googleusercontent.com/a-/AOh14GhrT_ewqOmImZ3FHgJt4jxnRah6I3vNx3ogEvdC2w=s64",
      "userId": "17880013496629414915"
     },
     "user_tz": 420
    },
    "id": "h7AJQN520Qpg"
   },
   "outputs": [
    {
     "ename": "NameError",
     "evalue": "name 'compas' is not defined",
     "output_type": "error",
     "traceback": [
      "\u001b[0;31m---------------------------------------------------------------------------\u001b[0m",
      "\u001b[0;31mNameError\u001b[0m                                 Traceback (most recent call last)",
      "\u001b[0;32m<ipython-input-1-9a5bddebb8c8>\u001b[0m in \u001b[0;36m<module>\u001b[0;34m\u001b[0m\n\u001b[1;32m      1\u001b[0m \u001b[0;31m#Assigning X and y\u001b[0m\u001b[0;34m\u001b[0m\u001b[0;34m\u001b[0m\u001b[0;34m\u001b[0m\u001b[0m\n\u001b[0;32m----> 2\u001b[0;31m \u001b[0mX\u001b[0m \u001b[0;34m=\u001b[0m \u001b[0mcompas\u001b[0m\u001b[0;34m.\u001b[0m\u001b[0mdrop\u001b[0m\u001b[0;34m(\u001b[0m\u001b[0mcolumns\u001b[0m\u001b[0;34m=\u001b[0m\u001b[0;34m[\u001b[0m\u001b[0;34m'id'\u001b[0m\u001b[0;34m,\u001b[0m \u001b[0;34m'race'\u001b[0m\u001b[0;34m,\u001b[0m\u001b[0;34m'is_recid'\u001b[0m\u001b[0;34m,\u001b[0m\u001b[0;34m'sex'\u001b[0m\u001b[0;34m,\u001b[0m\u001b[0;34m'age'\u001b[0m\u001b[0;34m]\u001b[0m\u001b[0;34m)\u001b[0m\u001b[0;34m\u001b[0m\u001b[0;34m\u001b[0m\u001b[0m\n\u001b[0m\u001b[1;32m      3\u001b[0m \u001b[0my\u001b[0m \u001b[0;34m=\u001b[0m \u001b[0mcompas\u001b[0m\u001b[0;34m[\u001b[0m\u001b[0;34m'is_recid'\u001b[0m\u001b[0;34m]\u001b[0m\u001b[0;34m\u001b[0m\u001b[0;34m\u001b[0m\u001b[0m\n\u001b[1;32m      4\u001b[0m \u001b[0mX_train\u001b[0m\u001b[0;34m,\u001b[0m \u001b[0mX_test\u001b[0m\u001b[0;34m,\u001b[0m \u001b[0my_train\u001b[0m\u001b[0;34m,\u001b[0m \u001b[0my_test\u001b[0m \u001b[0;34m=\u001b[0m \u001b[0mtrain_test_split\u001b[0m\u001b[0;34m(\u001b[0m\u001b[0mX\u001b[0m\u001b[0;34m,\u001b[0m \u001b[0my\u001b[0m\u001b[0;34m,\u001b[0m \u001b[0mrandom_state\u001b[0m\u001b[0;34m=\u001b[0m\u001b[0;36m42\u001b[0m\u001b[0;34m,\u001b[0m \u001b[0mstratify\u001b[0m\u001b[0;34m=\u001b[0m\u001b[0my\u001b[0m\u001b[0;34m)\u001b[0m\u001b[0;34m\u001b[0m\u001b[0;34m\u001b[0m\u001b[0m\n\u001b[1;32m      5\u001b[0m \u001b[0;34m\u001b[0m\u001b[0m\n",
      "\u001b[0;31mNameError\u001b[0m: name 'compas' is not defined"
     ]
    }
   ],
   "source": [
    "#Assigning X and y\n",
    "X = compas.drop(columns=['id', 'race','is_recid','sex','age'])\n",
    "y = compas['is_recid']\n",
    "X_train, X_test, y_train, y_test = train_test_split(X, y, random_state=42, stratify=y)\n",
    "\n",
    "#Scale\n",
    "sc = StandardScaler()\n",
    "X_sc = sc.fit_transform(X_train)\n",
    "X_test_sc = sc.transform(X_test)"
   ]
  },
  {
   "cell_type": "code",
   "execution_count": 39,
   "metadata": {},
   "outputs": [
    {
     "name": "stdout",
     "output_type": "stream",
     "text": [
      "<class 'pandas.core.frame.DataFrame'>\n",
      "RangeIndex: 10375 entries, 0 to 10374\n",
      "Data columns (total 18 columns):\n",
      " #   Column                              Non-Null Count  Dtype  \n",
      "---  ------                              --------------  -----  \n",
      " 0   juv_fel_count                       10375 non-null  int64  \n",
      " 1   juv_misd_count                      10375 non-null  int64  \n",
      " 2   juv_other_count                     10375 non-null  int64  \n",
      " 3   priors_count                        10375 non-null  int64  \n",
      " 4   charge_degree                       10375 non-null  int64  \n",
      " 5   hours_in_custody                    10375 non-null  float64\n",
      " 6   custody_status_Parole               10375 non-null  int64  \n",
      " 7   custody_status_Pretrial Defendant   10375 non-null  int64  \n",
      " 8   custody_status_Prison Inmate        10375 non-null  int64  \n",
      " 9   custody_status_Probation            10375 non-null  int64  \n",
      " 10  custody_status_Residential Program  10375 non-null  int64  \n",
      " 11  marital_status_Married              10375 non-null  int64  \n",
      " 12  marital_status_Separated            10375 non-null  int64  \n",
      " 13  marital_status_Significant Other    10375 non-null  int64  \n",
      " 14  marital_status_Single               10375 non-null  int64  \n",
      " 15  marital_status_Unknown              10375 non-null  int64  \n",
      " 16  marital_status_Widowed              10375 non-null  int64  \n",
      " 17  num_charges                         10375 non-null  int64  \n",
      "dtypes: float64(1), int64(17)\n",
      "memory usage: 1.4 MB\n"
     ]
    }
   ],
   "source": [
    "X.info()"
   ]
  },
  {
   "cell_type": "markdown",
   "metadata": {},
   "source": [
    "Random Forest Classifier"
   ]
  },
  {
   "cell_type": "code",
   "execution_count": null,
   "metadata": {},
   "outputs": [],
   "source": [
    "#Instantiate and Fit a base RandomForestClassifier model\n",
    "from sklearn.ensemble import RandomForestClassifier\n",
    "from sklearn.pipeline import Pipeline\n",
    "\n",
    "pipe = Pipeline([\n",
    "    ('rf', RandomForestClassifier(n_estimators=100))\n",
    "])\n",
    "\n",
    "pipe.fit(X_sc, y_train)\n",
    "\n",
    "cross_val_score(pipe, X_sc, y_train, cv=5).mean() "
   ]
  },
  {
   "cell_type": "code",
   "execution_count": 42,
   "metadata": {
    "id": "mKGlOO3Q0ajA"
   },
   "outputs": [
    {
     "data": {
      "text/plain": [
       "0.9998714818146768"
      ]
     },
     "execution_count": 42,
     "metadata": {},
     "output_type": "execute_result"
    }
   ],
   "source": [
    "pipe.score(X_sc, y_train)"
   ]
  },
  {
   "cell_type": "code",
   "execution_count": 44,
   "metadata": {},
   "outputs": [
    {
     "data": {
      "text/plain": [
       "0.7135697764070933"
      ]
     },
     "execution_count": 44,
     "metadata": {},
     "output_type": "execute_result"
    }
   ],
   "source": [
    "y_preds = pipe.predict(X_test_sc)\n",
    "accuracy_score(y_test, y_preds)"
   ]
  },
  {
   "cell_type": "code",
   "execution_count": null,
   "metadata": {},
   "outputs": [],
   "source": [
    "#Optimize the model with GridSearch to fix overfitting"
   ]
  },
  {
   "cell_type": "code",
   "execution_count": 45,
   "metadata": {},
   "outputs": [
    {
     "data": {
      "text/plain": [
       "0.7727798483485413"
      ]
     },
     "execution_count": 45,
     "metadata": {},
     "output_type": "execute_result"
    }
   ],
   "source": [
    "#Gridsearch with Random Forest\n",
    "params = {\n",
    "    'n_estimators': [100,200, 500],\n",
    "    'max_features': ['sqrt','log2',None],\n",
    "    'max_depth' : [1,2,3,6],\n",
    "    'criterion' :['gini', 'entropy']\n",
    "}\n",
    "\n",
    "gs = GridSearchCV(estimator=rf, param_grid=params, cv= 5)\n",
    "gs.fit(X_sc, y_train)\n",
    "\n",
    "\n",
    "\n",
    "gs.score(X_sc, y_train)"
   ]
  },
  {
   "cell_type": "code",
   "execution_count": 48,
   "metadata": {},
   "outputs": [
    {
     "data": {
      "text/plain": [
       "0.7656129529683886"
      ]
     },
     "execution_count": 48,
     "metadata": {},
     "output_type": "execute_result"
    }
   ],
   "source": [
    "y_preds = gs.predict(X_test_sc)\n",
    "accuracy_score(y_test, y_preds)"
   ]
  },
  {
   "cell_type": "code",
   "execution_count": 118,
   "metadata": {},
   "outputs": [
    {
     "data": {
      "text/plain": [
       "{'criterion': 'entropy',\n",
       " 'max_depth': 6,\n",
       " 'max_features': 'sqrt',\n",
       " 'n_estimators': 200}"
      ]
     },
     "execution_count": 118,
     "metadata": {},
     "output_type": "execute_result"
    }
   ],
   "source": [
    "gs.best_params_"
   ]
  },
  {
   "cell_type": "markdown",
   "metadata": {},
   "source": [
    "GridSearch with DecisionTreeClassifier"
   ]
  },
  {
   "cell_type": "code",
   "execution_count": null,
   "metadata": {},
   "outputs": [],
   "source": [
    "from sklearn.tree import DecisionTreeClassifier\n",
    "#Setting params, Instantiating and Fitting the model\n",
    "params = {'max_depth': [1, 2, 3, 5, 10],\n",
    "          'min_samples_split': [2, 4, 8],\n",
    "          'min_samples_leaf': [1, 2, 3, 5, 7, 10],\n",
    "          'max_features': ['sqrt', 'log2', None]}\n",
    "gs = GridSearchCV(DecisionTreeClassifier(), params, cv=5)\n",
    "gs.fit(X_sc, y_train)"
   ]
  },
  {
   "cell_type": "markdown",
   "metadata": {},
   "source": [
    "XGBoost Classifier"
   ]
  },
  {
   "cell_type": "code",
   "execution_count": null,
   "metadata": {},
   "outputs": [],
   "source": [
    "from xgboost import XGBClassifier\n",
    "xgb_params = {\n",
    "    'learning_rate': [0.2,0.300000012],\n",
    "    'min_child_weight': [1, 2,3],\n",
    "    'max_depth' : [2,4],\n",
    "    'subsample' : [.2,.5,1],\n",
    "    'colsample_bytree' :[.2,.5,1]\n",
    "}\n",
    "xgb_gridsearch = GridSearchCV(XGBClassifier(use_label_encoder=False,booster='gbtree',eval_metric='logloss'), # What is the model we want to fit?\n",
    "                              xgb_params, # What is the dictionary of hyperparameters?\n",
    "                              cv=5, # What number of folds in CV will we use?\n",
    "                              verbose=1)\n",
    "xgb_gridsearch.best_params_\n",
    "{'colsample_bytree': 0.2,\n",
    " 'learning_rate': 0.300000012,\n",
    " 'max_depth': 4,\n",
    " 'min_child_weight': 1,\n",
    " 'subsample': 1}"
   ]
  },
  {
   "cell_type": "markdown",
   "metadata": {},
   "source": [
    "**AEQUITAS**"
   ]
  },
  {
   "cell_type": "code",
   "execution_count": 82,
   "metadata": {},
   "outputs": [],
   "source": [
    "aequitas = compas.loc[X_test.index, ['race','sex','is_recid']]\n",
    "aequitas['predictions'] = y_preds\n",
    "aequitas.rename(columns={'is_recid':'label_value'}, inplace=True)\n",
    "aequitas.rename(columns={'predictions':'score'}, inplace=True)\n",
    "aequitas['sex'] = aequitas['sex'].map({0:'male', 1:'female'})"
   ]
  },
  {
   "cell_type": "code",
   "execution_count": 83,
   "metadata": {},
   "outputs": [
    {
     "data": {
      "text/html": [
       "<div>\n",
       "<style scoped>\n",
       "    .dataframe tbody tr th:only-of-type {\n",
       "        vertical-align: middle;\n",
       "    }\n",
       "\n",
       "    .dataframe tbody tr th {\n",
       "        vertical-align: top;\n",
       "    }\n",
       "\n",
       "    .dataframe thead th {\n",
       "        text-align: right;\n",
       "    }\n",
       "</style>\n",
       "<table border=\"1\" class=\"dataframe\">\n",
       "  <thead>\n",
       "    <tr style=\"text-align: right;\">\n",
       "      <th></th>\n",
       "      <th>race</th>\n",
       "      <th>sex</th>\n",
       "      <th>label_value</th>\n",
       "      <th>score</th>\n",
       "    </tr>\n",
       "  </thead>\n",
       "  <tbody>\n",
       "    <tr>\n",
       "      <th>3158</th>\n",
       "      <td>African-American</td>\n",
       "      <td>male</td>\n",
       "      <td>1</td>\n",
       "      <td>1</td>\n",
       "    </tr>\n",
       "    <tr>\n",
       "      <th>5838</th>\n",
       "      <td>Hispanic</td>\n",
       "      <td>male</td>\n",
       "      <td>1</td>\n",
       "      <td>1</td>\n",
       "    </tr>\n",
       "    <tr>\n",
       "      <th>4742</th>\n",
       "      <td>Caucasian</td>\n",
       "      <td>male</td>\n",
       "      <td>0</td>\n",
       "      <td>0</td>\n",
       "    </tr>\n",
       "    <tr>\n",
       "      <th>2966</th>\n",
       "      <td>Caucasian</td>\n",
       "      <td>male</td>\n",
       "      <td>1</td>\n",
       "      <td>0</td>\n",
       "    </tr>\n",
       "    <tr>\n",
       "      <th>3079</th>\n",
       "      <td>African-American</td>\n",
       "      <td>female</td>\n",
       "      <td>1</td>\n",
       "      <td>1</td>\n",
       "    </tr>\n",
       "  </tbody>\n",
       "</table>\n",
       "</div>"
      ],
      "text/plain": [
       "                  race     sex  label_value  score\n",
       "3158  African-American    male            1      1\n",
       "5838          Hispanic    male            1      1\n",
       "4742         Caucasian    male            0      0\n",
       "2966         Caucasian    male            1      0\n",
       "3079  African-American  female            1      1"
      ]
     },
     "execution_count": 83,
     "metadata": {},
     "output_type": "execute_result"
    }
   ],
   "source": [
    "aequitas.head()"
   ]
  },
  {
   "cell_type": "code",
   "execution_count": 96,
   "metadata": {},
   "outputs": [],
   "source": [
    "import aequitas as aq\n",
    "from aequitas.preprocessing import preprocess_input_df\n",
    "from aequitas.plotting import Plot"
   ]
  },
  {
   "cell_type": "code",
   "execution_count": 84,
   "metadata": {},
   "outputs": [],
   "source": [
    "#Preprocess Data\n",
    "aequitas, _ = preprocess_input_df(aequitas)"
   ]
  },
  {
   "cell_type": "code",
   "execution_count": 85,
   "metadata": {},
   "outputs": [],
   "source": [
    "#Instantiate \n",
    "g = Group()\n",
    "xtab, _ = g.get_crosstabs(aequitas)"
   ]
  },
  {
   "cell_type": "code",
   "execution_count": 86,
   "metadata": {},
   "outputs": [],
   "source": [
    "#Get Absolute Metrics\n",
    "absolute_metrics = g.list_absolute_metrics(xtab)"
   ]
  },
  {
   "cell_type": "code",
   "execution_count": 87,
   "metadata": {},
   "outputs": [
    {
     "data": {
      "text/html": [
       "<div>\n",
       "<style scoped>\n",
       "    .dataframe tbody tr th:only-of-type {\n",
       "        vertical-align: middle;\n",
       "    }\n",
       "\n",
       "    .dataframe tbody tr th {\n",
       "        vertical-align: top;\n",
       "    }\n",
       "\n",
       "    .dataframe thead th {\n",
       "        text-align: right;\n",
       "    }\n",
       "</style>\n",
       "<table border=\"1\" class=\"dataframe\">\n",
       "  <thead>\n",
       "    <tr style=\"text-align: right;\">\n",
       "      <th></th>\n",
       "      <th>model_id</th>\n",
       "      <th>score_threshold</th>\n",
       "      <th>k</th>\n",
       "      <th>attribute_name</th>\n",
       "      <th>attribute_value</th>\n",
       "      <th>pp</th>\n",
       "      <th>pn</th>\n",
       "      <th>fp</th>\n",
       "      <th>fn</th>\n",
       "      <th>tn</th>\n",
       "      <th>tp</th>\n",
       "      <th>group_label_pos</th>\n",
       "      <th>group_label_neg</th>\n",
       "      <th>group_size</th>\n",
       "      <th>total_entities</th>\n",
       "    </tr>\n",
       "  </thead>\n",
       "  <tbody>\n",
       "    <tr>\n",
       "      <th>0</th>\n",
       "      <td>0</td>\n",
       "      <td>binary 0/1</td>\n",
       "      <td>810</td>\n",
       "      <td>race</td>\n",
       "      <td>African-American</td>\n",
       "      <td>509</td>\n",
       "      <td>781</td>\n",
       "      <td>161</td>\n",
       "      <td>178</td>\n",
       "      <td>603</td>\n",
       "      <td>348</td>\n",
       "      <td>526</td>\n",
       "      <td>764</td>\n",
       "      <td>1290</td>\n",
       "      <td>2594</td>\n",
       "    </tr>\n",
       "    <tr>\n",
       "      <th>1</th>\n",
       "      <td>0</td>\n",
       "      <td>binary 0/1</td>\n",
       "      <td>810</td>\n",
       "      <td>race</td>\n",
       "      <td>Asian</td>\n",
       "      <td>1</td>\n",
       "      <td>8</td>\n",
       "      <td>0</td>\n",
       "      <td>1</td>\n",
       "      <td>7</td>\n",
       "      <td>1</td>\n",
       "      <td>2</td>\n",
       "      <td>7</td>\n",
       "      <td>9</td>\n",
       "      <td>2594</td>\n",
       "    </tr>\n",
       "    <tr>\n",
       "      <th>2</th>\n",
       "      <td>0</td>\n",
       "      <td>binary 0/1</td>\n",
       "      <td>810</td>\n",
       "      <td>race</td>\n",
       "      <td>Caucasian</td>\n",
       "      <td>219</td>\n",
       "      <td>662</td>\n",
       "      <td>76</td>\n",
       "      <td>117</td>\n",
       "      <td>545</td>\n",
       "      <td>143</td>\n",
       "      <td>260</td>\n",
       "      <td>621</td>\n",
       "      <td>881</td>\n",
       "      <td>2594</td>\n",
       "    </tr>\n",
       "    <tr>\n",
       "      <th>3</th>\n",
       "      <td>0</td>\n",
       "      <td>binary 0/1</td>\n",
       "      <td>810</td>\n",
       "      <td>race</td>\n",
       "      <td>Hispanic</td>\n",
       "      <td>54</td>\n",
       "      <td>206</td>\n",
       "      <td>17</td>\n",
       "      <td>42</td>\n",
       "      <td>164</td>\n",
       "      <td>37</td>\n",
       "      <td>79</td>\n",
       "      <td>181</td>\n",
       "      <td>260</td>\n",
       "      <td>2594</td>\n",
       "    </tr>\n",
       "    <tr>\n",
       "      <th>4</th>\n",
       "      <td>0</td>\n",
       "      <td>binary 0/1</td>\n",
       "      <td>810</td>\n",
       "      <td>race</td>\n",
       "      <td>Native American</td>\n",
       "      <td>2</td>\n",
       "      <td>4</td>\n",
       "      <td>0</td>\n",
       "      <td>0</td>\n",
       "      <td>4</td>\n",
       "      <td>2</td>\n",
       "      <td>2</td>\n",
       "      <td>4</td>\n",
       "      <td>6</td>\n",
       "      <td>2594</td>\n",
       "    </tr>\n",
       "    <tr>\n",
       "      <th>5</th>\n",
       "      <td>0</td>\n",
       "      <td>binary 0/1</td>\n",
       "      <td>810</td>\n",
       "      <td>race</td>\n",
       "      <td>Other</td>\n",
       "      <td>25</td>\n",
       "      <td>123</td>\n",
       "      <td>4</td>\n",
       "      <td>12</td>\n",
       "      <td>111</td>\n",
       "      <td>21</td>\n",
       "      <td>33</td>\n",
       "      <td>115</td>\n",
       "      <td>148</td>\n",
       "      <td>2594</td>\n",
       "    </tr>\n",
       "    <tr>\n",
       "      <th>6</th>\n",
       "      <td>0</td>\n",
       "      <td>binary 0/1</td>\n",
       "      <td>810</td>\n",
       "      <td>sex</td>\n",
       "      <td>female</td>\n",
       "      <td>116</td>\n",
       "      <td>416</td>\n",
       "      <td>37</td>\n",
       "      <td>62</td>\n",
       "      <td>354</td>\n",
       "      <td>79</td>\n",
       "      <td>141</td>\n",
       "      <td>391</td>\n",
       "      <td>532</td>\n",
       "      <td>2594</td>\n",
       "    </tr>\n",
       "    <tr>\n",
       "      <th>7</th>\n",
       "      <td>0</td>\n",
       "      <td>binary 0/1</td>\n",
       "      <td>810</td>\n",
       "      <td>sex</td>\n",
       "      <td>male</td>\n",
       "      <td>694</td>\n",
       "      <td>1368</td>\n",
       "      <td>221</td>\n",
       "      <td>288</td>\n",
       "      <td>1080</td>\n",
       "      <td>473</td>\n",
       "      <td>761</td>\n",
       "      <td>1301</td>\n",
       "      <td>2062</td>\n",
       "      <td>2594</td>\n",
       "    </tr>\n",
       "  </tbody>\n",
       "</table>\n",
       "</div>"
      ],
      "text/plain": [
       "   model_id score_threshold    k attribute_name   attribute_value   pp    pn  \\\n",
       "0         0      binary 0/1  810           race  African-American  509   781   \n",
       "1         0      binary 0/1  810           race             Asian    1     8   \n",
       "2         0      binary 0/1  810           race         Caucasian  219   662   \n",
       "3         0      binary 0/1  810           race          Hispanic   54   206   \n",
       "4         0      binary 0/1  810           race   Native American    2     4   \n",
       "5         0      binary 0/1  810           race             Other   25   123   \n",
       "6         0      binary 0/1  810            sex            female  116   416   \n",
       "7         0      binary 0/1  810            sex              male  694  1368   \n",
       "\n",
       "    fp   fn    tn   tp  group_label_pos  group_label_neg  group_size  \\\n",
       "0  161  178   603  348              526              764        1290   \n",
       "1    0    1     7    1                2                7           9   \n",
       "2   76  117   545  143              260              621         881   \n",
       "3   17   42   164   37               79              181         260   \n",
       "4    0    0     4    2                2                4           6   \n",
       "5    4   12   111   21               33              115         148   \n",
       "6   37   62   354   79              141              391         532   \n",
       "7  221  288  1080  473              761             1301        2062   \n",
       "\n",
       "   total_entities  \n",
       "0            2594  \n",
       "1            2594  \n",
       "2            2594  \n",
       "3            2594  \n",
       "4            2594  \n",
       "5            2594  \n",
       "6            2594  \n",
       "7            2594  "
      ]
     },
     "execution_count": 87,
     "metadata": {},
     "output_type": "execute_result"
    }
   ],
   "source": [
    "#View calculated counts across sample population groups\n",
    "xtab[[col for col in xtab.columns if col not in absolute_metrics]]"
   ]
  },
  {
   "cell_type": "code",
   "execution_count": 88,
   "metadata": {},
   "outputs": [
    {
     "data": {
      "text/html": [
       "<div>\n",
       "<style scoped>\n",
       "    .dataframe tbody tr th:only-of-type {\n",
       "        vertical-align: middle;\n",
       "    }\n",
       "\n",
       "    .dataframe tbody tr th {\n",
       "        vertical-align: top;\n",
       "    }\n",
       "\n",
       "    .dataframe thead th {\n",
       "        text-align: right;\n",
       "    }\n",
       "</style>\n",
       "<table border=\"1\" class=\"dataframe\">\n",
       "  <thead>\n",
       "    <tr style=\"text-align: right;\">\n",
       "      <th></th>\n",
       "      <th>attribute_name</th>\n",
       "      <th>attribute_value</th>\n",
       "      <th>tpr</th>\n",
       "      <th>tnr</th>\n",
       "      <th>for</th>\n",
       "      <th>fdr</th>\n",
       "      <th>fpr</th>\n",
       "      <th>fnr</th>\n",
       "      <th>npv</th>\n",
       "      <th>precision</th>\n",
       "      <th>ppr</th>\n",
       "      <th>pprev</th>\n",
       "      <th>prev</th>\n",
       "    </tr>\n",
       "  </thead>\n",
       "  <tbody>\n",
       "    <tr>\n",
       "      <th>0</th>\n",
       "      <td>race</td>\n",
       "      <td>African-American</td>\n",
       "      <td>0.66</td>\n",
       "      <td>0.79</td>\n",
       "      <td>0.23</td>\n",
       "      <td>0.32</td>\n",
       "      <td>0.21</td>\n",
       "      <td>0.34</td>\n",
       "      <td>0.77</td>\n",
       "      <td>0.68</td>\n",
       "      <td>0.63</td>\n",
       "      <td>0.39</td>\n",
       "      <td>0.41</td>\n",
       "    </tr>\n",
       "    <tr>\n",
       "      <th>1</th>\n",
       "      <td>race</td>\n",
       "      <td>Asian</td>\n",
       "      <td>0.50</td>\n",
       "      <td>1.00</td>\n",
       "      <td>0.12</td>\n",
       "      <td>0.00</td>\n",
       "      <td>0.00</td>\n",
       "      <td>0.50</td>\n",
       "      <td>0.88</td>\n",
       "      <td>1.00</td>\n",
       "      <td>0.00</td>\n",
       "      <td>0.11</td>\n",
       "      <td>0.22</td>\n",
       "    </tr>\n",
       "    <tr>\n",
       "      <th>2</th>\n",
       "      <td>race</td>\n",
       "      <td>Caucasian</td>\n",
       "      <td>0.55</td>\n",
       "      <td>0.88</td>\n",
       "      <td>0.18</td>\n",
       "      <td>0.35</td>\n",
       "      <td>0.12</td>\n",
       "      <td>0.45</td>\n",
       "      <td>0.82</td>\n",
       "      <td>0.65</td>\n",
       "      <td>0.27</td>\n",
       "      <td>0.25</td>\n",
       "      <td>0.30</td>\n",
       "    </tr>\n",
       "    <tr>\n",
       "      <th>3</th>\n",
       "      <td>race</td>\n",
       "      <td>Hispanic</td>\n",
       "      <td>0.47</td>\n",
       "      <td>0.91</td>\n",
       "      <td>0.20</td>\n",
       "      <td>0.31</td>\n",
       "      <td>0.09</td>\n",
       "      <td>0.53</td>\n",
       "      <td>0.80</td>\n",
       "      <td>0.69</td>\n",
       "      <td>0.07</td>\n",
       "      <td>0.21</td>\n",
       "      <td>0.30</td>\n",
       "    </tr>\n",
       "    <tr>\n",
       "      <th>4</th>\n",
       "      <td>race</td>\n",
       "      <td>Native American</td>\n",
       "      <td>1.00</td>\n",
       "      <td>1.00</td>\n",
       "      <td>0.00</td>\n",
       "      <td>0.00</td>\n",
       "      <td>0.00</td>\n",
       "      <td>0.00</td>\n",
       "      <td>1.00</td>\n",
       "      <td>1.00</td>\n",
       "      <td>0.00</td>\n",
       "      <td>0.33</td>\n",
       "      <td>0.33</td>\n",
       "    </tr>\n",
       "    <tr>\n",
       "      <th>5</th>\n",
       "      <td>race</td>\n",
       "      <td>Other</td>\n",
       "      <td>0.64</td>\n",
       "      <td>0.97</td>\n",
       "      <td>0.10</td>\n",
       "      <td>0.16</td>\n",
       "      <td>0.03</td>\n",
       "      <td>0.36</td>\n",
       "      <td>0.90</td>\n",
       "      <td>0.84</td>\n",
       "      <td>0.03</td>\n",
       "      <td>0.17</td>\n",
       "      <td>0.22</td>\n",
       "    </tr>\n",
       "    <tr>\n",
       "      <th>6</th>\n",
       "      <td>sex</td>\n",
       "      <td>female</td>\n",
       "      <td>0.56</td>\n",
       "      <td>0.91</td>\n",
       "      <td>0.15</td>\n",
       "      <td>0.32</td>\n",
       "      <td>0.09</td>\n",
       "      <td>0.44</td>\n",
       "      <td>0.85</td>\n",
       "      <td>0.68</td>\n",
       "      <td>0.14</td>\n",
       "      <td>0.22</td>\n",
       "      <td>0.27</td>\n",
       "    </tr>\n",
       "    <tr>\n",
       "      <th>7</th>\n",
       "      <td>sex</td>\n",
       "      <td>male</td>\n",
       "      <td>0.62</td>\n",
       "      <td>0.83</td>\n",
       "      <td>0.21</td>\n",
       "      <td>0.32</td>\n",
       "      <td>0.17</td>\n",
       "      <td>0.38</td>\n",
       "      <td>0.79</td>\n",
       "      <td>0.68</td>\n",
       "      <td>0.86</td>\n",
       "      <td>0.34</td>\n",
       "      <td>0.37</td>\n",
       "    </tr>\n",
       "  </tbody>\n",
       "</table>\n",
       "</div>"
      ],
      "text/plain": [
       "  attribute_name   attribute_value   tpr   tnr   for   fdr   fpr   fnr   npv  \\\n",
       "0           race  African-American  0.66  0.79  0.23  0.32  0.21  0.34  0.77   \n",
       "1           race             Asian  0.50  1.00  0.12  0.00  0.00  0.50  0.88   \n",
       "2           race         Caucasian  0.55  0.88  0.18  0.35  0.12  0.45  0.82   \n",
       "3           race          Hispanic  0.47  0.91  0.20  0.31  0.09  0.53  0.80   \n",
       "4           race   Native American  1.00  1.00  0.00  0.00  0.00  0.00  1.00   \n",
       "5           race             Other  0.64  0.97  0.10  0.16  0.03  0.36  0.90   \n",
       "6            sex            female  0.56  0.91  0.15  0.32  0.09  0.44  0.85   \n",
       "7            sex              male  0.62  0.83  0.21  0.32  0.17  0.38  0.79   \n",
       "\n",
       "   precision   ppr  pprev  prev  \n",
       "0       0.68  0.63   0.39  0.41  \n",
       "1       1.00  0.00   0.11  0.22  \n",
       "2       0.65  0.27   0.25  0.30  \n",
       "3       0.69  0.07   0.21  0.30  \n",
       "4       1.00  0.00   0.33  0.33  \n",
       "5       0.84  0.03   0.17  0.22  \n",
       "6       0.68  0.14   0.22  0.27  \n",
       "7       0.68  0.86   0.34  0.37  "
      ]
     },
     "execution_count": 88,
     "metadata": {},
     "output_type": "execute_result"
    }
   ],
   "source": [
    "#View calculated absolute metrics for each sample population group\n",
    "xtab[['attribute_name', 'attribute_value'] + absolute_metrics].round(2)"
   ]
  },
  {
   "cell_type": "markdown",
   "metadata": {},
   "source": [
    "How do I interpret biases in my model?\n",
    "\n",
    "In the slice of the crosstab dataframe created by the Group() class get_crosstabs() method directly above, we see that African-Americans have a false positive rate (fpr) of 22%, while Caucasians have a false positive rate of only 12%. This means that African-American people are far more likely to be falsely labeled as high-risk than white people. On the other hand, false ommision rates (for) and false discovery rates (fdr) are much closer for those two groups."
   ]
  },
  {
   "cell_type": "markdown",
   "metadata": {},
   "source": [
    "Disparities calculated in relation to a user-specified group for each attribute"
   ]
  },
  {
   "cell_type": "code",
   "execution_count": 89,
   "metadata": {},
   "outputs": [],
   "source": [
    "#Instantiate \n",
    "b = Bias()"
   ]
  },
  {
   "cell_type": "code",
   "execution_count": 91,
   "metadata": {},
   "outputs": [
    {
     "name": "stdout",
     "output_type": "stream",
     "text": [
      "get_disparity_predefined_group()\n"
     ]
    },
    {
     "name": "stderr",
     "output_type": "stream",
     "text": [
      "/Users/Pineapplebook/opt/anaconda3/envs/dsi/lib/python3.8/site-packages/numpy/core/fromnumeric.py:3621: RuntimeWarning: Degrees of freedom <= 0 for slice\n",
      "  return _methods._var(a, axis=axis, dtype=dtype, out=out, ddof=ddof,\n",
      "/Users/Pineapplebook/opt/anaconda3/envs/dsi/lib/python3.8/site-packages/numpy/core/_methods.py:226: RuntimeWarning: invalid value encountered in double_scalars\n",
      "  ret = ret.dtype.type(ret / rcount)\n"
     ]
    },
    {
     "data": {
      "text/html": [
       "<style  type=\"text/css\" >\n",
       "</style><table id=\"T_148ab_\" ><thead>    <tr>        <th class=\"blank level0\" ></th>        <th class=\"col_heading level0 col0\" >model_id</th>        <th class=\"col_heading level0 col1\" >score_threshold</th>        <th class=\"col_heading level0 col2\" >k</th>        <th class=\"col_heading level0 col3\" >attribute_name</th>        <th class=\"col_heading level0 col4\" >attribute_value</th>        <th class=\"col_heading level0 col5\" >tpr</th>        <th class=\"col_heading level0 col6\" >tnr</th>        <th class=\"col_heading level0 col7\" >for</th>        <th class=\"col_heading level0 col8\" >fdr</th>        <th class=\"col_heading level0 col9\" >fpr</th>        <th class=\"col_heading level0 col10\" >fnr</th>        <th class=\"col_heading level0 col11\" >npv</th>        <th class=\"col_heading level0 col12\" >precision</th>        <th class=\"col_heading level0 col13\" >pp</th>        <th class=\"col_heading level0 col14\" >pn</th>        <th class=\"col_heading level0 col15\" >ppr</th>        <th class=\"col_heading level0 col16\" >pprev</th>        <th class=\"col_heading level0 col17\" >fp</th>        <th class=\"col_heading level0 col18\" >fn</th>        <th class=\"col_heading level0 col19\" >tn</th>        <th class=\"col_heading level0 col20\" >tp</th>        <th class=\"col_heading level0 col21\" >group_label_pos</th>        <th class=\"col_heading level0 col22\" >group_label_neg</th>        <th class=\"col_heading level0 col23\" >group_size</th>        <th class=\"col_heading level0 col24\" >total_entities</th>        <th class=\"col_heading level0 col25\" >prev</th>        <th class=\"col_heading level0 col26\" >label_value_significance</th>        <th class=\"col_heading level0 col27\" >score_significance</th>        <th class=\"col_heading level0 col28\" >fdr_disparity</th>        <th class=\"col_heading level0 col29\" >fdr_ref_group_value</th>        <th class=\"col_heading level0 col30\" >fdr_significance</th>        <th class=\"col_heading level0 col31\" >fnr_disparity</th>        <th class=\"col_heading level0 col32\" >fnr_ref_group_value</th>        <th class=\"col_heading level0 col33\" >fnr_significance</th>        <th class=\"col_heading level0 col34\" >for_disparity</th>        <th class=\"col_heading level0 col35\" >for_ref_group_value</th>        <th class=\"col_heading level0 col36\" >for_significance</th>        <th class=\"col_heading level0 col37\" >fpr_disparity</th>        <th class=\"col_heading level0 col38\" >fpr_ref_group_value</th>        <th class=\"col_heading level0 col39\" >fpr_significance</th>        <th class=\"col_heading level0 col40\" >npv_disparity</th>        <th class=\"col_heading level0 col41\" >npv_ref_group_value</th>        <th class=\"col_heading level0 col42\" >npv_significance</th>        <th class=\"col_heading level0 col43\" >ppr_disparity</th>        <th class=\"col_heading level0 col44\" >ppr_ref_group_value</th>        <th class=\"col_heading level0 col45\" >ppr_significance</th>        <th class=\"col_heading level0 col46\" >pprev_disparity</th>        <th class=\"col_heading level0 col47\" >pprev_ref_group_value</th>        <th class=\"col_heading level0 col48\" >pprev_significance</th>        <th class=\"col_heading level0 col49\" >precision_disparity</th>        <th class=\"col_heading level0 col50\" >precision_ref_group_value</th>        <th class=\"col_heading level0 col51\" >precision_significance</th>        <th class=\"col_heading level0 col52\" >tnr_disparity</th>        <th class=\"col_heading level0 col53\" >tnr_ref_group_value</th>        <th class=\"col_heading level0 col54\" >tnr_significance</th>        <th class=\"col_heading level0 col55\" >tpr_disparity</th>        <th class=\"col_heading level0 col56\" >tpr_ref_group_value</th>        <th class=\"col_heading level0 col57\" >tpr_significance</th>    </tr></thead><tbody>\n",
       "                <tr>\n",
       "                        <th id=\"T_148ab_level0_row0\" class=\"row_heading level0 row0\" >0</th>\n",
       "                        <td id=\"T_148ab_row0_col0\" class=\"data row0 col0\" >0</td>\n",
       "                        <td id=\"T_148ab_row0_col1\" class=\"data row0 col1\" >binary 0/1</td>\n",
       "                        <td id=\"T_148ab_row0_col2\" class=\"data row0 col2\" >810</td>\n",
       "                        <td id=\"T_148ab_row0_col3\" class=\"data row0 col3\" >race</td>\n",
       "                        <td id=\"T_148ab_row0_col4\" class=\"data row0 col4\" >African-American</td>\n",
       "                        <td id=\"T_148ab_row0_col5\" class=\"data row0 col5\" >0.661597</td>\n",
       "                        <td id=\"T_148ab_row0_col6\" class=\"data row0 col6\" >0.789267</td>\n",
       "                        <td id=\"T_148ab_row0_col7\" class=\"data row0 col7\" >0.227913</td>\n",
       "                        <td id=\"T_148ab_row0_col8\" class=\"data row0 col8\" >0.316306</td>\n",
       "                        <td id=\"T_148ab_row0_col9\" class=\"data row0 col9\" >0.210733</td>\n",
       "                        <td id=\"T_148ab_row0_col10\" class=\"data row0 col10\" >0.338403</td>\n",
       "                        <td id=\"T_148ab_row0_col11\" class=\"data row0 col11\" >0.772087</td>\n",
       "                        <td id=\"T_148ab_row0_col12\" class=\"data row0 col12\" >0.683694</td>\n",
       "                        <td id=\"T_148ab_row0_col13\" class=\"data row0 col13\" >509</td>\n",
       "                        <td id=\"T_148ab_row0_col14\" class=\"data row0 col14\" >781</td>\n",
       "                        <td id=\"T_148ab_row0_col15\" class=\"data row0 col15\" >0.628395</td>\n",
       "                        <td id=\"T_148ab_row0_col16\" class=\"data row0 col16\" >0.394574</td>\n",
       "                        <td id=\"T_148ab_row0_col17\" class=\"data row0 col17\" >161</td>\n",
       "                        <td id=\"T_148ab_row0_col18\" class=\"data row0 col18\" >178</td>\n",
       "                        <td id=\"T_148ab_row0_col19\" class=\"data row0 col19\" >603</td>\n",
       "                        <td id=\"T_148ab_row0_col20\" class=\"data row0 col20\" >348</td>\n",
       "                        <td id=\"T_148ab_row0_col21\" class=\"data row0 col21\" >526</td>\n",
       "                        <td id=\"T_148ab_row0_col22\" class=\"data row0 col22\" >764</td>\n",
       "                        <td id=\"T_148ab_row0_col23\" class=\"data row0 col23\" >1290</td>\n",
       "                        <td id=\"T_148ab_row0_col24\" class=\"data row0 col24\" >2594</td>\n",
       "                        <td id=\"T_148ab_row0_col25\" class=\"data row0 col25\" >0.407752</td>\n",
       "                        <td id=\"T_148ab_row0_col26\" class=\"data row0 col26\" >True</td>\n",
       "                        <td id=\"T_148ab_row0_col27\" class=\"data row0 col27\" >True</td>\n",
       "                        <td id=\"T_148ab_row0_col28\" class=\"data row0 col28\" >0.911462</td>\n",
       "                        <td id=\"T_148ab_row0_col29\" class=\"data row0 col29\" >Caucasian</td>\n",
       "                        <td id=\"T_148ab_row0_col30\" class=\"data row0 col30\" >False</td>\n",
       "                        <td id=\"T_148ab_row0_col31\" class=\"data row0 col31\" >0.752007</td>\n",
       "                        <td id=\"T_148ab_row0_col32\" class=\"data row0 col32\" >Caucasian</td>\n",
       "                        <td id=\"T_148ab_row0_col33\" class=\"data row0 col33\" >True</td>\n",
       "                        <td id=\"T_148ab_row0_col34\" class=\"data row0 col34\" >1.289559</td>\n",
       "                        <td id=\"T_148ab_row0_col35\" class=\"data row0 col35\" >Caucasian</td>\n",
       "                        <td id=\"T_148ab_row0_col36\" class=\"data row0 col36\" >True</td>\n",
       "                        <td id=\"T_148ab_row0_col37\" class=\"data row0 col37\" >1.721910</td>\n",
       "                        <td id=\"T_148ab_row0_col38\" class=\"data row0 col38\" >Caucasian</td>\n",
       "                        <td id=\"T_148ab_row0_col39\" class=\"data row0 col39\" >False</td>\n",
       "                        <td id=\"T_148ab_row0_col40\" class=\"data row0 col40\" >0.937838</td>\n",
       "                        <td id=\"T_148ab_row0_col41\" class=\"data row0 col41\" >Caucasian</td>\n",
       "                        <td id=\"T_148ab_row0_col42\" class=\"data row0 col42\" >True</td>\n",
       "                        <td id=\"T_148ab_row0_col43\" class=\"data row0 col43\" >2.324201</td>\n",
       "                        <td id=\"T_148ab_row0_col44\" class=\"data row0 col44\" >Caucasian</td>\n",
       "                        <td id=\"T_148ab_row0_col45\" class=\"data row0 col45\" >True</td>\n",
       "                        <td id=\"T_148ab_row0_col46\" class=\"data row0 col46\" >1.587303</td>\n",
       "                        <td id=\"T_148ab_row0_col47\" class=\"data row0 col47\" >Caucasian</td>\n",
       "                        <td id=\"T_148ab_row0_col48\" class=\"data row0 col48\" >True</td>\n",
       "                        <td id=\"T_148ab_row0_col49\" class=\"data row0 col49\" >1.047055</td>\n",
       "                        <td id=\"T_148ab_row0_col50\" class=\"data row0 col50\" >Caucasian</td>\n",
       "                        <td id=\"T_148ab_row0_col51\" class=\"data row0 col51\" >False</td>\n",
       "                        <td id=\"T_148ab_row0_col52\" class=\"data row0 col52\" >0.899330</td>\n",
       "                        <td id=\"T_148ab_row0_col53\" class=\"data row0 col53\" >Caucasian</td>\n",
       "                        <td id=\"T_148ab_row0_col54\" class=\"data row0 col54\" >False</td>\n",
       "                        <td id=\"T_148ab_row0_col55\" class=\"data row0 col55\" >1.202904</td>\n",
       "                        <td id=\"T_148ab_row0_col56\" class=\"data row0 col56\" >Caucasian</td>\n",
       "                        <td id=\"T_148ab_row0_col57\" class=\"data row0 col57\" >True</td>\n",
       "            </tr>\n",
       "            <tr>\n",
       "                        <th id=\"T_148ab_level0_row1\" class=\"row_heading level0 row1\" >1</th>\n",
       "                        <td id=\"T_148ab_row1_col0\" class=\"data row1 col0\" >0</td>\n",
       "                        <td id=\"T_148ab_row1_col1\" class=\"data row1 col1\" >binary 0/1</td>\n",
       "                        <td id=\"T_148ab_row1_col2\" class=\"data row1 col2\" >810</td>\n",
       "                        <td id=\"T_148ab_row1_col3\" class=\"data row1 col3\" >race</td>\n",
       "                        <td id=\"T_148ab_row1_col4\" class=\"data row1 col4\" >Asian</td>\n",
       "                        <td id=\"T_148ab_row1_col5\" class=\"data row1 col5\" >0.500000</td>\n",
       "                        <td id=\"T_148ab_row1_col6\" class=\"data row1 col6\" >1.000000</td>\n",
       "                        <td id=\"T_148ab_row1_col7\" class=\"data row1 col7\" >0.125000</td>\n",
       "                        <td id=\"T_148ab_row1_col8\" class=\"data row1 col8\" >0.000000</td>\n",
       "                        <td id=\"T_148ab_row1_col9\" class=\"data row1 col9\" >0.000000</td>\n",
       "                        <td id=\"T_148ab_row1_col10\" class=\"data row1 col10\" >0.500000</td>\n",
       "                        <td id=\"T_148ab_row1_col11\" class=\"data row1 col11\" >0.875000</td>\n",
       "                        <td id=\"T_148ab_row1_col12\" class=\"data row1 col12\" >1.000000</td>\n",
       "                        <td id=\"T_148ab_row1_col13\" class=\"data row1 col13\" >1</td>\n",
       "                        <td id=\"T_148ab_row1_col14\" class=\"data row1 col14\" >8</td>\n",
       "                        <td id=\"T_148ab_row1_col15\" class=\"data row1 col15\" >0.001235</td>\n",
       "                        <td id=\"T_148ab_row1_col16\" class=\"data row1 col16\" >0.111111</td>\n",
       "                        <td id=\"T_148ab_row1_col17\" class=\"data row1 col17\" >0</td>\n",
       "                        <td id=\"T_148ab_row1_col18\" class=\"data row1 col18\" >1</td>\n",
       "                        <td id=\"T_148ab_row1_col19\" class=\"data row1 col19\" >7</td>\n",
       "                        <td id=\"T_148ab_row1_col20\" class=\"data row1 col20\" >1</td>\n",
       "                        <td id=\"T_148ab_row1_col21\" class=\"data row1 col21\" >2</td>\n",
       "                        <td id=\"T_148ab_row1_col22\" class=\"data row1 col22\" >7</td>\n",
       "                        <td id=\"T_148ab_row1_col23\" class=\"data row1 col23\" >9</td>\n",
       "                        <td id=\"T_148ab_row1_col24\" class=\"data row1 col24\" >2594</td>\n",
       "                        <td id=\"T_148ab_row1_col25\" class=\"data row1 col25\" >0.222222</td>\n",
       "                        <td id=\"T_148ab_row1_col26\" class=\"data row1 col26\" >False</td>\n",
       "                        <td id=\"T_148ab_row1_col27\" class=\"data row1 col27\" >False</td>\n",
       "                        <td id=\"T_148ab_row1_col28\" class=\"data row1 col28\" >0.000000</td>\n",
       "                        <td id=\"T_148ab_row1_col29\" class=\"data row1 col29\" >Caucasian</td>\n",
       "                        <td id=\"T_148ab_row1_col30\" class=\"data row1 col30\" >None</td>\n",
       "                        <td id=\"T_148ab_row1_col31\" class=\"data row1 col31\" >1.111111</td>\n",
       "                        <td id=\"T_148ab_row1_col32\" class=\"data row1 col32\" >Caucasian</td>\n",
       "                        <td id=\"T_148ab_row1_col33\" class=\"data row1 col33\" >False</td>\n",
       "                        <td id=\"T_148ab_row1_col34\" class=\"data row1 col34\" >0.707265</td>\n",
       "                        <td id=\"T_148ab_row1_col35\" class=\"data row1 col35\" >Caucasian</td>\n",
       "                        <td id=\"T_148ab_row1_col36\" class=\"data row1 col36\" >False</td>\n",
       "                        <td id=\"T_148ab_row1_col37\" class=\"data row1 col37\" >0.000000</td>\n",
       "                        <td id=\"T_148ab_row1_col38\" class=\"data row1 col38\" >Caucasian</td>\n",
       "                        <td id=\"T_148ab_row1_col39\" class=\"data row1 col39\" >None</td>\n",
       "                        <td id=\"T_148ab_row1_col40\" class=\"data row1 col40\" >1.062844</td>\n",
       "                        <td id=\"T_148ab_row1_col41\" class=\"data row1 col41\" >Caucasian</td>\n",
       "                        <td id=\"T_148ab_row1_col42\" class=\"data row1 col42\" >False</td>\n",
       "                        <td id=\"T_148ab_row1_col43\" class=\"data row1 col43\" >0.004566</td>\n",
       "                        <td id=\"T_148ab_row1_col44\" class=\"data row1 col44\" >Caucasian</td>\n",
       "                        <td id=\"T_148ab_row1_col45\" class=\"data row1 col45\" >False</td>\n",
       "                        <td id=\"T_148ab_row1_col46\" class=\"data row1 col46\" >0.446981</td>\n",
       "                        <td id=\"T_148ab_row1_col47\" class=\"data row1 col47\" >Caucasian</td>\n",
       "                        <td id=\"T_148ab_row1_col48\" class=\"data row1 col48\" >False</td>\n",
       "                        <td id=\"T_148ab_row1_col49\" class=\"data row1 col49\" >1.531469</td>\n",
       "                        <td id=\"T_148ab_row1_col50\" class=\"data row1 col50\" >Caucasian</td>\n",
       "                        <td id=\"T_148ab_row1_col51\" class=\"data row1 col51\" >None</td>\n",
       "                        <td id=\"T_148ab_row1_col52\" class=\"data row1 col52\" >1.139450</td>\n",
       "                        <td id=\"T_148ab_row1_col53\" class=\"data row1 col53\" >Caucasian</td>\n",
       "                        <td id=\"T_148ab_row1_col54\" class=\"data row1 col54\" >None</td>\n",
       "                        <td id=\"T_148ab_row1_col55\" class=\"data row1 col55\" >0.909091</td>\n",
       "                        <td id=\"T_148ab_row1_col56\" class=\"data row1 col56\" >Caucasian</td>\n",
       "                        <td id=\"T_148ab_row1_col57\" class=\"data row1 col57\" >False</td>\n",
       "            </tr>\n",
       "            <tr>\n",
       "                        <th id=\"T_148ab_level0_row2\" class=\"row_heading level0 row2\" >2</th>\n",
       "                        <td id=\"T_148ab_row2_col0\" class=\"data row2 col0\" >0</td>\n",
       "                        <td id=\"T_148ab_row2_col1\" class=\"data row2 col1\" >binary 0/1</td>\n",
       "                        <td id=\"T_148ab_row2_col2\" class=\"data row2 col2\" >810</td>\n",
       "                        <td id=\"T_148ab_row2_col3\" class=\"data row2 col3\" >race</td>\n",
       "                        <td id=\"T_148ab_row2_col4\" class=\"data row2 col4\" >Caucasian</td>\n",
       "                        <td id=\"T_148ab_row2_col5\" class=\"data row2 col5\" >0.550000</td>\n",
       "                        <td id=\"T_148ab_row2_col6\" class=\"data row2 col6\" >0.877617</td>\n",
       "                        <td id=\"T_148ab_row2_col7\" class=\"data row2 col7\" >0.176737</td>\n",
       "                        <td id=\"T_148ab_row2_col8\" class=\"data row2 col8\" >0.347032</td>\n",
       "                        <td id=\"T_148ab_row2_col9\" class=\"data row2 col9\" >0.122383</td>\n",
       "                        <td id=\"T_148ab_row2_col10\" class=\"data row2 col10\" >0.450000</td>\n",
       "                        <td id=\"T_148ab_row2_col11\" class=\"data row2 col11\" >0.823263</td>\n",
       "                        <td id=\"T_148ab_row2_col12\" class=\"data row2 col12\" >0.652968</td>\n",
       "                        <td id=\"T_148ab_row2_col13\" class=\"data row2 col13\" >219</td>\n",
       "                        <td id=\"T_148ab_row2_col14\" class=\"data row2 col14\" >662</td>\n",
       "                        <td id=\"T_148ab_row2_col15\" class=\"data row2 col15\" >0.270370</td>\n",
       "                        <td id=\"T_148ab_row2_col16\" class=\"data row2 col16\" >0.248581</td>\n",
       "                        <td id=\"T_148ab_row2_col17\" class=\"data row2 col17\" >76</td>\n",
       "                        <td id=\"T_148ab_row2_col18\" class=\"data row2 col18\" >117</td>\n",
       "                        <td id=\"T_148ab_row2_col19\" class=\"data row2 col19\" >545</td>\n",
       "                        <td id=\"T_148ab_row2_col20\" class=\"data row2 col20\" >143</td>\n",
       "                        <td id=\"T_148ab_row2_col21\" class=\"data row2 col21\" >260</td>\n",
       "                        <td id=\"T_148ab_row2_col22\" class=\"data row2 col22\" >621</td>\n",
       "                        <td id=\"T_148ab_row2_col23\" class=\"data row2 col23\" >881</td>\n",
       "                        <td id=\"T_148ab_row2_col24\" class=\"data row2 col24\" >2594</td>\n",
       "                        <td id=\"T_148ab_row2_col25\" class=\"data row2 col25\" >0.295119</td>\n",
       "                        <td id=\"T_148ab_row2_col26\" class=\"data row2 col26\" >False</td>\n",
       "                        <td id=\"T_148ab_row2_col27\" class=\"data row2 col27\" >False</td>\n",
       "                        <td id=\"T_148ab_row2_col28\" class=\"data row2 col28\" >1.000000</td>\n",
       "                        <td id=\"T_148ab_row2_col29\" class=\"data row2 col29\" >Caucasian</td>\n",
       "                        <td id=\"T_148ab_row2_col30\" class=\"data row2 col30\" >False</td>\n",
       "                        <td id=\"T_148ab_row2_col31\" class=\"data row2 col31\" >1.000000</td>\n",
       "                        <td id=\"T_148ab_row2_col32\" class=\"data row2 col32\" >Caucasian</td>\n",
       "                        <td id=\"T_148ab_row2_col33\" class=\"data row2 col33\" >False</td>\n",
       "                        <td id=\"T_148ab_row2_col34\" class=\"data row2 col34\" >1.000000</td>\n",
       "                        <td id=\"T_148ab_row2_col35\" class=\"data row2 col35\" >Caucasian</td>\n",
       "                        <td id=\"T_148ab_row2_col36\" class=\"data row2 col36\" >False</td>\n",
       "                        <td id=\"T_148ab_row2_col37\" class=\"data row2 col37\" >1.000000</td>\n",
       "                        <td id=\"T_148ab_row2_col38\" class=\"data row2 col38\" >Caucasian</td>\n",
       "                        <td id=\"T_148ab_row2_col39\" class=\"data row2 col39\" >False</td>\n",
       "                        <td id=\"T_148ab_row2_col40\" class=\"data row2 col40\" >1.000000</td>\n",
       "                        <td id=\"T_148ab_row2_col41\" class=\"data row2 col41\" >Caucasian</td>\n",
       "                        <td id=\"T_148ab_row2_col42\" class=\"data row2 col42\" >False</td>\n",
       "                        <td id=\"T_148ab_row2_col43\" class=\"data row2 col43\" >1.000000</td>\n",
       "                        <td id=\"T_148ab_row2_col44\" class=\"data row2 col44\" >Caucasian</td>\n",
       "                        <td id=\"T_148ab_row2_col45\" class=\"data row2 col45\" >False</td>\n",
       "                        <td id=\"T_148ab_row2_col46\" class=\"data row2 col46\" >1.000000</td>\n",
       "                        <td id=\"T_148ab_row2_col47\" class=\"data row2 col47\" >Caucasian</td>\n",
       "                        <td id=\"T_148ab_row2_col48\" class=\"data row2 col48\" >False</td>\n",
       "                        <td id=\"T_148ab_row2_col49\" class=\"data row2 col49\" >1.000000</td>\n",
       "                        <td id=\"T_148ab_row2_col50\" class=\"data row2 col50\" >Caucasian</td>\n",
       "                        <td id=\"T_148ab_row2_col51\" class=\"data row2 col51\" >False</td>\n",
       "                        <td id=\"T_148ab_row2_col52\" class=\"data row2 col52\" >1.000000</td>\n",
       "                        <td id=\"T_148ab_row2_col53\" class=\"data row2 col53\" >Caucasian</td>\n",
       "                        <td id=\"T_148ab_row2_col54\" class=\"data row2 col54\" >False</td>\n",
       "                        <td id=\"T_148ab_row2_col55\" class=\"data row2 col55\" >1.000000</td>\n",
       "                        <td id=\"T_148ab_row2_col56\" class=\"data row2 col56\" >Caucasian</td>\n",
       "                        <td id=\"T_148ab_row2_col57\" class=\"data row2 col57\" >False</td>\n",
       "            </tr>\n",
       "            <tr>\n",
       "                        <th id=\"T_148ab_level0_row3\" class=\"row_heading level0 row3\" >3</th>\n",
       "                        <td id=\"T_148ab_row3_col0\" class=\"data row3 col0\" >0</td>\n",
       "                        <td id=\"T_148ab_row3_col1\" class=\"data row3 col1\" >binary 0/1</td>\n",
       "                        <td id=\"T_148ab_row3_col2\" class=\"data row3 col2\" >810</td>\n",
       "                        <td id=\"T_148ab_row3_col3\" class=\"data row3 col3\" >race</td>\n",
       "                        <td id=\"T_148ab_row3_col4\" class=\"data row3 col4\" >Hispanic</td>\n",
       "                        <td id=\"T_148ab_row3_col5\" class=\"data row3 col5\" >0.468354</td>\n",
       "                        <td id=\"T_148ab_row3_col6\" class=\"data row3 col6\" >0.906077</td>\n",
       "                        <td id=\"T_148ab_row3_col7\" class=\"data row3 col7\" >0.203883</td>\n",
       "                        <td id=\"T_148ab_row3_col8\" class=\"data row3 col8\" >0.314815</td>\n",
       "                        <td id=\"T_148ab_row3_col9\" class=\"data row3 col9\" >0.093923</td>\n",
       "                        <td id=\"T_148ab_row3_col10\" class=\"data row3 col10\" >0.531646</td>\n",
       "                        <td id=\"T_148ab_row3_col11\" class=\"data row3 col11\" >0.796117</td>\n",
       "                        <td id=\"T_148ab_row3_col12\" class=\"data row3 col12\" >0.685185</td>\n",
       "                        <td id=\"T_148ab_row3_col13\" class=\"data row3 col13\" >54</td>\n",
       "                        <td id=\"T_148ab_row3_col14\" class=\"data row3 col14\" >206</td>\n",
       "                        <td id=\"T_148ab_row3_col15\" class=\"data row3 col15\" >0.066667</td>\n",
       "                        <td id=\"T_148ab_row3_col16\" class=\"data row3 col16\" >0.207692</td>\n",
       "                        <td id=\"T_148ab_row3_col17\" class=\"data row3 col17\" >17</td>\n",
       "                        <td id=\"T_148ab_row3_col18\" class=\"data row3 col18\" >42</td>\n",
       "                        <td id=\"T_148ab_row3_col19\" class=\"data row3 col19\" >164</td>\n",
       "                        <td id=\"T_148ab_row3_col20\" class=\"data row3 col20\" >37</td>\n",
       "                        <td id=\"T_148ab_row3_col21\" class=\"data row3 col21\" >79</td>\n",
       "                        <td id=\"T_148ab_row3_col22\" class=\"data row3 col22\" >181</td>\n",
       "                        <td id=\"T_148ab_row3_col23\" class=\"data row3 col23\" >260</td>\n",
       "                        <td id=\"T_148ab_row3_col24\" class=\"data row3 col24\" >2594</td>\n",
       "                        <td id=\"T_148ab_row3_col25\" class=\"data row3 col25\" >0.303846</td>\n",
       "                        <td id=\"T_148ab_row3_col26\" class=\"data row3 col26\" >False</td>\n",
       "                        <td id=\"T_148ab_row3_col27\" class=\"data row3 col27\" >False</td>\n",
       "                        <td id=\"T_148ab_row3_col28\" class=\"data row3 col28\" >0.907164</td>\n",
       "                        <td id=\"T_148ab_row3_col29\" class=\"data row3 col29\" >Caucasian</td>\n",
       "                        <td id=\"T_148ab_row3_col30\" class=\"data row3 col30\" >False</td>\n",
       "                        <td id=\"T_148ab_row3_col31\" class=\"data row3 col31\" >1.181435</td>\n",
       "                        <td id=\"T_148ab_row3_col32\" class=\"data row3 col32\" >Caucasian</td>\n",
       "                        <td id=\"T_148ab_row3_col33\" class=\"data row3 col33\" >False</td>\n",
       "                        <td id=\"T_148ab_row3_col34\" class=\"data row3 col34\" >1.153597</td>\n",
       "                        <td id=\"T_148ab_row3_col35\" class=\"data row3 col35\" >Caucasian</td>\n",
       "                        <td id=\"T_148ab_row3_col36\" class=\"data row3 col36\" >False</td>\n",
       "                        <td id=\"T_148ab_row3_col37\" class=\"data row3 col37\" >0.767447</td>\n",
       "                        <td id=\"T_148ab_row3_col38\" class=\"data row3 col38\" >Caucasian</td>\n",
       "                        <td id=\"T_148ab_row3_col39\" class=\"data row3 col39\" >False</td>\n",
       "                        <td id=\"T_148ab_row3_col40\" class=\"data row3 col40\" >0.967026</td>\n",
       "                        <td id=\"T_148ab_row3_col41\" class=\"data row3 col41\" >Caucasian</td>\n",
       "                        <td id=\"T_148ab_row3_col42\" class=\"data row3 col42\" >False</td>\n",
       "                        <td id=\"T_148ab_row3_col43\" class=\"data row3 col43\" >0.246575</td>\n",
       "                        <td id=\"T_148ab_row3_col44\" class=\"data row3 col44\" >Caucasian</td>\n",
       "                        <td id=\"T_148ab_row3_col45\" class=\"data row3 col45\" >False</td>\n",
       "                        <td id=\"T_148ab_row3_col46\" class=\"data row3 col46\" >0.835511</td>\n",
       "                        <td id=\"T_148ab_row3_col47\" class=\"data row3 col47\" >Caucasian</td>\n",
       "                        <td id=\"T_148ab_row3_col48\" class=\"data row3 col48\" >False</td>\n",
       "                        <td id=\"T_148ab_row3_col49\" class=\"data row3 col49\" >1.049340</td>\n",
       "                        <td id=\"T_148ab_row3_col50\" class=\"data row3 col50\" >Caucasian</td>\n",
       "                        <td id=\"T_148ab_row3_col51\" class=\"data row3 col51\" >False</td>\n",
       "                        <td id=\"T_148ab_row3_col52\" class=\"data row3 col52\" >1.032429</td>\n",
       "                        <td id=\"T_148ab_row3_col53\" class=\"data row3 col53\" >Caucasian</td>\n",
       "                        <td id=\"T_148ab_row3_col54\" class=\"data row3 col54\" >False</td>\n",
       "                        <td id=\"T_148ab_row3_col55\" class=\"data row3 col55\" >0.851554</td>\n",
       "                        <td id=\"T_148ab_row3_col56\" class=\"data row3 col56\" >Caucasian</td>\n",
       "                        <td id=\"T_148ab_row3_col57\" class=\"data row3 col57\" >False</td>\n",
       "            </tr>\n",
       "            <tr>\n",
       "                        <th id=\"T_148ab_level0_row4\" class=\"row_heading level0 row4\" >4</th>\n",
       "                        <td id=\"T_148ab_row4_col0\" class=\"data row4 col0\" >0</td>\n",
       "                        <td id=\"T_148ab_row4_col1\" class=\"data row4 col1\" >binary 0/1</td>\n",
       "                        <td id=\"T_148ab_row4_col2\" class=\"data row4 col2\" >810</td>\n",
       "                        <td id=\"T_148ab_row4_col3\" class=\"data row4 col3\" >race</td>\n",
       "                        <td id=\"T_148ab_row4_col4\" class=\"data row4 col4\" >Native American</td>\n",
       "                        <td id=\"T_148ab_row4_col5\" class=\"data row4 col5\" >1.000000</td>\n",
       "                        <td id=\"T_148ab_row4_col6\" class=\"data row4 col6\" >1.000000</td>\n",
       "                        <td id=\"T_148ab_row4_col7\" class=\"data row4 col7\" >0.000000</td>\n",
       "                        <td id=\"T_148ab_row4_col8\" class=\"data row4 col8\" >0.000000</td>\n",
       "                        <td id=\"T_148ab_row4_col9\" class=\"data row4 col9\" >0.000000</td>\n",
       "                        <td id=\"T_148ab_row4_col10\" class=\"data row4 col10\" >0.000000</td>\n",
       "                        <td id=\"T_148ab_row4_col11\" class=\"data row4 col11\" >1.000000</td>\n",
       "                        <td id=\"T_148ab_row4_col12\" class=\"data row4 col12\" >1.000000</td>\n",
       "                        <td id=\"T_148ab_row4_col13\" class=\"data row4 col13\" >2</td>\n",
       "                        <td id=\"T_148ab_row4_col14\" class=\"data row4 col14\" >4</td>\n",
       "                        <td id=\"T_148ab_row4_col15\" class=\"data row4 col15\" >0.002469</td>\n",
       "                        <td id=\"T_148ab_row4_col16\" class=\"data row4 col16\" >0.333333</td>\n",
       "                        <td id=\"T_148ab_row4_col17\" class=\"data row4 col17\" >0</td>\n",
       "                        <td id=\"T_148ab_row4_col18\" class=\"data row4 col18\" >0</td>\n",
       "                        <td id=\"T_148ab_row4_col19\" class=\"data row4 col19\" >4</td>\n",
       "                        <td id=\"T_148ab_row4_col20\" class=\"data row4 col20\" >2</td>\n",
       "                        <td id=\"T_148ab_row4_col21\" class=\"data row4 col21\" >2</td>\n",
       "                        <td id=\"T_148ab_row4_col22\" class=\"data row4 col22\" >4</td>\n",
       "                        <td id=\"T_148ab_row4_col23\" class=\"data row4 col23\" >6</td>\n",
       "                        <td id=\"T_148ab_row4_col24\" class=\"data row4 col24\" >2594</td>\n",
       "                        <td id=\"T_148ab_row4_col25\" class=\"data row4 col25\" >0.333333</td>\n",
       "                        <td id=\"T_148ab_row4_col26\" class=\"data row4 col26\" >False</td>\n",
       "                        <td id=\"T_148ab_row4_col27\" class=\"data row4 col27\" >False</td>\n",
       "                        <td id=\"T_148ab_row4_col28\" class=\"data row4 col28\" >0.000000</td>\n",
       "                        <td id=\"T_148ab_row4_col29\" class=\"data row4 col29\" >Caucasian</td>\n",
       "                        <td id=\"T_148ab_row4_col30\" class=\"data row4 col30\" >False</td>\n",
       "                        <td id=\"T_148ab_row4_col31\" class=\"data row4 col31\" >0.000000</td>\n",
       "                        <td id=\"T_148ab_row4_col32\" class=\"data row4 col32\" >Caucasian</td>\n",
       "                        <td id=\"T_148ab_row4_col33\" class=\"data row4 col33\" >False</td>\n",
       "                        <td id=\"T_148ab_row4_col34\" class=\"data row4 col34\" >0.000000</td>\n",
       "                        <td id=\"T_148ab_row4_col35\" class=\"data row4 col35\" >Caucasian</td>\n",
       "                        <td id=\"T_148ab_row4_col36\" class=\"data row4 col36\" >False</td>\n",
       "                        <td id=\"T_148ab_row4_col37\" class=\"data row4 col37\" >0.000000</td>\n",
       "                        <td id=\"T_148ab_row4_col38\" class=\"data row4 col38\" >Caucasian</td>\n",
       "                        <td id=\"T_148ab_row4_col39\" class=\"data row4 col39\" >False</td>\n",
       "                        <td id=\"T_148ab_row4_col40\" class=\"data row4 col40\" >1.214679</td>\n",
       "                        <td id=\"T_148ab_row4_col41\" class=\"data row4 col41\" >Caucasian</td>\n",
       "                        <td id=\"T_148ab_row4_col42\" class=\"data row4 col42\" >False</td>\n",
       "                        <td id=\"T_148ab_row4_col43\" class=\"data row4 col43\" >0.009132</td>\n",
       "                        <td id=\"T_148ab_row4_col44\" class=\"data row4 col44\" >Caucasian</td>\n",
       "                        <td id=\"T_148ab_row4_col45\" class=\"data row4 col45\" >False</td>\n",
       "                        <td id=\"T_148ab_row4_col46\" class=\"data row4 col46\" >1.340944</td>\n",
       "                        <td id=\"T_148ab_row4_col47\" class=\"data row4 col47\" >Caucasian</td>\n",
       "                        <td id=\"T_148ab_row4_col48\" class=\"data row4 col48\" >False</td>\n",
       "                        <td id=\"T_148ab_row4_col49\" class=\"data row4 col49\" >1.531469</td>\n",
       "                        <td id=\"T_148ab_row4_col50\" class=\"data row4 col50\" >Caucasian</td>\n",
       "                        <td id=\"T_148ab_row4_col51\" class=\"data row4 col51\" >False</td>\n",
       "                        <td id=\"T_148ab_row4_col52\" class=\"data row4 col52\" >1.139450</td>\n",
       "                        <td id=\"T_148ab_row4_col53\" class=\"data row4 col53\" >Caucasian</td>\n",
       "                        <td id=\"T_148ab_row4_col54\" class=\"data row4 col54\" >False</td>\n",
       "                        <td id=\"T_148ab_row4_col55\" class=\"data row4 col55\" >1.818182</td>\n",
       "                        <td id=\"T_148ab_row4_col56\" class=\"data row4 col56\" >Caucasian</td>\n",
       "                        <td id=\"T_148ab_row4_col57\" class=\"data row4 col57\" >False</td>\n",
       "            </tr>\n",
       "            <tr>\n",
       "                        <th id=\"T_148ab_level0_row5\" class=\"row_heading level0 row5\" >5</th>\n",
       "                        <td id=\"T_148ab_row5_col0\" class=\"data row5 col0\" >0</td>\n",
       "                        <td id=\"T_148ab_row5_col1\" class=\"data row5 col1\" >binary 0/1</td>\n",
       "                        <td id=\"T_148ab_row5_col2\" class=\"data row5 col2\" >810</td>\n",
       "                        <td id=\"T_148ab_row5_col3\" class=\"data row5 col3\" >race</td>\n",
       "                        <td id=\"T_148ab_row5_col4\" class=\"data row5 col4\" >Other</td>\n",
       "                        <td id=\"T_148ab_row5_col5\" class=\"data row5 col5\" >0.636364</td>\n",
       "                        <td id=\"T_148ab_row5_col6\" class=\"data row5 col6\" >0.965217</td>\n",
       "                        <td id=\"T_148ab_row5_col7\" class=\"data row5 col7\" >0.097561</td>\n",
       "                        <td id=\"T_148ab_row5_col8\" class=\"data row5 col8\" >0.160000</td>\n",
       "                        <td id=\"T_148ab_row5_col9\" class=\"data row5 col9\" >0.034783</td>\n",
       "                        <td id=\"T_148ab_row5_col10\" class=\"data row5 col10\" >0.363636</td>\n",
       "                        <td id=\"T_148ab_row5_col11\" class=\"data row5 col11\" >0.902439</td>\n",
       "                        <td id=\"T_148ab_row5_col12\" class=\"data row5 col12\" >0.840000</td>\n",
       "                        <td id=\"T_148ab_row5_col13\" class=\"data row5 col13\" >25</td>\n",
       "                        <td id=\"T_148ab_row5_col14\" class=\"data row5 col14\" >123</td>\n",
       "                        <td id=\"T_148ab_row5_col15\" class=\"data row5 col15\" >0.030864</td>\n",
       "                        <td id=\"T_148ab_row5_col16\" class=\"data row5 col16\" >0.168919</td>\n",
       "                        <td id=\"T_148ab_row5_col17\" class=\"data row5 col17\" >4</td>\n",
       "                        <td id=\"T_148ab_row5_col18\" class=\"data row5 col18\" >12</td>\n",
       "                        <td id=\"T_148ab_row5_col19\" class=\"data row5 col19\" >111</td>\n",
       "                        <td id=\"T_148ab_row5_col20\" class=\"data row5 col20\" >21</td>\n",
       "                        <td id=\"T_148ab_row5_col21\" class=\"data row5 col21\" >33</td>\n",
       "                        <td id=\"T_148ab_row5_col22\" class=\"data row5 col22\" >115</td>\n",
       "                        <td id=\"T_148ab_row5_col23\" class=\"data row5 col23\" >148</td>\n",
       "                        <td id=\"T_148ab_row5_col24\" class=\"data row5 col24\" >2594</td>\n",
       "                        <td id=\"T_148ab_row5_col25\" class=\"data row5 col25\" >0.222973</td>\n",
       "                        <td id=\"T_148ab_row5_col26\" class=\"data row5 col26\" >False</td>\n",
       "                        <td id=\"T_148ab_row5_col27\" class=\"data row5 col27\" >True</td>\n",
       "                        <td id=\"T_148ab_row5_col28\" class=\"data row5 col28\" >0.461053</td>\n",
       "                        <td id=\"T_148ab_row5_col29\" class=\"data row5 col29\" >Caucasian</td>\n",
       "                        <td id=\"T_148ab_row5_col30\" class=\"data row5 col30\" >False</td>\n",
       "                        <td id=\"T_148ab_row5_col31\" class=\"data row5 col31\" >0.808081</td>\n",
       "                        <td id=\"T_148ab_row5_col32\" class=\"data row5 col32\" >Caucasian</td>\n",
       "                        <td id=\"T_148ab_row5_col33\" class=\"data row5 col33\" >True</td>\n",
       "                        <td id=\"T_148ab_row5_col34\" class=\"data row5 col34\" >0.552012</td>\n",
       "                        <td id=\"T_148ab_row5_col35\" class=\"data row5 col35\" >Caucasian</td>\n",
       "                        <td id=\"T_148ab_row5_col36\" class=\"data row5 col36\" >True</td>\n",
       "                        <td id=\"T_148ab_row5_col37\" class=\"data row5 col37\" >0.284211</td>\n",
       "                        <td id=\"T_148ab_row5_col38\" class=\"data row5 col38\" >Caucasian</td>\n",
       "                        <td id=\"T_148ab_row5_col39\" class=\"data row5 col39\" >False</td>\n",
       "                        <td id=\"T_148ab_row5_col40\" class=\"data row5 col40\" >1.096174</td>\n",
       "                        <td id=\"T_148ab_row5_col41\" class=\"data row5 col41\" >Caucasian</td>\n",
       "                        <td id=\"T_148ab_row5_col42\" class=\"data row5 col42\" >True</td>\n",
       "                        <td id=\"T_148ab_row5_col43\" class=\"data row5 col43\" >0.114155</td>\n",
       "                        <td id=\"T_148ab_row5_col44\" class=\"data row5 col44\" >Caucasian</td>\n",
       "                        <td id=\"T_148ab_row5_col45\" class=\"data row5 col45\" >True</td>\n",
       "                        <td id=\"T_148ab_row5_col46\" class=\"data row5 col46\" >0.679532</td>\n",
       "                        <td id=\"T_148ab_row5_col47\" class=\"data row5 col47\" >Caucasian</td>\n",
       "                        <td id=\"T_148ab_row5_col48\" class=\"data row5 col48\" >True</td>\n",
       "                        <td id=\"T_148ab_row5_col49\" class=\"data row5 col49\" >1.286434</td>\n",
       "                        <td id=\"T_148ab_row5_col50\" class=\"data row5 col50\" >Caucasian</td>\n",
       "                        <td id=\"T_148ab_row5_col51\" class=\"data row5 col51\" >False</td>\n",
       "                        <td id=\"T_148ab_row5_col52\" class=\"data row5 col52\" >1.099817</td>\n",
       "                        <td id=\"T_148ab_row5_col53\" class=\"data row5 col53\" >Caucasian</td>\n",
       "                        <td id=\"T_148ab_row5_col54\" class=\"data row5 col54\" >False</td>\n",
       "                        <td id=\"T_148ab_row5_col55\" class=\"data row5 col55\" >1.157025</td>\n",
       "                        <td id=\"T_148ab_row5_col56\" class=\"data row5 col56\" >Caucasian</td>\n",
       "                        <td id=\"T_148ab_row5_col57\" class=\"data row5 col57\" >True</td>\n",
       "            </tr>\n",
       "            <tr>\n",
       "                        <th id=\"T_148ab_level0_row6\" class=\"row_heading level0 row6\" >6</th>\n",
       "                        <td id=\"T_148ab_row6_col0\" class=\"data row6 col0\" >0</td>\n",
       "                        <td id=\"T_148ab_row6_col1\" class=\"data row6 col1\" >binary 0/1</td>\n",
       "                        <td id=\"T_148ab_row6_col2\" class=\"data row6 col2\" >810</td>\n",
       "                        <td id=\"T_148ab_row6_col3\" class=\"data row6 col3\" >sex</td>\n",
       "                        <td id=\"T_148ab_row6_col4\" class=\"data row6 col4\" >female</td>\n",
       "                        <td id=\"T_148ab_row6_col5\" class=\"data row6 col5\" >0.560284</td>\n",
       "                        <td id=\"T_148ab_row6_col6\" class=\"data row6 col6\" >0.905371</td>\n",
       "                        <td id=\"T_148ab_row6_col7\" class=\"data row6 col7\" >0.149038</td>\n",
       "                        <td id=\"T_148ab_row6_col8\" class=\"data row6 col8\" >0.318966</td>\n",
       "                        <td id=\"T_148ab_row6_col9\" class=\"data row6 col9\" >0.094629</td>\n",
       "                        <td id=\"T_148ab_row6_col10\" class=\"data row6 col10\" >0.439716</td>\n",
       "                        <td id=\"T_148ab_row6_col11\" class=\"data row6 col11\" >0.850962</td>\n",
       "                        <td id=\"T_148ab_row6_col12\" class=\"data row6 col12\" >0.681034</td>\n",
       "                        <td id=\"T_148ab_row6_col13\" class=\"data row6 col13\" >116</td>\n",
       "                        <td id=\"T_148ab_row6_col14\" class=\"data row6 col14\" >416</td>\n",
       "                        <td id=\"T_148ab_row6_col15\" class=\"data row6 col15\" >0.143210</td>\n",
       "                        <td id=\"T_148ab_row6_col16\" class=\"data row6 col16\" >0.218045</td>\n",
       "                        <td id=\"T_148ab_row6_col17\" class=\"data row6 col17\" >37</td>\n",
       "                        <td id=\"T_148ab_row6_col18\" class=\"data row6 col18\" >62</td>\n",
       "                        <td id=\"T_148ab_row6_col19\" class=\"data row6 col19\" >354</td>\n",
       "                        <td id=\"T_148ab_row6_col20\" class=\"data row6 col20\" >79</td>\n",
       "                        <td id=\"T_148ab_row6_col21\" class=\"data row6 col21\" >141</td>\n",
       "                        <td id=\"T_148ab_row6_col22\" class=\"data row6 col22\" >391</td>\n",
       "                        <td id=\"T_148ab_row6_col23\" class=\"data row6 col23\" >532</td>\n",
       "                        <td id=\"T_148ab_row6_col24\" class=\"data row6 col24\" >2594</td>\n",
       "                        <td id=\"T_148ab_row6_col25\" class=\"data row6 col25\" >0.265038</td>\n",
       "                        <td id=\"T_148ab_row6_col26\" class=\"data row6 col26\" >True</td>\n",
       "                        <td id=\"T_148ab_row6_col27\" class=\"data row6 col27\" >True</td>\n",
       "                        <td id=\"T_148ab_row6_col28\" class=\"data row6 col28\" >1.001638</td>\n",
       "                        <td id=\"T_148ab_row6_col29\" class=\"data row6 col29\" >male</td>\n",
       "                        <td id=\"T_148ab_row6_col30\" class=\"data row6 col30\" >False</td>\n",
       "                        <td id=\"T_148ab_row6_col31\" class=\"data row6 col31\" >1.161889</td>\n",
       "                        <td id=\"T_148ab_row6_col32\" class=\"data row6 col32\" >male</td>\n",
       "                        <td id=\"T_148ab_row6_col33\" class=\"data row6 col33\" >True</td>\n",
       "                        <td id=\"T_148ab_row6_col34\" class=\"data row6 col34\" >0.707933</td>\n",
       "                        <td id=\"T_148ab_row6_col35\" class=\"data row6 col35\" >male</td>\n",
       "                        <td id=\"T_148ab_row6_col36\" class=\"data row6 col36\" >True</td>\n",
       "                        <td id=\"T_148ab_row6_col37\" class=\"data row6 col37\" >0.557070</td>\n",
       "                        <td id=\"T_148ab_row6_col38\" class=\"data row6 col38\" >male</td>\n",
       "                        <td id=\"T_148ab_row6_col39\" class=\"data row6 col39\" >False</td>\n",
       "                        <td id=\"T_148ab_row6_col40\" class=\"data row6 col40\" >1.077885</td>\n",
       "                        <td id=\"T_148ab_row6_col41\" class=\"data row6 col41\" >male</td>\n",
       "                        <td id=\"T_148ab_row6_col42\" class=\"data row6 col42\" >True</td>\n",
       "                        <td id=\"T_148ab_row6_col43\" class=\"data row6 col43\" >0.167147</td>\n",
       "                        <td id=\"T_148ab_row6_col44\" class=\"data row6 col44\" >male</td>\n",
       "                        <td id=\"T_148ab_row6_col45\" class=\"data row6 col45\" >True</td>\n",
       "                        <td id=\"T_148ab_row6_col46\" class=\"data row6 col46\" >0.647852</td>\n",
       "                        <td id=\"T_148ab_row6_col47\" class=\"data row6 col47\" >male</td>\n",
       "                        <td id=\"T_148ab_row6_col48\" class=\"data row6 col48\" >True</td>\n",
       "                        <td id=\"T_148ab_row6_col49\" class=\"data row6 col49\" >0.999235</td>\n",
       "                        <td id=\"T_148ab_row6_col50\" class=\"data row6 col50\" >male</td>\n",
       "                        <td id=\"T_148ab_row6_col51\" class=\"data row6 col51\" >False</td>\n",
       "                        <td id=\"T_148ab_row6_col52\" class=\"data row6 col52\" >1.090637</td>\n",
       "                        <td id=\"T_148ab_row6_col53\" class=\"data row6 col53\" >male</td>\n",
       "                        <td id=\"T_148ab_row6_col54\" class=\"data row6 col54\" >False</td>\n",
       "                        <td id=\"T_148ab_row6_col55\" class=\"data row6 col55\" >0.901429</td>\n",
       "                        <td id=\"T_148ab_row6_col56\" class=\"data row6 col56\" >male</td>\n",
       "                        <td id=\"T_148ab_row6_col57\" class=\"data row6 col57\" >True</td>\n",
       "            </tr>\n",
       "            <tr>\n",
       "                        <th id=\"T_148ab_level0_row7\" class=\"row_heading level0 row7\" >7</th>\n",
       "                        <td id=\"T_148ab_row7_col0\" class=\"data row7 col0\" >0</td>\n",
       "                        <td id=\"T_148ab_row7_col1\" class=\"data row7 col1\" >binary 0/1</td>\n",
       "                        <td id=\"T_148ab_row7_col2\" class=\"data row7 col2\" >810</td>\n",
       "                        <td id=\"T_148ab_row7_col3\" class=\"data row7 col3\" >sex</td>\n",
       "                        <td id=\"T_148ab_row7_col4\" class=\"data row7 col4\" >male</td>\n",
       "                        <td id=\"T_148ab_row7_col5\" class=\"data row7 col5\" >0.621551</td>\n",
       "                        <td id=\"T_148ab_row7_col6\" class=\"data row7 col6\" >0.830131</td>\n",
       "                        <td id=\"T_148ab_row7_col7\" class=\"data row7 col7\" >0.210526</td>\n",
       "                        <td id=\"T_148ab_row7_col8\" class=\"data row7 col8\" >0.318444</td>\n",
       "                        <td id=\"T_148ab_row7_col9\" class=\"data row7 col9\" >0.169869</td>\n",
       "                        <td id=\"T_148ab_row7_col10\" class=\"data row7 col10\" >0.378449</td>\n",
       "                        <td id=\"T_148ab_row7_col11\" class=\"data row7 col11\" >0.789474</td>\n",
       "                        <td id=\"T_148ab_row7_col12\" class=\"data row7 col12\" >0.681556</td>\n",
       "                        <td id=\"T_148ab_row7_col13\" class=\"data row7 col13\" >694</td>\n",
       "                        <td id=\"T_148ab_row7_col14\" class=\"data row7 col14\" >1368</td>\n",
       "                        <td id=\"T_148ab_row7_col15\" class=\"data row7 col15\" >0.856790</td>\n",
       "                        <td id=\"T_148ab_row7_col16\" class=\"data row7 col16\" >0.336566</td>\n",
       "                        <td id=\"T_148ab_row7_col17\" class=\"data row7 col17\" >221</td>\n",
       "                        <td id=\"T_148ab_row7_col18\" class=\"data row7 col18\" >288</td>\n",
       "                        <td id=\"T_148ab_row7_col19\" class=\"data row7 col19\" >1080</td>\n",
       "                        <td id=\"T_148ab_row7_col20\" class=\"data row7 col20\" >473</td>\n",
       "                        <td id=\"T_148ab_row7_col21\" class=\"data row7 col21\" >761</td>\n",
       "                        <td id=\"T_148ab_row7_col22\" class=\"data row7 col22\" >1301</td>\n",
       "                        <td id=\"T_148ab_row7_col23\" class=\"data row7 col23\" >2062</td>\n",
       "                        <td id=\"T_148ab_row7_col24\" class=\"data row7 col24\" >2594</td>\n",
       "                        <td id=\"T_148ab_row7_col25\" class=\"data row7 col25\" >0.369059</td>\n",
       "                        <td id=\"T_148ab_row7_col26\" class=\"data row7 col26\" >False</td>\n",
       "                        <td id=\"T_148ab_row7_col27\" class=\"data row7 col27\" >False</td>\n",
       "                        <td id=\"T_148ab_row7_col28\" class=\"data row7 col28\" >1.000000</td>\n",
       "                        <td id=\"T_148ab_row7_col29\" class=\"data row7 col29\" >male</td>\n",
       "                        <td id=\"T_148ab_row7_col30\" class=\"data row7 col30\" >False</td>\n",
       "                        <td id=\"T_148ab_row7_col31\" class=\"data row7 col31\" >1.000000</td>\n",
       "                        <td id=\"T_148ab_row7_col32\" class=\"data row7 col32\" >male</td>\n",
       "                        <td id=\"T_148ab_row7_col33\" class=\"data row7 col33\" >False</td>\n",
       "                        <td id=\"T_148ab_row7_col34\" class=\"data row7 col34\" >1.000000</td>\n",
       "                        <td id=\"T_148ab_row7_col35\" class=\"data row7 col35\" >male</td>\n",
       "                        <td id=\"T_148ab_row7_col36\" class=\"data row7 col36\" >False</td>\n",
       "                        <td id=\"T_148ab_row7_col37\" class=\"data row7 col37\" >1.000000</td>\n",
       "                        <td id=\"T_148ab_row7_col38\" class=\"data row7 col38\" >male</td>\n",
       "                        <td id=\"T_148ab_row7_col39\" class=\"data row7 col39\" >False</td>\n",
       "                        <td id=\"T_148ab_row7_col40\" class=\"data row7 col40\" >1.000000</td>\n",
       "                        <td id=\"T_148ab_row7_col41\" class=\"data row7 col41\" >male</td>\n",
       "                        <td id=\"T_148ab_row7_col42\" class=\"data row7 col42\" >False</td>\n",
       "                        <td id=\"T_148ab_row7_col43\" class=\"data row7 col43\" >1.000000</td>\n",
       "                        <td id=\"T_148ab_row7_col44\" class=\"data row7 col44\" >male</td>\n",
       "                        <td id=\"T_148ab_row7_col45\" class=\"data row7 col45\" >False</td>\n",
       "                        <td id=\"T_148ab_row7_col46\" class=\"data row7 col46\" >1.000000</td>\n",
       "                        <td id=\"T_148ab_row7_col47\" class=\"data row7 col47\" >male</td>\n",
       "                        <td id=\"T_148ab_row7_col48\" class=\"data row7 col48\" >False</td>\n",
       "                        <td id=\"T_148ab_row7_col49\" class=\"data row7 col49\" >1.000000</td>\n",
       "                        <td id=\"T_148ab_row7_col50\" class=\"data row7 col50\" >male</td>\n",
       "                        <td id=\"T_148ab_row7_col51\" class=\"data row7 col51\" >False</td>\n",
       "                        <td id=\"T_148ab_row7_col52\" class=\"data row7 col52\" >1.000000</td>\n",
       "                        <td id=\"T_148ab_row7_col53\" class=\"data row7 col53\" >male</td>\n",
       "                        <td id=\"T_148ab_row7_col54\" class=\"data row7 col54\" >False</td>\n",
       "                        <td id=\"T_148ab_row7_col55\" class=\"data row7 col55\" >1.000000</td>\n",
       "                        <td id=\"T_148ab_row7_col56\" class=\"data row7 col56\" >male</td>\n",
       "                        <td id=\"T_148ab_row7_col57\" class=\"data row7 col57\" >False</td>\n",
       "            </tr>\n",
       "    </tbody></table>"
      ],
      "text/plain": [
       "<pandas.io.formats.style.Styler at 0x7fede168c160>"
      ]
     },
     "execution_count": 91,
     "metadata": {},
     "output_type": "execute_result"
    }
   ],
   "source": [
    "#Use get_disparity method\n",
    "bdf = b.get_disparity_predefined_groups(xtab, original_df=aequitas, \n",
    "                                        ref_groups_dict={'race':'Caucasian', 'sex':'male'}, \n",
    "                                        alpha=0.05, check_significance=True, \n",
    "                                        mask_significance=True)\n",
    "bdf.style"
   ]
  },
  {
   "cell_type": "markdown",
   "metadata": {},
   "source": [
    "How do I interpret calculated disparity ratios?\n",
    "\n",
    "The calculated disparities from the dataframe returned by the Bias() class get_disparity_ methods are in relation to a reference group, which will always have a disparity of 1.0.\n",
    "\n",
    "The differences in False Positive Rates, noted in the discussion of the Group() class above, are clarified using the disparity ratio (fpr_disparity). Black people are falsely identified as a repeat offender 1.72 times the rate for white people.\n",
    "\n",
    "As seen above, False Discovery Rates have much less disparity (fdr_disparity), or fraction of false postives over predicted positive in a group. As reference groups have disparity = 1 by design in Aequitas, the lower disparity is highlighted by the fdr_disparity value close to 1.0 (0.91) for the race attribute group 'African-American' when disparities are calculated using predefined base group 'Caucasian'. Note that COMPAS is calibrated to balance False Positive Rate and False Discovery Rates across groups."
   ]
  },
  {
   "cell_type": "code",
   "execution_count": 97,
   "metadata": {},
   "outputs": [],
   "source": [
    "aqp = Plot()"
   ]
  },
  {
   "cell_type": "code",
   "execution_count": 104,
   "metadata": {},
   "outputs": [
    {
     "data": {
      "image/png": "[encoded data removed]",
      "text/plain": [
       "<Figure size 360x288 with 2 Axes>"
      ]
     },
     "metadata": {
      "needs_background": "light"
     },
     "output_type": "display_data"
    }
   ],
   "source": [
    "fpr_disparity = aqp.plot_disparity(bdf, group_metric='fpr_disparity', \n",
    "                                       attribute_name='race')"
   ]
  },
  {
   "cell_type": "code",
   "execution_count": null,
   "metadata": {},
   "outputs": [],
   "source": []
  }
 ],
 "metadata": {
  "colab": {
   "name": "eda.ipynb",
   "provenance": []
  },
  "kernelspec": {
   "display_name": "Python 3",
   "language": "python",
   "name": "python3"
  },
  "language_info": {
   "codemirror_mode": {
    "name": "ipython",
    "version": 3
   },
   "file_extension": ".py",
   "mimetype": "text/x-python",
   "name": "python",
   "nbconvert_exporter": "python",
   "pygments_lexer": "ipython3",
   "version": "3.8.5"
  }
 },
 "nbformat": 4,
 "nbformat_minor": 1
}
