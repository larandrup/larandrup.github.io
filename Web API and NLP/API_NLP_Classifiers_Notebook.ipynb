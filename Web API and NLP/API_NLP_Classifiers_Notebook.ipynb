{
 "cells": [
  {
   "cell_type": "markdown",
   "id": "general-monday",
   "metadata": {},
   "source": [
    "# SUMMARY"
   ]
  },
  {
   "cell_type": "markdown",
   "id": "green-spanish",
   "metadata": {},
   "source": [
    "**Requirements**\n",
    "\n",
    "Gather and prepare your data using the requests library.\n",
    "  - I gathered data using request, save them as csv files and used global library to add all the files for each subreddit csv. I created two dataframes for each subreddit then later added them to one dataframe. See below Data Gathering section for my data gathering process.\n",
    " \n",
    "Create and compare two classifier models. \n",
    "  - As mandatory requirement, I created a Random Forest Classifier model and optimized with the n-estimator, and using cross validation. I also created an Extra Trees Classifier to see if I can improve the score. Lastly, I created with Multinomial Naive Bayes classifier models in where I tried it both with CountVectorizer and TFIDVectorizer to see the difference. I optimized this by creating Pipeline and Gridsearch with best parameters.\n",
    "\n",
    "Jupyter Notebook with your analysis for a peer audience of data scientists. \n",
    "  - Please see notes and Evaluation for each model at the end.\n",
    "  \n",
    "An executive summary of your results.\n",
    "  - Please see ReadMe.md file\n",
    "\n",
    "A short presentation outlining your process and findings for a semi-technical audience.\n",
    "  - Please see A_Tale_of_Two_subreddits_through_NLP.pdf file.\n",
    "\n"
   ]
  },
  {
   "cell_type": "code",
   "execution_count": 2,
   "id": "designing-literacy",
   "metadata": {},
   "outputs": [],
   "source": [
    "import requests\n",
    "import numpy as np\n",
    "import pandas as pd"
   ]
  },
  {
   "cell_type": "code",
   "execution_count": 367,
   "id": "frozen-studio",
   "metadata": {},
   "outputs": [],
   "source": [
    "url = 'https://api.pushshift.io/reddit/search/submission'"
   ]
  },
  {
   "cell_type": "markdown",
   "id": "aware-receipt",
   "metadata": {},
   "source": [
    "# DATA GATHERING"
   ]
  },
  {
   "cell_type": "markdown",
   "id": "subjective-aquarium",
   "metadata": {},
   "source": [
    "Building the data gathering code..."
   ]
  },
  {
   "cell_type": "code",
   "execution_count": 286,
   "id": "medical-complexity",
   "metadata": {},
   "outputs": [],
   "source": [
    "#create a helper function to get data from a set of params/subreddit\n",
    "def get_data (params):\n",
    "    df = []\n",
    "    url = 'https://api.pushshift.io/reddit/search/submission'\n",
    "    \n",
    "    for i in range (0,35):\n",
    "        response = requests.get(url, params) #request\n",
    "        response.status_code\n",
    "        \n",
    "        \n",
    "        if response.status_code == 200:\n",
    "            data= response.json()\n",
    "            posts = data['data']\n",
    "            \n",
    "            df = pd.DataFrame(posts)\n",
    "            df = df[['subreddit','author','id','title','selftext','created_utc']]\n",
    "        \n",
    "            reddit=params['subreddit']\n",
    "            df.to_csv(f'{reddit}{i}.csv', index=False) \n",
    "            \n",
    "            created_utc = df['created_utc'].min() #restart the loop before the last minimum date-time stamp\n",
    "            params['before'] = created_utc\n",
    "            \n",
    "        else:\n",
    "            print ('Request Failed')\n",
    "            return"
   ]
  },
  {
   "cell_type": "markdown",
   "id": "handy-copying",
   "metadata": {},
   "source": [
    "# First Subreddit:  r/Coffee"
   ]
  },
  {
   "cell_type": "code",
   "execution_count": 106,
   "id": "official-minnesota",
   "metadata": {},
   "outputs": [
    {
     "name": "stdout",
     "output_type": "stream",
     "text": [
      "/Users/Pineapplebook/Documents/DSI/dsir-125/projects/project-03-main/subreddit1\n"
     ]
    }
   ],
   "source": [
    "cd subreddit1"
   ]
  },
  {
   "cell_type": "code",
   "execution_count": 295,
   "id": "hydraulic-enforcement",
   "metadata": {},
   "outputs": [],
   "source": [
    "params = { \n",
    "    'subreddit' : 'coffee',\n",
    "    'size' : 100,\n",
    "    #'sort_type':'created_utc'\n",
    "    \n",
    "}\n",
    "get_data(params) "
   ]
  },
  {
   "cell_type": "code",
   "execution_count": 296,
   "id": "compatible-classics",
   "metadata": {},
   "outputs": [],
   "source": [
    "import glob #using global library to find pattern/csv files\n",
    "all_filenames = [i for i in glob.glob('*.{}'.format('csv'))] #to get all csv files in the current directory"
   ]
  },
  {
   "cell_type": "code",
   "execution_count": null,
   "id": "front-damages",
   "metadata": {},
   "outputs": [],
   "source": [
    "#combining all first subreddit data into one csv\n",
    "combined_csv = pd.concat([pd.read_csv(f) for f in all_filenames ])\n",
    "#export to csv\n",
    "combined_csv.to_csv( \"SUBREDDIT1.csv\", index=False)  #CHECK DATA USING GOOGLE SHEETS. "
   ]
  },
  {
   "cell_type": "code",
   "execution_count": 6,
   "id": "twelve-modem",
   "metadata": {},
   "outputs": [
    {
     "name": "stdout",
     "output_type": "stream",
     "text": [
      "/Users/Pineapplebook/Documents/DSI/dsir-125/projects/project-03-main/subreddit1\n"
     ]
    }
   ],
   "source": [
    "cd"
   ]
  },
  {
   "cell_type": "code",
   "execution_count": 107,
   "id": "current-hamilton",
   "metadata": {},
   "outputs": [
    {
     "data": {
      "text/html": [
       "<div>\n",
       "<style scoped>\n",
       "    .dataframe tbody tr th:only-of-type {\n",
       "        vertical-align: middle;\n",
       "    }\n",
       "\n",
       "    .dataframe tbody tr th {\n",
       "        vertical-align: top;\n",
       "    }\n",
       "\n",
       "    .dataframe thead th {\n",
       "        text-align: right;\n",
       "    }\n",
       "</style>\n",
       "<table border=\"1\" class=\"dataframe\">\n",
       "  <thead>\n",
       "    <tr style=\"text-align: right;\">\n",
       "      <th></th>\n",
       "      <th>subreddit</th>\n",
       "      <th>author</th>\n",
       "      <th>id</th>\n",
       "      <th>title</th>\n",
       "      <th>selftext</th>\n",
       "      <th>created_utc</th>\n",
       "    </tr>\n",
       "  </thead>\n",
       "  <tbody>\n",
       "    <tr>\n",
       "      <th>0</th>\n",
       "      <td>Coffee</td>\n",
       "      <td>AfternoonMoss</td>\n",
       "      <td>lfg46z</td>\n",
       "      <td>My coffee once grounded smells... really bad</td>\n",
       "      <td>I've got some smaller bags of specialty coffee...</td>\n",
       "      <td>1612803407</td>\n",
       "    </tr>\n",
       "    <tr>\n",
       "      <th>1</th>\n",
       "      <td>Coffee</td>\n",
       "      <td>arron_sh</td>\n",
       "      <td>lffmad</td>\n",
       "      <td>Do you all have coffee machine at home?</td>\n",
       "      <td>The good coffee machines are expensive. Do you...</td>\n",
       "      <td>1612802097</td>\n",
       "    </tr>\n",
       "    <tr>\n",
       "      <th>2</th>\n",
       "      <td>Coffee</td>\n",
       "      <td>hassoumi</td>\n",
       "      <td>lffa97</td>\n",
       "      <td>Refractometer advice needed</td>\n",
       "      <td>Dear coffee community,\\nI have been looking fo...</td>\n",
       "      <td>1612801178</td>\n",
       "    </tr>\n",
       "    <tr>\n",
       "      <th>3</th>\n",
       "      <td>Coffee</td>\n",
       "      <td>hospitality883</td>\n",
       "      <td>lff7ew</td>\n",
       "      <td>La Marzocco Strada 2Grp electricity use</td>\n",
       "      <td>So the Strada is around 4700watts in technical...</td>\n",
       "      <td>1612800968</td>\n",
       "    </tr>\n",
       "    <tr>\n",
       "      <th>4</th>\n",
       "      <td>Coffee</td>\n",
       "      <td>fallswithsissors</td>\n",
       "      <td>lfeocw</td>\n",
       "      <td>Monday morning “pre-coffee” me wondering why c...</td>\n",
       "      <td>NaN</td>\n",
       "      <td>1612799563</td>\n",
       "    </tr>\n",
       "  </tbody>\n",
       "</table>\n",
       "</div>"
      ],
      "text/plain": [
       "  subreddit            author      id  \\\n",
       "0    Coffee     AfternoonMoss  lfg46z   \n",
       "1    Coffee          arron_sh  lffmad   \n",
       "2    Coffee          hassoumi  lffa97   \n",
       "3    Coffee    hospitality883  lff7ew   \n",
       "4    Coffee  fallswithsissors  lfeocw   \n",
       "\n",
       "                                               title  \\\n",
       "0       My coffee once grounded smells... really bad   \n",
       "1            Do you all have coffee machine at home?   \n",
       "2                        Refractometer advice needed   \n",
       "3            La Marzocco Strada 2Grp electricity use   \n",
       "4  Monday morning “pre-coffee” me wondering why c...   \n",
       "\n",
       "                                            selftext  created_utc  \n",
       "0  I've got some smaller bags of specialty coffee...   1612803407  \n",
       "1  The good coffee machines are expensive. Do you...   1612802097  \n",
       "2  Dear coffee community,\\nI have been looking fo...   1612801178  \n",
       "3  So the Strada is around 4700watts in technical...   1612800968  \n",
       "4                                                NaN   1612799563  "
      ]
     },
     "execution_count": 107,
     "metadata": {},
     "output_type": "execute_result"
    }
   ],
   "source": [
    "coffee = pd.read_csv('./SUBREDDIT1.csv')\n",
    "coffee.head()"
   ]
  },
  {
   "cell_type": "code",
   "execution_count": 108,
   "id": "coordinated-powder",
   "metadata": {},
   "outputs": [
    {
     "data": {
      "text/plain": [
       "subreddit        0\n",
       "author           0\n",
       "id               0\n",
       "title            0\n",
       "selftext       928\n",
       "created_utc      0\n",
       "dtype: int64"
      ]
     },
     "execution_count": 108,
     "metadata": {},
     "output_type": "execute_result"
    }
   ],
   "source": [
    "coffee.isnull().sum()"
   ]
  },
  {
   "cell_type": "code",
   "execution_count": 109,
   "id": "removable-lighting",
   "metadata": {},
   "outputs": [
    {
     "name": "stdout",
     "output_type": "stream",
     "text": [
      "<class 'pandas.core.frame.DataFrame'>\n",
      "Int64Index: 2572 entries, 0 to 3499\n",
      "Data columns (total 6 columns):\n",
      " #   Column       Non-Null Count  Dtype \n",
      "---  ------       --------------  ----- \n",
      " 0   subreddit    2572 non-null   object\n",
      " 1   author       2572 non-null   object\n",
      " 2   id           2572 non-null   object\n",
      " 3   title        2572 non-null   object\n",
      " 4   selftext     2572 non-null   object\n",
      " 5   created_utc  2572 non-null   int64 \n",
      "dtypes: int64(1), object(5)\n",
      "memory usage: 140.7+ KB\n"
     ]
    }
   ],
   "source": [
    "#using selftext as NLP feature so drop rows that has NaN and get more data\n",
    "coffee = coffee.dropna() \n",
    "coffee.info()"
   ]
  },
  {
   "cell_type": "markdown",
   "id": "human-courage",
   "metadata": {},
   "source": [
    "# Second Reddit: r/Tea"
   ]
  },
  {
   "cell_type": "code",
   "execution_count": 110,
   "id": "whole-bangladesh",
   "metadata": {},
   "outputs": [
    {
     "name": "stdout",
     "output_type": "stream",
     "text": [
      "/Users/Pineapplebook/Documents/DSI/dsir-125/projects/project-03-main/subreddit2\n"
     ]
    }
   ],
   "source": [
    "cd ../subreddit2"
   ]
  },
  {
   "cell_type": "code",
   "execution_count": 431,
   "id": "quick-danish",
   "metadata": {},
   "outputs": [
    {
     "name": "stdout",
     "output_type": "stream",
     "text": [
      "mkdir: subreddit2: File exists\r\n"
     ]
    }
   ],
   "source": [
    "mkdir subreddit2 #directory for data files"
   ]
  },
  {
   "cell_type": "code",
   "execution_count": 304,
   "id": "certain-actress",
   "metadata": {},
   "outputs": [],
   "source": [
    "#Getting 2nd subreddit data\n",
    "params = { \n",
    "    'subreddit' :'tea',\n",
    "    'size' : 100\n",
    "}\n",
    "get_data(params)"
   ]
  },
  {
   "cell_type": "code",
   "execution_count": 305,
   "id": "applied-speech",
   "metadata": {},
   "outputs": [],
   "source": [
    "#all csv in dir to all_filenames\n",
    "all_filenames = [i for i in glob.glob('*.{}'.format('csv'))]\n",
    "#combining all second subreddit data into one csv\n",
    "combined_csv = pd.concat([pd.read_csv(f) for f in all_filenames ])\n",
    "#export to csv\n",
    "combined_csv.to_csv( \"SUBREDDIT2.csv\", index=False) "
   ]
  },
  {
   "cell_type": "code",
   "execution_count": 111,
   "id": "prime-directive",
   "metadata": {},
   "outputs": [
    {
     "data": {
      "text/html": [
       "<div>\n",
       "<style scoped>\n",
       "    .dataframe tbody tr th:only-of-type {\n",
       "        vertical-align: middle;\n",
       "    }\n",
       "\n",
       "    .dataframe tbody tr th {\n",
       "        vertical-align: top;\n",
       "    }\n",
       "\n",
       "    .dataframe thead th {\n",
       "        text-align: right;\n",
       "    }\n",
       "</style>\n",
       "<table border=\"1\" class=\"dataframe\">\n",
       "  <thead>\n",
       "    <tr style=\"text-align: right;\">\n",
       "      <th></th>\n",
       "      <th>subreddit</th>\n",
       "      <th>author</th>\n",
       "      <th>id</th>\n",
       "      <th>title</th>\n",
       "      <th>selftext</th>\n",
       "      <th>created_utc</th>\n",
       "    </tr>\n",
       "  </thead>\n",
       "  <tbody>\n",
       "    <tr>\n",
       "      <th>0</th>\n",
       "      <td>tea</td>\n",
       "      <td>hannah_kk</td>\n",
       "      <td>ly3byp</td>\n",
       "      <td>This is a kind of oolong tea called \"Rou Gui\"</td>\n",
       "      <td>NaN</td>\n",
       "      <td>1614916310</td>\n",
       "    </tr>\n",
       "    <tr>\n",
       "      <th>1</th>\n",
       "      <td>tea</td>\n",
       "      <td>LuckiestPierre69</td>\n",
       "      <td>ly2q03</td>\n",
       "      <td>What’s the best way to clean the small slots i...</td>\n",
       "      <td>NaN</td>\n",
       "      <td>1614914227</td>\n",
       "    </tr>\n",
       "    <tr>\n",
       "      <th>2</th>\n",
       "      <td>tea</td>\n",
       "      <td>Icy_Seaworthiness176</td>\n",
       "      <td>lxz2rk</td>\n",
       "      <td>Some rose milk tea at a local tea place</td>\n",
       "      <td>NaN</td>\n",
       "      <td>1614902452</td>\n",
       "    </tr>\n",
       "    <tr>\n",
       "      <th>3</th>\n",
       "      <td>tea</td>\n",
       "      <td>MemeMaven</td>\n",
       "      <td>lxyj07</td>\n",
       "      <td>How do you brew boricha?</td>\n",
       "      <td>I've been winging it so far but I feel that I'...</td>\n",
       "      <td>1614900765</td>\n",
       "    </tr>\n",
       "    <tr>\n",
       "      <th>4</th>\n",
       "      <td>tea</td>\n",
       "      <td>kevcorms</td>\n",
       "      <td>lxyhy8</td>\n",
       "      <td>My first order finally arrived !</td>\n",
       "      <td>NaN</td>\n",
       "      <td>1614900676</td>\n",
       "    </tr>\n",
       "  </tbody>\n",
       "</table>\n",
       "</div>"
      ],
      "text/plain": [
       "  subreddit                author      id  \\\n",
       "0       tea             hannah_kk  ly3byp   \n",
       "1       tea      LuckiestPierre69  ly2q03   \n",
       "2       tea  Icy_Seaworthiness176  lxz2rk   \n",
       "3       tea             MemeMaven  lxyj07   \n",
       "4       tea              kevcorms  lxyhy8   \n",
       "\n",
       "                                               title  \\\n",
       "0      This is a kind of oolong tea called \"Rou Gui\"   \n",
       "1  What’s the best way to clean the small slots i...   \n",
       "2            Some rose milk tea at a local tea place   \n",
       "3                           How do you brew boricha?   \n",
       "4                   My first order finally arrived !   \n",
       "\n",
       "                                            selftext  created_utc  \n",
       "0                                                NaN   1614916310  \n",
       "1                                                NaN   1614914227  \n",
       "2                                                NaN   1614902452  \n",
       "3  I've been winging it so far but I feel that I'...   1614900765  \n",
       "4                                                NaN   1614900676  "
      ]
     },
     "execution_count": 111,
     "metadata": {},
     "output_type": "execute_result"
    }
   ],
   "source": [
    "tea = pd.read_csv('./SUBREDDIT2.csv')\n",
    "tea.head()"
   ]
  },
  {
   "cell_type": "code",
   "execution_count": 112,
   "id": "excess-description",
   "metadata": {},
   "outputs": [
    {
     "name": "stdout",
     "output_type": "stream",
     "text": [
      "<class 'pandas.core.frame.DataFrame'>\n",
      "RangeIndex: 3500 entries, 0 to 3499\n",
      "Data columns (total 6 columns):\n",
      " #   Column       Non-Null Count  Dtype \n",
      "---  ------       --------------  ----- \n",
      " 0   subreddit    3500 non-null   object\n",
      " 1   author       3500 non-null   object\n",
      " 2   id           3500 non-null   object\n",
      " 3   title        3500 non-null   object\n",
      " 4   selftext     1663 non-null   object\n",
      " 5   created_utc  3500 non-null   int64 \n",
      "dtypes: int64(1), object(5)\n",
      "memory usage: 164.2+ KB\n"
     ]
    }
   ],
   "source": [
    "tea.info()"
   ]
  },
  {
   "cell_type": "code",
   "execution_count": 113,
   "id": "above-diversity",
   "metadata": {},
   "outputs": [
    {
     "name": "stdout",
     "output_type": "stream",
     "text": [
      "<class 'pandas.core.frame.DataFrame'>\n",
      "Int64Index: 1663 entries, 3 to 3499\n",
      "Data columns (total 6 columns):\n",
      " #   Column       Non-Null Count  Dtype \n",
      "---  ------       --------------  ----- \n",
      " 0   subreddit    1663 non-null   object\n",
      " 1   author       1663 non-null   object\n",
      " 2   id           1663 non-null   object\n",
      " 3   title        1663 non-null   object\n",
      " 4   selftext     1663 non-null   object\n",
      " 5   created_utc  1663 non-null   int64 \n",
      "dtypes: int64(1), object(5)\n",
      "memory usage: 90.9+ KB\n"
     ]
    }
   ],
   "source": [
    "#using selftext as NLP feature so drop rows that has NaN and get more data\n",
    "tea = tea.dropna() \n",
    "tea.info()"
   ]
  },
  {
   "cell_type": "code",
   "execution_count": 114,
   "id": "speaking-terror",
   "metadata": {},
   "outputs": [],
   "source": [
    "coffee.drop(columns=['id','created_utc'], inplace=True)\n",
    "tea.drop(columns=['id','created_utc'], inplace=True)"
   ]
  },
  {
   "cell_type": "code",
   "execution_count": null,
   "id": "chemical-diameter",
   "metadata": {},
   "outputs": [],
   "source": []
  },
  {
   "cell_type": "markdown",
   "id": "satisfactory-murray",
   "metadata": {},
   "source": [
    "# Exploratory Data Analysis"
   ]
  },
  {
   "cell_type": "code",
   "execution_count": 115,
   "id": "sonic-tract",
   "metadata": {},
   "outputs": [],
   "source": [
    "#NLP EDA Starter Imports\n",
    "import matplotlib.pyplot as plt\n",
    "import seaborn as sns\n",
    "from sklearn.model_selection import train_test_split, GridSearchCV\n",
    "\n",
    "from sklearn.feature_extraction.text import CountVectorizer"
   ]
  },
  {
   "cell_type": "code",
   "execution_count": 116,
   "id": "established-cooling",
   "metadata": {},
   "outputs": [],
   "source": [
    "#Adding a word count feature\n",
    "coffee['statuslength'] = coffee['selftext'].str.len()\n",
    "tea['statuslength'] = tea['selftext'].str.len()"
   ]
  },
  {
   "cell_type": "code",
   "execution_count": 117,
   "id": "primary-capture",
   "metadata": {},
   "outputs": [
    {
     "data": {
      "text/html": [
       "<div>\n",
       "<style scoped>\n",
       "    .dataframe tbody tr th:only-of-type {\n",
       "        vertical-align: middle;\n",
       "    }\n",
       "\n",
       "    .dataframe tbody tr th {\n",
       "        vertical-align: top;\n",
       "    }\n",
       "\n",
       "    .dataframe thead th {\n",
       "        text-align: right;\n",
       "    }\n",
       "</style>\n",
       "<table border=\"1\" class=\"dataframe\">\n",
       "  <thead>\n",
       "    <tr style=\"text-align: right;\">\n",
       "      <th></th>\n",
       "      <th>subreddit</th>\n",
       "      <th>author</th>\n",
       "      <th>title</th>\n",
       "      <th>selftext</th>\n",
       "      <th>statuslength</th>\n",
       "    </tr>\n",
       "  </thead>\n",
       "  <tbody>\n",
       "    <tr>\n",
       "      <th>3</th>\n",
       "      <td>tea</td>\n",
       "      <td>MemeMaven</td>\n",
       "      <td>How do you brew boricha?</td>\n",
       "      <td>I've been winging it so far but I feel that I'...</td>\n",
       "      <td>353</td>\n",
       "    </tr>\n",
       "    <tr>\n",
       "      <th>5</th>\n",
       "      <td>tea</td>\n",
       "      <td>[deleted]</td>\n",
       "      <td>The misty rain which making a hot pot of tea. ...</td>\n",
       "      <td>[deleted]</td>\n",
       "      <td>9</td>\n",
       "    </tr>\n",
       "    <tr>\n",
       "      <th>6</th>\n",
       "      <td>tea</td>\n",
       "      <td>Usualus</td>\n",
       "      <td>Have any of you nerds roasted your rolled oolo...</td>\n",
       "      <td>I see one blog post on the google about this, ...</td>\n",
       "      <td>317</td>\n",
       "    </tr>\n",
       "    <tr>\n",
       "      <th>7</th>\n",
       "      <td>tea</td>\n",
       "      <td>AAAAGentleman</td>\n",
       "      <td>What are the best teas for hard water?</td>\n",
       "      <td>Living in the Eastern region of England, the w...</td>\n",
       "      <td>163</td>\n",
       "    </tr>\n",
       "    <tr>\n",
       "      <th>8</th>\n",
       "      <td>tea</td>\n",
       "      <td>[deleted]</td>\n",
       "      <td>Weird shape when I burned my hand by putting \"...</td>\n",
       "      <td>[deleted]</td>\n",
       "      <td>9</td>\n",
       "    </tr>\n",
       "  </tbody>\n",
       "</table>\n",
       "</div>"
      ],
      "text/plain": [
       "  subreddit         author                                              title  \\\n",
       "3       tea      MemeMaven                           How do you brew boricha?   \n",
       "5       tea      [deleted]  The misty rain which making a hot pot of tea. ...   \n",
       "6       tea        Usualus  Have any of you nerds roasted your rolled oolo...   \n",
       "7       tea  AAAAGentleman             What are the best teas for hard water?   \n",
       "8       tea      [deleted]  Weird shape when I burned my hand by putting \"...   \n",
       "\n",
       "                                            selftext  statuslength  \n",
       "3  I've been winging it so far but I feel that I'...           353  \n",
       "5                                          [deleted]             9  \n",
       "6  I see one blog post on the google about this, ...           317  \n",
       "7  Living in the Eastern region of England, the w...           163  \n",
       "8                                          [deleted]             9  "
      ]
     },
     "execution_count": 117,
     "metadata": {},
     "output_type": "execute_result"
    }
   ],
   "source": [
    "tea.head()"
   ]
  },
  {
   "cell_type": "code",
   "execution_count": 118,
   "id": "collective-aquatic",
   "metadata": {},
   "outputs": [
    {
     "data": {
      "text/plain": [
       "False    1593\n",
       "True       70\n",
       "Name: author, dtype: int64"
      ]
     },
     "execution_count": 118,
     "metadata": {},
     "output_type": "execute_result"
    }
   ],
   "source": [
    "(tea['author'] == '[deleted]').value_counts() #checking deleted accounts because I want to see the number of post per user later"
   ]
  },
  {
   "cell_type": "code",
   "execution_count": 119,
   "id": "elder-appendix",
   "metadata": {},
   "outputs": [
    {
     "data": {
      "text/plain": [
       "False    2487\n",
       "True       85\n",
       "Name: author, dtype: int64"
      ]
     },
     "execution_count": 119,
     "metadata": {},
     "output_type": "execute_result"
    }
   ],
   "source": [
    "(coffee['author'] == '[deleted]').value_counts() #checking deleted accounts"
   ]
  },
  {
   "cell_type": "code",
   "execution_count": 120,
   "id": "nearby-norman",
   "metadata": {},
   "outputs": [
    {
     "data": {
      "text/plain": [
       "False    1587\n",
       "True       76\n",
       "Name: author, dtype: int64"
      ]
     },
     "execution_count": 120,
     "metadata": {},
     "output_type": "execute_result"
    }
   ],
   "source": [
    "(tea['author'] == 'AutoModerator').value_counts() #checking non-user type of posts. Irrelevant posts for reaching the goal."
   ]
  },
  {
   "cell_type": "code",
   "execution_count": 121,
   "id": "united-savings",
   "metadata": {},
   "outputs": [
    {
     "data": {
      "text/plain": [
       "False    2572\n",
       "Name: author, dtype: int64"
      ]
     },
     "execution_count": 121,
     "metadata": {},
     "output_type": "execute_result"
    }
   ],
   "source": [
    "(coffee['author'] == 'AutoModerator').value_counts()"
   ]
  },
  {
   "cell_type": "code",
   "execution_count": 122,
   "id": "increased-logging",
   "metadata": {},
   "outputs": [],
   "source": [
    "#dropping rows with deleted author values\n",
    "tea = tea[tea['author'] != '[deleted]']\n",
    "coffee = coffee[coffee['author'] != '[deleted]']"
   ]
  },
  {
   "cell_type": "code",
   "execution_count": 123,
   "id": "intelligent-thesis",
   "metadata": {},
   "outputs": [],
   "source": [
    "#dropping rows with removed selftext values because that's where I'll be taking the words for the NLP ML\n",
    "tea = tea[tea['selftext'] != '[removed]']\n",
    "coffee = coffee[coffee['selftext'] != '[removed]']"
   ]
  },
  {
   "cell_type": "code",
   "execution_count": 124,
   "id": "earned-birth",
   "metadata": {},
   "outputs": [
    {
     "name": "stdout",
     "output_type": "stream",
     "text": [
      "<class 'pandas.core.frame.DataFrame'>\n",
      "Int64Index: 1363 entries, 3 to 3499\n",
      "Data columns (total 5 columns):\n",
      " #   Column        Non-Null Count  Dtype \n",
      "---  ------        --------------  ----- \n",
      " 0   subreddit     1363 non-null   object\n",
      " 1   author        1363 non-null   object\n",
      " 2   title         1363 non-null   object\n",
      " 3   selftext      1363 non-null   object\n",
      " 4   statuslength  1363 non-null   int64 \n",
      "dtypes: int64(1), object(4)\n",
      "memory usage: 63.9+ KB\n"
     ]
    }
   ],
   "source": [
    "tea.info()"
   ]
  },
  {
   "cell_type": "code",
   "execution_count": 125,
   "id": "impressive-divide",
   "metadata": {},
   "outputs": [],
   "source": [
    "#dropping Auto Moderator posts\n",
    "tea = tea[tea['author'] != 'AutoModerator']"
   ]
  },
  {
   "cell_type": "code",
   "execution_count": 126,
   "id": "suburban-carpet",
   "metadata": {},
   "outputs": [
    {
     "data": {
      "text/plain": [
       "False    1287\n",
       "Name: author, dtype: int64"
      ]
     },
     "execution_count": 126,
     "metadata": {},
     "output_type": "execute_result"
    }
   ],
   "source": [
    "(tea['author'] == 'AutoModerator').value_counts() "
   ]
  },
  {
   "cell_type": "code",
   "execution_count": 127,
   "id": "meaning-decade",
   "metadata": {},
   "outputs": [
    {
     "data": {
      "text/plain": [
       "2026"
      ]
     },
     "execution_count": 127,
     "metadata": {},
     "output_type": "execute_result"
    }
   ],
   "source": [
    "#unique users\n",
    "coffee['author'].value_counts().sum()"
   ]
  },
  {
   "cell_type": "code",
   "execution_count": 128,
   "id": "liquid-recognition",
   "metadata": {},
   "outputs": [
    {
     "data": {
      "text/plain": [
       "1287"
      ]
     },
     "execution_count": 128,
     "metadata": {},
     "output_type": "execute_result"
    }
   ],
   "source": [
    "tea['author'].value_counts().sum()"
   ]
  },
  {
   "cell_type": "code",
   "execution_count": 129,
   "id": "civilian-cookie",
   "metadata": {},
   "outputs": [
    {
     "data": {
      "text/plain": [
       "10"
      ]
     },
     "execution_count": 129,
     "metadata": {},
     "output_type": "execute_result"
    }
   ],
   "source": [
    "#max no. of post of a r/tea user\n",
    "tea['author'].value_counts().max()"
   ]
  },
  {
   "cell_type": "code",
   "execution_count": 130,
   "id": "registered-stupid",
   "metadata": {},
   "outputs": [
    {
     "data": {
      "text/plain": [
       "1"
      ]
     },
     "execution_count": 130,
     "metadata": {},
     "output_type": "execute_result"
    }
   ],
   "source": [
    "#min no. of post of a r/tea user\n",
    "tea['author'].value_counts().min()"
   ]
  },
  {
   "cell_type": "code",
   "execution_count": 131,
   "id": "accepting-winter",
   "metadata": {},
   "outputs": [
    {
     "data": {
      "text/plain": [
       "60"
      ]
     },
     "execution_count": 131,
     "metadata": {},
     "output_type": "execute_result"
    }
   ],
   "source": [
    "#max no. of post of a r/coffee user\n",
    "coffee['author'].value_counts().max()"
   ]
  },
  {
   "cell_type": "code",
   "execution_count": 132,
   "id": "normal-selling",
   "metadata": {},
   "outputs": [
    {
     "data": {
      "text/plain": [
       "1"
      ]
     },
     "execution_count": 132,
     "metadata": {},
     "output_type": "execute_result"
    }
   ],
   "source": [
    "#min no. of post of a r/coffee user\n",
    "coffee['author'].value_counts().min()"
   ]
  },
  {
   "cell_type": "code",
   "execution_count": 133,
   "id": "certified-chess",
   "metadata": {},
   "outputs": [
    {
     "data": {
      "text/plain": [
       "1.1491775382870109"
      ]
     },
     "execution_count": 133,
     "metadata": {},
     "output_type": "execute_result"
    }
   ],
   "source": [
    "coffee['author'].value_counts().mean()"
   ]
  },
  {
   "cell_type": "code",
   "execution_count": 134,
   "id": "wicked-gibson",
   "metadata": {},
   "outputs": [
    {
     "data": {
      "text/plain": [
       "1.21759697256386"
      ]
     },
     "execution_count": 134,
     "metadata": {},
     "output_type": "execute_result"
    }
   ],
   "source": [
    "tea['author'].value_counts().mean()"
   ]
  },
  {
   "cell_type": "code",
   "execution_count": null,
   "id": "western-colors",
   "metadata": {},
   "outputs": [],
   "source": [
    "###drop duplicate author unique_users.drop_duplicates('#AUTHID', inplace=True)"
   ]
  },
  {
   "cell_type": "code",
   "execution_count": 135,
   "id": "fewer-country",
   "metadata": {},
   "outputs": [
    {
     "name": "stdout",
     "output_type": "stream",
     "text": [
      "<class 'pandas.core.frame.DataFrame'>\n",
      "Int64Index: 2026 entries, 0 to 3499\n",
      "Data columns (total 5 columns):\n",
      " #   Column        Non-Null Count  Dtype \n",
      "---  ------        --------------  ----- \n",
      " 0   subreddit     2026 non-null   object\n",
      " 1   author        2026 non-null   object\n",
      " 2   title         2026 non-null   object\n",
      " 3   selftext      2026 non-null   object\n",
      " 4   statuslength  2026 non-null   int64 \n",
      "dtypes: int64(1), object(4)\n",
      "memory usage: 95.0+ KB\n"
     ]
    }
   ],
   "source": [
    "coffee.info()"
   ]
  },
  {
   "cell_type": "code",
   "execution_count": 136,
   "id": "macro-helena",
   "metadata": {},
   "outputs": [],
   "source": [
    "#Making the dataframes even to reduce bias on subreddit feature\n",
    "coffee =  coffee.drop(coffee.tail(2026-1287).index) "
   ]
  },
  {
   "cell_type": "code",
   "execution_count": 137,
   "id": "terminal-enzyme",
   "metadata": {},
   "outputs": [
    {
     "name": "stdout",
     "output_type": "stream",
     "text": [
      "<class 'pandas.core.frame.DataFrame'>\n",
      "Int64Index: 1287 entries, 0 to 2386\n",
      "Data columns (total 5 columns):\n",
      " #   Column        Non-Null Count  Dtype \n",
      "---  ------        --------------  ----- \n",
      " 0   subreddit     1287 non-null   object\n",
      " 1   author        1287 non-null   object\n",
      " 2   title         1287 non-null   object\n",
      " 3   selftext      1287 non-null   object\n",
      " 4   statuslength  1287 non-null   int64 \n",
      "dtypes: int64(1), object(4)\n",
      "memory usage: 60.3+ KB\n"
     ]
    }
   ],
   "source": [
    "coffee.info()"
   ]
  },
  {
   "cell_type": "code",
   "execution_count": 138,
   "id": "caroline-machine",
   "metadata": {},
   "outputs": [],
   "source": [
    "#add word count column\n",
    "tea['statuswordcount'] = tea['selftext'].str.split().str.len()\n",
    "coffee['statuswordcount'] = coffee['selftext'].str.split().str.len()"
   ]
  },
  {
   "cell_type": "code",
   "execution_count": 143,
   "id": "useful-television",
   "metadata": {},
   "outputs": [
    {
     "data": {
      "text/plain": [
       "84.43356643356644"
      ]
     },
     "execution_count": 143,
     "metadata": {},
     "output_type": "execute_result"
    }
   ],
   "source": [
    "tea['statuswordcount'].mean() #average wordcount/post"
   ]
  },
  {
   "cell_type": "code",
   "execution_count": 142,
   "id": "sufficient-scottish",
   "metadata": {},
   "outputs": [
    {
     "data": {
      "text/plain": [
       "115.53613053613054"
      ]
     },
     "execution_count": 142,
     "metadata": {},
     "output_type": "execute_result"
    }
   ],
   "source": [
    "coffee['statuswordcount'].mean()"
   ]
  },
  {
   "cell_type": "markdown",
   "id": "nonprofit-avatar",
   "metadata": {},
   "source": [
    "**Longest and Shortest Posts** based on word count."
   ]
  },
  {
   "cell_type": "code",
   "execution_count": 139,
   "id": "random-sphere",
   "metadata": {},
   "outputs": [
    {
     "data": {
      "text/html": [
       "<div>\n",
       "<style scoped>\n",
       "    .dataframe tbody tr th:only-of-type {\n",
       "        vertical-align: middle;\n",
       "    }\n",
       "\n",
       "    .dataframe tbody tr th {\n",
       "        vertical-align: top;\n",
       "    }\n",
       "\n",
       "    .dataframe thead th {\n",
       "        text-align: right;\n",
       "    }\n",
       "</style>\n",
       "<table border=\"1\" class=\"dataframe\">\n",
       "  <thead>\n",
       "    <tr style=\"text-align: right;\">\n",
       "      <th></th>\n",
       "      <th>subreddit</th>\n",
       "      <th>author</th>\n",
       "      <th>title</th>\n",
       "      <th>selftext</th>\n",
       "      <th>statuslength</th>\n",
       "      <th>statuswordcount</th>\n",
       "    </tr>\n",
       "  </thead>\n",
       "  <tbody>\n",
       "    <tr>\n",
       "      <th>311</th>\n",
       "      <td>Coffee</td>\n",
       "      <td>_hanif</td>\n",
       "      <td>Exercise to Train Your Coffee Tasting (Without...</td>\n",
       "      <td>TL;DR (it's a looong one): Eat your fruits. \\n...</td>\n",
       "      <td>9342</td>\n",
       "      <td>1574</td>\n",
       "    </tr>\n",
       "    <tr>\n",
       "      <th>2241</th>\n",
       "      <td>Coffee</td>\n",
       "      <td>Robdiesel_dot_com</td>\n",
       "      <td>I love my Philips LatteGo 3200 (the one with t...</td>\n",
       "      <td>Repost: I think I messed up by including a lin...</td>\n",
       "      <td>5533</td>\n",
       "      <td>1032</td>\n",
       "    </tr>\n",
       "    <tr>\n",
       "      <th>2248</th>\n",
       "      <td>Coffee</td>\n",
       "      <td>Robdiesel_dot_com</td>\n",
       "      <td>I love my Philips LatteGo 3200 (the one with t...</td>\n",
       "      <td>This is basically a cut &amp;amp; paste from what ...</td>\n",
       "      <td>5556</td>\n",
       "      <td>1031</td>\n",
       "    </tr>\n",
       "    <tr>\n",
       "      <th>1250</th>\n",
       "      <td>Coffee</td>\n",
       "      <td>Jaywalkas</td>\n",
       "      <td>Bad Experience With Whole Latte Love</td>\n",
       "      <td>\\n\\n&amp;amp;#x200B;\\n\\nI wanted to share my exp...</td>\n",
       "      <td>4539</td>\n",
       "      <td>846</td>\n",
       "    </tr>\n",
       "    <tr>\n",
       "      <th>2269</th>\n",
       "      <td>Coffee</td>\n",
       "      <td>Vicosku</td>\n",
       "      <td>Roast Level Perspective from 1975 Book</td>\n",
       "      <td>I found an old book titled, \"[The Book of Coff...</td>\n",
       "      <td>5169</td>\n",
       "      <td>846</td>\n",
       "    </tr>\n",
       "  </tbody>\n",
       "</table>\n",
       "</div>"
      ],
      "text/plain": [
       "     subreddit             author  \\\n",
       "311     Coffee             _hanif   \n",
       "2241    Coffee  Robdiesel_dot_com   \n",
       "2248    Coffee  Robdiesel_dot_com   \n",
       "1250    Coffee          Jaywalkas   \n",
       "2269    Coffee            Vicosku   \n",
       "\n",
       "                                                  title  \\\n",
       "311   Exercise to Train Your Coffee Tasting (Without...   \n",
       "2241  I love my Philips LatteGo 3200 (the one with t...   \n",
       "2248  I love my Philips LatteGo 3200 (the one with t...   \n",
       "1250               Bad Experience With Whole Latte Love   \n",
       "2269             Roast Level Perspective from 1975 Book   \n",
       "\n",
       "                                               selftext  statuslength  \\\n",
       "311   TL;DR (it's a looong one): Eat your fruits. \\n...          9342   \n",
       "2241  Repost: I think I messed up by including a lin...          5533   \n",
       "2248  This is basically a cut &amp; paste from what ...          5556   \n",
       "1250    \\n\\n&amp;#x200B;\\n\\nI wanted to share my exp...          4539   \n",
       "2269  I found an old book titled, \"[The Book of Coff...          5169   \n",
       "\n",
       "      statuswordcount  \n",
       "311              1574  \n",
       "2241             1032  \n",
       "2248             1031  \n",
       "1250              846  \n",
       "2269              846  "
      ]
     },
     "execution_count": 139,
     "metadata": {},
     "output_type": "execute_result"
    }
   ],
   "source": [
    "coffee.nlargest(5, ['statuswordcount']) "
   ]
  },
  {
   "cell_type": "code",
   "execution_count": 144,
   "id": "printable-exchange",
   "metadata": {},
   "outputs": [
    {
     "data": {
      "text/html": [
       "<div>\n",
       "<style scoped>\n",
       "    .dataframe tbody tr th:only-of-type {\n",
       "        vertical-align: middle;\n",
       "    }\n",
       "\n",
       "    .dataframe tbody tr th {\n",
       "        vertical-align: top;\n",
       "    }\n",
       "\n",
       "    .dataframe thead th {\n",
       "        text-align: right;\n",
       "    }\n",
       "</style>\n",
       "<table border=\"1\" class=\"dataframe\">\n",
       "  <thead>\n",
       "    <tr style=\"text-align: right;\">\n",
       "      <th></th>\n",
       "      <th>subreddit</th>\n",
       "      <th>author</th>\n",
       "      <th>title</th>\n",
       "      <th>selftext</th>\n",
       "      <th>statuslength</th>\n",
       "      <th>statuswordcount</th>\n",
       "    </tr>\n",
       "  </thead>\n",
       "  <tbody>\n",
       "    <tr>\n",
       "      <th>1696</th>\n",
       "      <td>Coffee</td>\n",
       "      <td>bighalsy</td>\n",
       "      <td>Looking for the best budget grinder. I was thi...</td>\n",
       "      <td>thanks</td>\n",
       "      <td>6</td>\n",
       "      <td>1</td>\n",
       "    </tr>\n",
       "    <tr>\n",
       "      <th>2195</th>\n",
       "      <td>Coffee</td>\n",
       "      <td>theBigDaddio</td>\n",
       "      <td>The life cycle of a cup of coffee - A.J. Jacobs</td>\n",
       "      <td>[https://youtu.be/M0VWroX0gZA](https://youtu.b...</td>\n",
       "      <td>60</td>\n",
       "      <td>1</td>\n",
       "    </tr>\n",
       "    <tr>\n",
       "      <th>2163</th>\n",
       "      <td>Coffee</td>\n",
       "      <td>ndGall</td>\n",
       "      <td>Is decent drip coffee even possible?</td>\n",
       "      <td>If so, how?</td>\n",
       "      <td>11</td>\n",
       "      <td>3</td>\n",
       "    </tr>\n",
       "    <tr>\n",
       "      <th>2300</th>\n",
       "      <td>Coffee</td>\n",
       "      <td>barneyfife104</td>\n",
       "      <td>Does anyone know where to purchase BOSS Coffee...</td>\n",
       "      <td>Can’t find it anywhere!</td>\n",
       "      <td>23</td>\n",
       "      <td>4</td>\n",
       "    </tr>\n",
       "    <tr>\n",
       "      <th>245</th>\n",
       "      <td>Coffee</td>\n",
       "      <td>motsanciens</td>\n",
       "      <td>Power is out and roads are icy. With a French ...</td>\n",
       "      <td>Yeah, I'm a little desperate</td>\n",
       "      <td>28</td>\n",
       "      <td>5</td>\n",
       "    </tr>\n",
       "  </tbody>\n",
       "</table>\n",
       "</div>"
      ],
      "text/plain": [
       "     subreddit         author  \\\n",
       "1696    Coffee       bighalsy   \n",
       "2195    Coffee   theBigDaddio   \n",
       "2163    Coffee         ndGall   \n",
       "2300    Coffee  barneyfife104   \n",
       "245     Coffee    motsanciens   \n",
       "\n",
       "                                                  title  \\\n",
       "1696  Looking for the best budget grinder. I was thi...   \n",
       "2195    The life cycle of a cup of coffee - A.J. Jacobs   \n",
       "2163               Is decent drip coffee even possible?   \n",
       "2300  Does anyone know where to purchase BOSS Coffee...   \n",
       "245   Power is out and roads are icy. With a French ...   \n",
       "\n",
       "                                               selftext  statuslength  \\\n",
       "1696                                             thanks             6   \n",
       "2195  [https://youtu.be/M0VWroX0gZA](https://youtu.b...            60   \n",
       "2163                                        If so, how?            11   \n",
       "2300                            Can’t find it anywhere!            23   \n",
       "245                        Yeah, I'm a little desperate            28   \n",
       "\n",
       "      statuswordcount  \n",
       "1696                1  \n",
       "2195                1  \n",
       "2163                3  \n",
       "2300                4  \n",
       "245                 5  "
      ]
     },
     "execution_count": 144,
     "metadata": {},
     "output_type": "execute_result"
    }
   ],
   "source": [
    "coffee.nsmallest(5, ['statuswordcount']) "
   ]
  },
  {
   "cell_type": "code",
   "execution_count": 145,
   "id": "individual-rebecca",
   "metadata": {},
   "outputs": [
    {
     "data": {
      "text/html": [
       "<div>\n",
       "<style scoped>\n",
       "    .dataframe tbody tr th:only-of-type {\n",
       "        vertical-align: middle;\n",
       "    }\n",
       "\n",
       "    .dataframe tbody tr th {\n",
       "        vertical-align: top;\n",
       "    }\n",
       "\n",
       "    .dataframe thead th {\n",
       "        text-align: right;\n",
       "    }\n",
       "</style>\n",
       "<table border=\"1\" class=\"dataframe\">\n",
       "  <thead>\n",
       "    <tr style=\"text-align: right;\">\n",
       "      <th></th>\n",
       "      <th>subreddit</th>\n",
       "      <th>author</th>\n",
       "      <th>title</th>\n",
       "      <th>selftext</th>\n",
       "      <th>statuslength</th>\n",
       "      <th>statuswordcount</th>\n",
       "    </tr>\n",
       "  </thead>\n",
       "  <tbody>\n",
       "    <tr>\n",
       "      <th>2843</th>\n",
       "      <td>tea</td>\n",
       "      <td>11001001000011111101</td>\n",
       "      <td>The underrated importance of water</td>\n",
       "      <td>*NOTE: this post is solely addressed at those ...</td>\n",
       "      <td>9167</td>\n",
       "      <td>1470</td>\n",
       "    </tr>\n",
       "    <tr>\n",
       "      <th>335</th>\n",
       "      <td>tea</td>\n",
       "      <td>dohrey</td>\n",
       "      <td>Crowd sourcing a comprehensive guide to tea fr...</td>\n",
       "      <td>For people who buy higher end teas I think it ...</td>\n",
       "      <td>5885</td>\n",
       "      <td>1003</td>\n",
       "    </tr>\n",
       "    <tr>\n",
       "      <th>2285</th>\n",
       "      <td>tea</td>\n",
       "      <td>day_break</td>\n",
       "      <td>Lapsang Store Samples Part 1</td>\n",
       "      <td>This is part 1 of me trying samples I got at [...</td>\n",
       "      <td>4639</td>\n",
       "      <td>822</td>\n",
       "    </tr>\n",
       "    <tr>\n",
       "      <th>1025</th>\n",
       "      <td>tea</td>\n",
       "      <td>dailyteas</td>\n",
       "      <td>Daily Teas #8 &amp;amp; #9</td>\n",
       "      <td>Things will be a little different this time si...</td>\n",
       "      <td>4509</td>\n",
       "      <td>759</td>\n",
       "    </tr>\n",
       "    <tr>\n",
       "      <th>1232</th>\n",
       "      <td>tea</td>\n",
       "      <td>Abkenn</td>\n",
       "      <td>My first What-Cha arrived + images (Yunnan sna...</td>\n",
       "      <td>&amp;amp;#x200B;\\n\\n[What-Cha order](https://previ...</td>\n",
       "      <td>3973</td>\n",
       "      <td>677</td>\n",
       "    </tr>\n",
       "  </tbody>\n",
       "</table>\n",
       "</div>"
      ],
      "text/plain": [
       "     subreddit                author  \\\n",
       "2843       tea  11001001000011111101   \n",
       "335        tea                dohrey   \n",
       "2285       tea             day_break   \n",
       "1025       tea             dailyteas   \n",
       "1232       tea                Abkenn   \n",
       "\n",
       "                                                  title  \\\n",
       "2843                 The underrated importance of water   \n",
       "335   Crowd sourcing a comprehensive guide to tea fr...   \n",
       "2285                       Lapsang Store Samples Part 1   \n",
       "1025                             Daily Teas #8 &amp; #9   \n",
       "1232  My first What-Cha arrived + images (Yunnan sna...   \n",
       "\n",
       "                                               selftext  statuslength  \\\n",
       "2843  *NOTE: this post is solely addressed at those ...          9167   \n",
       "335   For people who buy higher end teas I think it ...          5885   \n",
       "2285  This is part 1 of me trying samples I got at [...          4639   \n",
       "1025  Things will be a little different this time si...          4509   \n",
       "1232  &amp;#x200B;\\n\\n[What-Cha order](https://previ...          3973   \n",
       "\n",
       "      statuswordcount  \n",
       "2843             1470  \n",
       "335              1003  \n",
       "2285              822  \n",
       "1025              759  \n",
       "1232              677  "
      ]
     },
     "execution_count": 145,
     "metadata": {},
     "output_type": "execute_result"
    }
   ],
   "source": [
    "tea.nlargest(5, ['statuswordcount']) "
   ]
  },
  {
   "cell_type": "code",
   "execution_count": 146,
   "id": "incorporated-musician",
   "metadata": {},
   "outputs": [
    {
     "data": {
      "text/html": [
       "<div>\n",
       "<style scoped>\n",
       "    .dataframe tbody tr th:only-of-type {\n",
       "        vertical-align: middle;\n",
       "    }\n",
       "\n",
       "    .dataframe tbody tr th {\n",
       "        vertical-align: top;\n",
       "    }\n",
       "\n",
       "    .dataframe thead th {\n",
       "        text-align: right;\n",
       "    }\n",
       "</style>\n",
       "<table border=\"1\" class=\"dataframe\">\n",
       "  <thead>\n",
       "    <tr style=\"text-align: right;\">\n",
       "      <th></th>\n",
       "      <th>subreddit</th>\n",
       "      <th>author</th>\n",
       "      <th>title</th>\n",
       "      <th>selftext</th>\n",
       "      <th>statuslength</th>\n",
       "      <th>statuswordcount</th>\n",
       "    </tr>\n",
       "  </thead>\n",
       "  <tbody>\n",
       "    <tr>\n",
       "      <th>1544</th>\n",
       "      <td>tea</td>\n",
       "      <td>frtzyyyy</td>\n",
       "      <td>Do I use 2 tea bags for my 13floz tea tumbler?</td>\n",
       "      <td>???</td>\n",
       "      <td>3</td>\n",
       "      <td>1</td>\n",
       "    </tr>\n",
       "    <tr>\n",
       "      <th>447</th>\n",
       "      <td>tea</td>\n",
       "      <td>natnatnat1234</td>\n",
       "      <td>Happy Lunar New Year!</td>\n",
       "      <td>&amp;amp;#x200B;\\n\\nhttps://preview.redd.it/wuvt3e...</td>\n",
       "      <td>143</td>\n",
       "      <td>2</td>\n",
       "    </tr>\n",
       "    <tr>\n",
       "      <th>1080</th>\n",
       "      <td>tea</td>\n",
       "      <td>sprlte</td>\n",
       "      <td>Bought these things. Good things for cold brew...</td>\n",
       "      <td>&amp;amp;#x200B;\\n\\nhttps://preview.redd.it/melr1s...</td>\n",
       "      <td>141</td>\n",
       "      <td>2</td>\n",
       "    </tr>\n",
       "    <tr>\n",
       "      <th>1095</th>\n",
       "      <td>tea</td>\n",
       "      <td>Crazy-Edge-3086</td>\n",
       "      <td>Online tea store with free worldwide shipping</td>\n",
       "      <td>Any recommendations?</td>\n",
       "      <td>20</td>\n",
       "      <td>2</td>\n",
       "    </tr>\n",
       "    <tr>\n",
       "      <th>1129</th>\n",
       "      <td>tea</td>\n",
       "      <td>RommelWellington</td>\n",
       "      <td>Do you drink tea with...</td>\n",
       "      <td>\\n\\n[View Poll](https://www.reddit.com/poll/l8...</td>\n",
       "      <td>49</td>\n",
       "      <td>2</td>\n",
       "    </tr>\n",
       "  </tbody>\n",
       "</table>\n",
       "</div>"
      ],
      "text/plain": [
       "     subreddit            author  \\\n",
       "1544       tea          frtzyyyy   \n",
       "447        tea     natnatnat1234   \n",
       "1080       tea            sprlte   \n",
       "1095       tea   Crazy-Edge-3086   \n",
       "1129       tea  RommelWellington   \n",
       "\n",
       "                                                  title  \\\n",
       "1544     Do I use 2 tea bags for my 13floz tea tumbler?   \n",
       "447                               Happy Lunar New Year!   \n",
       "1080  Bought these things. Good things for cold brew...   \n",
       "1095      Online tea store with free worldwide shipping   \n",
       "1129                           Do you drink tea with...   \n",
       "\n",
       "                                               selftext  statuslength  \\\n",
       "1544                                                ???             3   \n",
       "447   &amp;#x200B;\\n\\nhttps://preview.redd.it/wuvt3e...           143   \n",
       "1080  &amp;#x200B;\\n\\nhttps://preview.redd.it/melr1s...           141   \n",
       "1095                               Any recommendations?            20   \n",
       "1129  \\n\\n[View Poll](https://www.reddit.com/poll/l8...            49   \n",
       "\n",
       "      statuswordcount  \n",
       "1544                1  \n",
       "447                 2  \n",
       "1080                2  \n",
       "1095                2  \n",
       "1129                2  "
      ]
     },
     "execution_count": 146,
     "metadata": {},
     "output_type": "execute_result"
    }
   ],
   "source": [
    "tea.nsmallest(5, ['statuswordcount']) "
   ]
  },
  {
   "cell_type": "markdown",
   "id": "industrial-practice",
   "metadata": {},
   "source": [
    "**Distribution of Post Lengths**"
   ]
  },
  {
   "cell_type": "code",
   "execution_count": 147,
   "id": "aware-register",
   "metadata": {},
   "outputs": [
    {
     "data": {
      "image/png": "[encoded data removed]",
      "text/plain": [
       "<Figure size 360x360 with 1 Axes>"
      ]
     },
     "metadata": {
      "needs_background": "light"
     },
     "output_type": "display_data"
    },
    {
     "data": {
      "image/png": "[encoded data removed]",
      "text/plain": [
       "<Figure size 360x360 with 1 Axes>"
      ]
     },
     "metadata": {
      "needs_background": "light"
     },
     "output_type": "display_data"
    }
   ],
   "source": [
    "sns.displot(coffee, x='statuslength')\n",
    "sns.displot(coffee, x='statuswordcount')\n",
    "plt.title('COFFEE');"
   ]
  },
  {
   "cell_type": "code",
   "execution_count": 148,
   "id": "supreme-roads",
   "metadata": {},
   "outputs": [
    {
     "data": {
      "image/png": "[encoded data removed]",
      "text/plain": [
       "<Figure size 360x360 with 1 Axes>"
      ]
     },
     "metadata": {
      "needs_background": "light"
     },
     "output_type": "display_data"
    },
    {
     "data": {
      "image/png": "[encoded data removed]",
      "text/plain": [
       "<Figure size 360x360 with 1 Axes>"
      ]
     },
     "metadata": {
      "needs_background": "light"
     },
     "output_type": "display_data"
    }
   ],
   "source": [
    "sns.displot(tea, x='statuslength')\n",
    "sns.displot(tea, x='statuswordcount')\n",
    "plt.title('TEA');"
   ]
  },
  {
   "cell_type": "markdown",
   "id": "focused-tours",
   "metadata": {},
   "source": [
    "**PREPROCESSING**"
   ]
  },
  {
   "cell_type": "code",
   "execution_count": 149,
   "id": "dimensional-facility",
   "metadata": {},
   "outputs": [],
   "source": [
    "from nltk.tokenize import sent_tokenize, word_tokenize, RegexpTokenizer\n",
    "from nltk.stem import WordNetLemmatizer\n",
    "from nltk.stem.porter import PorterStemmer\n",
    "from nltk.corpus import stopwords\n",
    "from nltk.sentiment.vader import SentimentIntensityAnalyzer\n",
    "import re\n",
    "import nltk"
   ]
  },
  {
   "cell_type": "markdown",
   "id": "polar-absolute",
   "metadata": {},
   "source": [
    "Removal of Special Characters"
   ]
  },
  {
   "cell_type": "code",
   "execution_count": 150,
   "id": "invalid-dominant",
   "metadata": {},
   "outputs": [
    {
     "data": {
      "text/html": [
       "<div>\n",
       "<style scoped>\n",
       "    .dataframe tbody tr th:only-of-type {\n",
       "        vertical-align: middle;\n",
       "    }\n",
       "\n",
       "    .dataframe tbody tr th {\n",
       "        vertical-align: top;\n",
       "    }\n",
       "\n",
       "    .dataframe thead th {\n",
       "        text-align: right;\n",
       "    }\n",
       "</style>\n",
       "<table border=\"1\" class=\"dataframe\">\n",
       "  <thead>\n",
       "    <tr style=\"text-align: right;\">\n",
       "      <th></th>\n",
       "      <th>subreddit</th>\n",
       "      <th>author</th>\n",
       "      <th>title</th>\n",
       "      <th>selftext</th>\n",
       "      <th>statuslength</th>\n",
       "      <th>statuswordcount</th>\n",
       "    </tr>\n",
       "  </thead>\n",
       "  <tbody>\n",
       "    <tr>\n",
       "      <th>3491</th>\n",
       "      <td>tea</td>\n",
       "      <td>da_real_gman</td>\n",
       "      <td>Any pointers?</td>\n",
       "      <td>Never really tried tea till about 3 weeks ago ...</td>\n",
       "      <td>214</td>\n",
       "      <td>43</td>\n",
       "    </tr>\n",
       "    <tr>\n",
       "      <th>3494</th>\n",
       "      <td>tea</td>\n",
       "      <td>madmix27</td>\n",
       "      <td>People who drink tea with lemon, how you do it?</td>\n",
       "      <td>Hey, how you prepare your tea with lemon:\\n\\n*...</td>\n",
       "      <td>330</td>\n",
       "      <td>65</td>\n",
       "    </tr>\n",
       "    <tr>\n",
       "      <th>3495</th>\n",
       "      <td>tea</td>\n",
       "      <td>adfjj123nb</td>\n",
       "      <td>Canadian online tea sellers</td>\n",
       "      <td>Can anyone recommend good online tea sellers i...</td>\n",
       "      <td>169</td>\n",
       "      <td>27</td>\n",
       "    </tr>\n",
       "    <tr>\n",
       "      <th>3496</th>\n",
       "      <td>tea</td>\n",
       "      <td>xcleru</td>\n",
       "      <td>What's the best beginner's set up for drinking...</td>\n",
       "      <td>I became fascinated with tea lately and have b...</td>\n",
       "      <td>479</td>\n",
       "      <td>82</td>\n",
       "    </tr>\n",
       "    <tr>\n",
       "      <th>3499</th>\n",
       "      <td>tea</td>\n",
       "      <td>LOLraul1335</td>\n",
       "      <td>Do you add sugar or honey to your tea/chai?</td>\n",
       "      <td>If you have the time, explain why you do/don't...</td>\n",
       "      <td>96</td>\n",
       "      <td>11</td>\n",
       "    </tr>\n",
       "  </tbody>\n",
       "</table>\n",
       "</div>"
      ],
      "text/plain": [
       "     subreddit        author  \\\n",
       "3491       tea  da_real_gman   \n",
       "3494       tea      madmix27   \n",
       "3495       tea    adfjj123nb   \n",
       "3496       tea        xcleru   \n",
       "3499       tea   LOLraul1335   \n",
       "\n",
       "                                                  title  \\\n",
       "3491                                      Any pointers?   \n",
       "3494    People who drink tea with lemon, how you do it?   \n",
       "3495                        Canadian online tea sellers   \n",
       "3496  What's the best beginner's set up for drinking...   \n",
       "3499        Do you add sugar or honey to your tea/chai?   \n",
       "\n",
       "                                               selftext  statuslength  \\\n",
       "3491  Never really tried tea till about 3 weeks ago ...           214   \n",
       "3494  Hey, how you prepare your tea with lemon:\\n\\n*...           330   \n",
       "3495  Can anyone recommend good online tea sellers i...           169   \n",
       "3496  I became fascinated with tea lately and have b...           479   \n",
       "3499  If you have the time, explain why you do/don't...            96   \n",
       "\n",
       "      statuswordcount  \n",
       "3491               43  \n",
       "3494               65  \n",
       "3495               27  \n",
       "3496               82  \n",
       "3499               11  "
      ]
     },
     "execution_count": 150,
     "metadata": {},
     "output_type": "execute_result"
    }
   ],
   "source": [
    "tea.tail()"
   ]
  },
  {
   "cell_type": "code",
   "execution_count": 151,
   "id": "extended-current",
   "metadata": {},
   "outputs": [],
   "source": [
    "#removal of special characters\n",
    "tea['text'] = tea['selftext'].map(lambda x: re.sub(r'\\W+', ' ', x))\n",
    "coffee['text'] = coffee['selftext'].map(lambda x: re.sub(r'\\W+', ' ', x))"
   ]
  },
  {
   "cell_type": "code",
   "execution_count": 152,
   "id": "raised-orbit",
   "metadata": {},
   "outputs": [
    {
     "data": {
      "text/html": [
       "<div>\n",
       "<style scoped>\n",
       "    .dataframe tbody tr th:only-of-type {\n",
       "        vertical-align: middle;\n",
       "    }\n",
       "\n",
       "    .dataframe tbody tr th {\n",
       "        vertical-align: top;\n",
       "    }\n",
       "\n",
       "    .dataframe thead th {\n",
       "        text-align: right;\n",
       "    }\n",
       "</style>\n",
       "<table border=\"1\" class=\"dataframe\">\n",
       "  <thead>\n",
       "    <tr style=\"text-align: right;\">\n",
       "      <th></th>\n",
       "      <th>subreddit</th>\n",
       "      <th>author</th>\n",
       "      <th>title</th>\n",
       "      <th>selftext</th>\n",
       "      <th>statuslength</th>\n",
       "      <th>statuswordcount</th>\n",
       "      <th>text</th>\n",
       "    </tr>\n",
       "  </thead>\n",
       "  <tbody>\n",
       "    <tr>\n",
       "      <th>3491</th>\n",
       "      <td>tea</td>\n",
       "      <td>da_real_gman</td>\n",
       "      <td>Any pointers?</td>\n",
       "      <td>Never really tried tea till about 3 weeks ago ...</td>\n",
       "      <td>214</td>\n",
       "      <td>43</td>\n",
       "      <td>Never really tried tea till about 3 weeks ago ...</td>\n",
       "    </tr>\n",
       "    <tr>\n",
       "      <th>3494</th>\n",
       "      <td>tea</td>\n",
       "      <td>madmix27</td>\n",
       "      <td>People who drink tea with lemon, how you do it?</td>\n",
       "      <td>Hey, how you prepare your tea with lemon:\\n\\n*...</td>\n",
       "      <td>330</td>\n",
       "      <td>65</td>\n",
       "      <td>Hey how you prepare your tea with lemon Slice ...</td>\n",
       "    </tr>\n",
       "    <tr>\n",
       "      <th>3495</th>\n",
       "      <td>tea</td>\n",
       "      <td>adfjj123nb</td>\n",
       "      <td>Canadian online tea sellers</td>\n",
       "      <td>Can anyone recommend good online tea sellers i...</td>\n",
       "      <td>169</td>\n",
       "      <td>27</td>\n",
       "      <td>Can anyone recommend good online tea sellers i...</td>\n",
       "    </tr>\n",
       "    <tr>\n",
       "      <th>3496</th>\n",
       "      <td>tea</td>\n",
       "      <td>xcleru</td>\n",
       "      <td>What's the best beginner's set up for drinking...</td>\n",
       "      <td>I became fascinated with tea lately and have b...</td>\n",
       "      <td>479</td>\n",
       "      <td>82</td>\n",
       "      <td>I became fascinated with tea lately and have b...</td>\n",
       "    </tr>\n",
       "    <tr>\n",
       "      <th>3499</th>\n",
       "      <td>tea</td>\n",
       "      <td>LOLraul1335</td>\n",
       "      <td>Do you add sugar or honey to your tea/chai?</td>\n",
       "      <td>If you have the time, explain why you do/don't...</td>\n",
       "      <td>96</td>\n",
       "      <td>11</td>\n",
       "      <td>If you have the time explain why you do don t ...</td>\n",
       "    </tr>\n",
       "  </tbody>\n",
       "</table>\n",
       "</div>"
      ],
      "text/plain": [
       "     subreddit        author  \\\n",
       "3491       tea  da_real_gman   \n",
       "3494       tea      madmix27   \n",
       "3495       tea    adfjj123nb   \n",
       "3496       tea        xcleru   \n",
       "3499       tea   LOLraul1335   \n",
       "\n",
       "                                                  title  \\\n",
       "3491                                      Any pointers?   \n",
       "3494    People who drink tea with lemon, how you do it?   \n",
       "3495                        Canadian online tea sellers   \n",
       "3496  What's the best beginner's set up for drinking...   \n",
       "3499        Do you add sugar or honey to your tea/chai?   \n",
       "\n",
       "                                               selftext  statuslength  \\\n",
       "3491  Never really tried tea till about 3 weeks ago ...           214   \n",
       "3494  Hey, how you prepare your tea with lemon:\\n\\n*...           330   \n",
       "3495  Can anyone recommend good online tea sellers i...           169   \n",
       "3496  I became fascinated with tea lately and have b...           479   \n",
       "3499  If you have the time, explain why you do/don't...            96   \n",
       "\n",
       "      statuswordcount                                               text  \n",
       "3491               43  Never really tried tea till about 3 weeks ago ...  \n",
       "3494               65  Hey how you prepare your tea with lemon Slice ...  \n",
       "3495               27  Can anyone recommend good online tea sellers i...  \n",
       "3496               82  I became fascinated with tea lately and have b...  \n",
       "3499               11  If you have the time explain why you do don t ...  "
      ]
     },
     "execution_count": 152,
     "metadata": {},
     "output_type": "execute_result"
    }
   ],
   "source": [
    "tea.tail()"
   ]
  },
  {
   "cell_type": "code",
   "execution_count": 153,
   "id": "ongoing-ladder",
   "metadata": {},
   "outputs": [
    {
     "data": {
      "text/html": [
       "<div>\n",
       "<style scoped>\n",
       "    .dataframe tbody tr th:only-of-type {\n",
       "        vertical-align: middle;\n",
       "    }\n",
       "\n",
       "    .dataframe tbody tr th {\n",
       "        vertical-align: top;\n",
       "    }\n",
       "\n",
       "    .dataframe thead th {\n",
       "        text-align: right;\n",
       "    }\n",
       "</style>\n",
       "<table border=\"1\" class=\"dataframe\">\n",
       "  <thead>\n",
       "    <tr style=\"text-align: right;\">\n",
       "      <th></th>\n",
       "      <th>subreddit</th>\n",
       "      <th>author</th>\n",
       "      <th>title</th>\n",
       "      <th>selftext</th>\n",
       "      <th>statuslength</th>\n",
       "      <th>statuswordcount</th>\n",
       "      <th>text</th>\n",
       "    </tr>\n",
       "  </thead>\n",
       "  <tbody>\n",
       "    <tr>\n",
       "      <th>0</th>\n",
       "      <td>Coffee</td>\n",
       "      <td>AfternoonMoss</td>\n",
       "      <td>My coffee once grounded smells... really bad</td>\n",
       "      <td>I've got some smaller bags of specialty coffee...</td>\n",
       "      <td>719</td>\n",
       "      <td>126</td>\n",
       "      <td>I ve got some smaller bags of specialty coffee...</td>\n",
       "    </tr>\n",
       "    <tr>\n",
       "      <th>1</th>\n",
       "      <td>Coffee</td>\n",
       "      <td>arron_sh</td>\n",
       "      <td>Do you all have coffee machine at home?</td>\n",
       "      <td>The good coffee machines are expensive. Do you...</td>\n",
       "      <td>67</td>\n",
       "      <td>10</td>\n",
       "      <td>The good coffee machines are expensive Do you ...</td>\n",
       "    </tr>\n",
       "    <tr>\n",
       "      <th>2</th>\n",
       "      <td>Coffee</td>\n",
       "      <td>hassoumi</td>\n",
       "      <td>Refractometer advice needed</td>\n",
       "      <td>Dear coffee community,\\nI have been looking fo...</td>\n",
       "      <td>374</td>\n",
       "      <td>65</td>\n",
       "      <td>Dear coffee community I have been looking for ...</td>\n",
       "    </tr>\n",
       "    <tr>\n",
       "      <th>3</th>\n",
       "      <td>Coffee</td>\n",
       "      <td>hospitality883</td>\n",
       "      <td>La Marzocco Strada 2Grp electricity use</td>\n",
       "      <td>So the Strada is around 4700watts in technical...</td>\n",
       "      <td>188</td>\n",
       "      <td>37</td>\n",
       "      <td>So the Strada is around 4700watts in technical...</td>\n",
       "    </tr>\n",
       "    <tr>\n",
       "      <th>5</th>\n",
       "      <td>Coffee</td>\n",
       "      <td>Pijatt</td>\n",
       "      <td>[Advice needed] Delonghi dedica frothing milk ...</td>\n",
       "      <td>Hi guy, I recently owned the Deloghi Dedica. B...</td>\n",
       "      <td>407</td>\n",
       "      <td>72</td>\n",
       "      <td>Hi guy I recently owned the Deloghi Dedica Bee...</td>\n",
       "    </tr>\n",
       "  </tbody>\n",
       "</table>\n",
       "</div>"
      ],
      "text/plain": [
       "  subreddit          author  \\\n",
       "0    Coffee   AfternoonMoss   \n",
       "1    Coffee        arron_sh   \n",
       "2    Coffee        hassoumi   \n",
       "3    Coffee  hospitality883   \n",
       "5    Coffee          Pijatt   \n",
       "\n",
       "                                               title  \\\n",
       "0       My coffee once grounded smells... really bad   \n",
       "1            Do you all have coffee machine at home?   \n",
       "2                        Refractometer advice needed   \n",
       "3            La Marzocco Strada 2Grp electricity use   \n",
       "5  [Advice needed] Delonghi dedica frothing milk ...   \n",
       "\n",
       "                                            selftext  statuslength  \\\n",
       "0  I've got some smaller bags of specialty coffee...           719   \n",
       "1  The good coffee machines are expensive. Do you...            67   \n",
       "2  Dear coffee community,\\nI have been looking fo...           374   \n",
       "3  So the Strada is around 4700watts in technical...           188   \n",
       "5  Hi guy, I recently owned the Deloghi Dedica. B...           407   \n",
       "\n",
       "   statuswordcount                                               text  \n",
       "0              126  I ve got some smaller bags of specialty coffee...  \n",
       "1               10  The good coffee machines are expensive Do you ...  \n",
       "2               65  Dear coffee community I have been looking for ...  \n",
       "3               37  So the Strada is around 4700watts in technical...  \n",
       "5               72  Hi guy I recently owned the Deloghi Dedica Bee...  "
      ]
     },
     "execution_count": 153,
     "metadata": {},
     "output_type": "execute_result"
    }
   ],
   "source": [
    "coffee.head()"
   ]
  },
  {
   "cell_type": "markdown",
   "id": "revolutionary-binary",
   "metadata": {},
   "source": [
    "Tokenize"
   ]
  },
  {
   "cell_type": "code",
   "execution_count": 154,
   "id": "cardiovascular-distribution",
   "metadata": {},
   "outputs": [],
   "source": [
    "tea['tokenized_sents'] = tea.apply(lambda row: nltk.word_tokenize(row['text'].lower()), axis=1)"
   ]
  },
  {
   "cell_type": "code",
   "execution_count": 155,
   "id": "changing-paragraph",
   "metadata": {},
   "outputs": [],
   "source": [
    "coffee['tokenized_sents'] = coffee.apply(lambda row: nltk.word_tokenize(row['text'].lower()), axis=1)"
   ]
  },
  {
   "cell_type": "code",
   "execution_count": 156,
   "id": "unsigned-addiction",
   "metadata": {},
   "outputs": [
    {
     "data": {
      "text/html": [
       "<div>\n",
       "<style scoped>\n",
       "    .dataframe tbody tr th:only-of-type {\n",
       "        vertical-align: middle;\n",
       "    }\n",
       "\n",
       "    .dataframe tbody tr th {\n",
       "        vertical-align: top;\n",
       "    }\n",
       "\n",
       "    .dataframe thead th {\n",
       "        text-align: right;\n",
       "    }\n",
       "</style>\n",
       "<table border=\"1\" class=\"dataframe\">\n",
       "  <thead>\n",
       "    <tr style=\"text-align: right;\">\n",
       "      <th></th>\n",
       "      <th>subreddit</th>\n",
       "      <th>author</th>\n",
       "      <th>title</th>\n",
       "      <th>selftext</th>\n",
       "      <th>statuslength</th>\n",
       "      <th>statuswordcount</th>\n",
       "      <th>text</th>\n",
       "      <th>tokenized_sents</th>\n",
       "    </tr>\n",
       "  </thead>\n",
       "  <tbody>\n",
       "    <tr>\n",
       "      <th>3</th>\n",
       "      <td>tea</td>\n",
       "      <td>MemeMaven</td>\n",
       "      <td>How do you brew boricha?</td>\n",
       "      <td>I've been winging it so far but I feel that I'...</td>\n",
       "      <td>353</td>\n",
       "      <td>69</td>\n",
       "      <td>I ve been winging it so far but I feel that I ...</td>\n",
       "      <td>[i, ve, been, winging, it, so, far, but, i, fe...</td>\n",
       "    </tr>\n",
       "    <tr>\n",
       "      <th>6</th>\n",
       "      <td>tea</td>\n",
       "      <td>Usualus</td>\n",
       "      <td>Have any of you nerds roasted your rolled oolo...</td>\n",
       "      <td>I see one blog post on the google about this, ...</td>\n",
       "      <td>317</td>\n",
       "      <td>57</td>\n",
       "      <td>I see one blog post on the google about this b...</td>\n",
       "      <td>[i, see, one, blog, post, on, the, google, abo...</td>\n",
       "    </tr>\n",
       "    <tr>\n",
       "      <th>7</th>\n",
       "      <td>tea</td>\n",
       "      <td>AAAAGentleman</td>\n",
       "      <td>What are the best teas for hard water?</td>\n",
       "      <td>Living in the Eastern region of England, the w...</td>\n",
       "      <td>163</td>\n",
       "      <td>32</td>\n",
       "      <td>Living in the Eastern region of England the wa...</td>\n",
       "      <td>[living, in, the, eastern, region, of, england...</td>\n",
       "    </tr>\n",
       "    <tr>\n",
       "      <th>9</th>\n",
       "      <td>tea</td>\n",
       "      <td>superzebra109</td>\n",
       "      <td>H&amp;amp;S Irish Breakfast Tea help?</td>\n",
       "      <td>Hi, I'm kinda new to this group and to tea. I'...</td>\n",
       "      <td>1136</td>\n",
       "      <td>229</td>\n",
       "      <td>Hi I m kinda new to this group and to tea I ve...</td>\n",
       "      <td>[hi, i, m, kinda, new, to, this, group, and, t...</td>\n",
       "    </tr>\n",
       "    <tr>\n",
       "      <th>10</th>\n",
       "      <td>tea</td>\n",
       "      <td>pin_920</td>\n",
       "      <td>Chaga Tea Suggestions</td>\n",
       "      <td>Does anyone know of a good Chaga powder or pro...</td>\n",
       "      <td>101</td>\n",
       "      <td>17</td>\n",
       "      <td>Does anyone know of a good Chaga powder or pro...</td>\n",
       "      <td>[does, anyone, know, of, a, good, chaga, powde...</td>\n",
       "    </tr>\n",
       "  </tbody>\n",
       "</table>\n",
       "</div>"
      ],
      "text/plain": [
       "   subreddit         author  \\\n",
       "3        tea      MemeMaven   \n",
       "6        tea        Usualus   \n",
       "7        tea  AAAAGentleman   \n",
       "9        tea  superzebra109   \n",
       "10       tea        pin_920   \n",
       "\n",
       "                                                title  \\\n",
       "3                            How do you brew boricha?   \n",
       "6   Have any of you nerds roasted your rolled oolo...   \n",
       "7              What are the best teas for hard water?   \n",
       "9                   H&amp;S Irish Breakfast Tea help?   \n",
       "10                              Chaga Tea Suggestions   \n",
       "\n",
       "                                             selftext  statuslength  \\\n",
       "3   I've been winging it so far but I feel that I'...           353   \n",
       "6   I see one blog post on the google about this, ...           317   \n",
       "7   Living in the Eastern region of England, the w...           163   \n",
       "9   Hi, I'm kinda new to this group and to tea. I'...          1136   \n",
       "10  Does anyone know of a good Chaga powder or pro...           101   \n",
       "\n",
       "    statuswordcount                                               text  \\\n",
       "3                69  I ve been winging it so far but I feel that I ...   \n",
       "6                57  I see one blog post on the google about this b...   \n",
       "7                32  Living in the Eastern region of England the wa...   \n",
       "9               229  Hi I m kinda new to this group and to tea I ve...   \n",
       "10               17  Does anyone know of a good Chaga powder or pro...   \n",
       "\n",
       "                                      tokenized_sents  \n",
       "3   [i, ve, been, winging, it, so, far, but, i, fe...  \n",
       "6   [i, see, one, blog, post, on, the, google, abo...  \n",
       "7   [living, in, the, eastern, region, of, england...  \n",
       "9   [hi, i, m, kinda, new, to, this, group, and, t...  \n",
       "10  [does, anyone, know, of, a, good, chaga, powde...  "
      ]
     },
     "execution_count": 156,
     "metadata": {},
     "output_type": "execute_result"
    }
   ],
   "source": [
    "tea.head()"
   ]
  },
  {
   "cell_type": "markdown",
   "id": "macro-asbestos",
   "metadata": {},
   "source": [
    "Lemmatizing"
   ]
  },
  {
   "cell_type": "code",
   "execution_count": 157,
   "id": "several-directory",
   "metadata": {},
   "outputs": [],
   "source": [
    "# Instantiate lemmatizer.\n",
    "lemmatizer = WordNetLemmatizer()\n",
    "w_tokenizer = nltk.tokenize.WhitespaceTokenizer()"
   ]
  },
  {
   "cell_type": "code",
   "execution_count": 158,
   "id": "passive-retention",
   "metadata": {},
   "outputs": [],
   "source": [
    "#Creating a helper function for Lemmatizing\n",
    "def lemmatize_text(text):\n",
    "    return [lemmatizer.lemmatize(w) for w in w_tokenizer.tokenize(text)]"
   ]
  },
  {
   "cell_type": "code",
   "execution_count": 159,
   "id": "fallen-oracle",
   "metadata": {},
   "outputs": [],
   "source": [
    "tea['text_lemmatized'] = tea.text.apply(lemmatize_text)"
   ]
  },
  {
   "cell_type": "code",
   "execution_count": 160,
   "id": "sharing-howard",
   "metadata": {},
   "outputs": [],
   "source": [
    "coffee['text_lemmatized'] = coffee.text.apply(lemmatize_text)"
   ]
  },
  {
   "cell_type": "code",
   "execution_count": 161,
   "id": "developmental-gazette",
   "metadata": {},
   "outputs": [
    {
     "data": {
      "text/html": [
       "<div>\n",
       "<style scoped>\n",
       "    .dataframe tbody tr th:only-of-type {\n",
       "        vertical-align: middle;\n",
       "    }\n",
       "\n",
       "    .dataframe tbody tr th {\n",
       "        vertical-align: top;\n",
       "    }\n",
       "\n",
       "    .dataframe thead th {\n",
       "        text-align: right;\n",
       "    }\n",
       "</style>\n",
       "<table border=\"1\" class=\"dataframe\">\n",
       "  <thead>\n",
       "    <tr style=\"text-align: right;\">\n",
       "      <th></th>\n",
       "      <th>subreddit</th>\n",
       "      <th>author</th>\n",
       "      <th>title</th>\n",
       "      <th>selftext</th>\n",
       "      <th>statuslength</th>\n",
       "      <th>statuswordcount</th>\n",
       "      <th>text</th>\n",
       "      <th>tokenized_sents</th>\n",
       "      <th>text_lemmatized</th>\n",
       "    </tr>\n",
       "  </thead>\n",
       "  <tbody>\n",
       "    <tr>\n",
       "      <th>3</th>\n",
       "      <td>tea</td>\n",
       "      <td>MemeMaven</td>\n",
       "      <td>How do you brew boricha?</td>\n",
       "      <td>I've been winging it so far but I feel that I'...</td>\n",
       "      <td>353</td>\n",
       "      <td>69</td>\n",
       "      <td>I ve been winging it so far but I feel that I ...</td>\n",
       "      <td>[i, ve, been, winging, it, so, far, but, i, fe...</td>\n",
       "      <td>[I, ve, been, winging, it, so, far, but, I, fe...</td>\n",
       "    </tr>\n",
       "    <tr>\n",
       "      <th>6</th>\n",
       "      <td>tea</td>\n",
       "      <td>Usualus</td>\n",
       "      <td>Have any of you nerds roasted your rolled oolo...</td>\n",
       "      <td>I see one blog post on the google about this, ...</td>\n",
       "      <td>317</td>\n",
       "      <td>57</td>\n",
       "      <td>I see one blog post on the google about this b...</td>\n",
       "      <td>[i, see, one, blog, post, on, the, google, abo...</td>\n",
       "      <td>[I, see, one, blog, post, on, the, google, abo...</td>\n",
       "    </tr>\n",
       "    <tr>\n",
       "      <th>7</th>\n",
       "      <td>tea</td>\n",
       "      <td>AAAAGentleman</td>\n",
       "      <td>What are the best teas for hard water?</td>\n",
       "      <td>Living in the Eastern region of England, the w...</td>\n",
       "      <td>163</td>\n",
       "      <td>32</td>\n",
       "      <td>Living in the Eastern region of England the wa...</td>\n",
       "      <td>[living, in, the, eastern, region, of, england...</td>\n",
       "      <td>[Living, in, the, Eastern, region, of, England...</td>\n",
       "    </tr>\n",
       "    <tr>\n",
       "      <th>9</th>\n",
       "      <td>tea</td>\n",
       "      <td>superzebra109</td>\n",
       "      <td>H&amp;amp;S Irish Breakfast Tea help?</td>\n",
       "      <td>Hi, I'm kinda new to this group and to tea. I'...</td>\n",
       "      <td>1136</td>\n",
       "      <td>229</td>\n",
       "      <td>Hi I m kinda new to this group and to tea I ve...</td>\n",
       "      <td>[hi, i, m, kinda, new, to, this, group, and, t...</td>\n",
       "      <td>[Hi, I, m, kinda, new, to, this, group, and, t...</td>\n",
       "    </tr>\n",
       "    <tr>\n",
       "      <th>10</th>\n",
       "      <td>tea</td>\n",
       "      <td>pin_920</td>\n",
       "      <td>Chaga Tea Suggestions</td>\n",
       "      <td>Does anyone know of a good Chaga powder or pro...</td>\n",
       "      <td>101</td>\n",
       "      <td>17</td>\n",
       "      <td>Does anyone know of a good Chaga powder or pro...</td>\n",
       "      <td>[does, anyone, know, of, a, good, chaga, powde...</td>\n",
       "      <td>[Does, anyone, know, of, a, good, Chaga, powde...</td>\n",
       "    </tr>\n",
       "  </tbody>\n",
       "</table>\n",
       "</div>"
      ],
      "text/plain": [
       "   subreddit         author  \\\n",
       "3        tea      MemeMaven   \n",
       "6        tea        Usualus   \n",
       "7        tea  AAAAGentleman   \n",
       "9        tea  superzebra109   \n",
       "10       tea        pin_920   \n",
       "\n",
       "                                                title  \\\n",
       "3                            How do you brew boricha?   \n",
       "6   Have any of you nerds roasted your rolled oolo...   \n",
       "7              What are the best teas for hard water?   \n",
       "9                   H&amp;S Irish Breakfast Tea help?   \n",
       "10                              Chaga Tea Suggestions   \n",
       "\n",
       "                                             selftext  statuslength  \\\n",
       "3   I've been winging it so far but I feel that I'...           353   \n",
       "6   I see one blog post on the google about this, ...           317   \n",
       "7   Living in the Eastern region of England, the w...           163   \n",
       "9   Hi, I'm kinda new to this group and to tea. I'...          1136   \n",
       "10  Does anyone know of a good Chaga powder or pro...           101   \n",
       "\n",
       "    statuswordcount                                               text  \\\n",
       "3                69  I ve been winging it so far but I feel that I ...   \n",
       "6                57  I see one blog post on the google about this b...   \n",
       "7                32  Living in the Eastern region of England the wa...   \n",
       "9               229  Hi I m kinda new to this group and to tea I ve...   \n",
       "10               17  Does anyone know of a good Chaga powder or pro...   \n",
       "\n",
       "                                      tokenized_sents  \\\n",
       "3   [i, ve, been, winging, it, so, far, but, i, fe...   \n",
       "6   [i, see, one, blog, post, on, the, google, abo...   \n",
       "7   [living, in, the, eastern, region, of, england...   \n",
       "9   [hi, i, m, kinda, new, to, this, group, and, t...   \n",
       "10  [does, anyone, know, of, a, good, chaga, powde...   \n",
       "\n",
       "                                      text_lemmatized  \n",
       "3   [I, ve, been, winging, it, so, far, but, I, fe...  \n",
       "6   [I, see, one, blog, post, on, the, google, abo...  \n",
       "7   [Living, in, the, Eastern, region, of, England...  \n",
       "9   [Hi, I, m, kinda, new, to, this, group, and, t...  \n",
       "10  [Does, anyone, know, of, a, good, Chaga, powde...  "
      ]
     },
     "execution_count": 161,
     "metadata": {},
     "output_type": "execute_result"
    }
   ],
   "source": [
    "tea.head()"
   ]
  },
  {
   "cell_type": "markdown",
   "id": "seeing-indie",
   "metadata": {},
   "source": [
    "Stop Word Removal"
   ]
  },
  {
   "cell_type": "code",
   "execution_count": 162,
   "id": "chief-genre",
   "metadata": {},
   "outputs": [],
   "source": [
    "tea['raw_text']=tea['tokenized_sents'].apply(lambda x: [item for item in x if item not in stopwords.words('english')])"
   ]
  },
  {
   "cell_type": "code",
   "execution_count": 163,
   "id": "variable-bulgarian",
   "metadata": {},
   "outputs": [
    {
     "data": {
      "text/plain": [
       "3     [winging, far, feel, also, wasting, think, sup...\n",
       "6     [see, one, blog, post, google, wanted, check, ...\n",
       "7     [living, eastern, region, england, water, get,...\n",
       "9     [hi, kinda, new, group, tea, lurking, bit, dec...\n",
       "10    [anyone, know, good, chaga, powder, product, m...\n",
       "Name: raw_text, dtype: object"
      ]
     },
     "execution_count": 163,
     "metadata": {},
     "output_type": "execute_result"
    }
   ],
   "source": [
    "tea['raw_text'].head() #text with no stop words as a new column"
   ]
  },
  {
   "cell_type": "code",
   "execution_count": 164,
   "id": "universal-engine",
   "metadata": {},
   "outputs": [],
   "source": [
    "coffee['raw_text']=coffee['tokenized_sents'].apply(lambda x: [item for item in x if item not in stopwords.words('english')])"
   ]
  },
  {
   "cell_type": "markdown",
   "id": "local-conducting",
   "metadata": {},
   "source": [
    "####################################\n",
    "stop_words_lst = ['stop','words','here']\n",
    "s = \"stop words here\"\n",
    "\n",
    "import re\n",
    "for w in stop_words_lst:\n",
    "    pattern = r'\\b'+w+r'\\b'\n",
    "    s = re.sub(pattern, '', s)\n",
    "    print (s)\n",
    "###################################"
   ]
  },
  {
   "cell_type": "code",
   "execution_count": 165,
   "id": "rolled-parallel",
   "metadata": {},
   "outputs": [
    {
     "data": {
      "text/plain": [
       "0       [got, smaller, bags, specialty, coffee, lately...\n",
       "1       [good, coffee, machines, expensive, recommenda...\n",
       "2       [dear, coffee, community, looking, coffee, tds...\n",
       "3       [strada, around, 4700watts, technical, paramet...\n",
       "5       [hi, guy, recently, owned, deloghi, dedica, us...\n",
       "                              ...                        \n",
       "2380    [looking, electric, grinder, budget, max, 250,...\n",
       "2381    [hi, coffee, lovers, using, delonghi, dedica, ...\n",
       "2382    [hello, tried, different, brewing, methods, au...\n",
       "2383    [hi, everyone, time, writing, read, posts, mok...\n",
       "2386    [thought, explored, every, rabbit, hole, v60, ...\n",
       "Name: raw_text, Length: 1287, dtype: object"
      ]
     },
     "execution_count": 165,
     "metadata": {},
     "output_type": "execute_result"
    }
   ],
   "source": [
    "coffee['raw_text'] #text with no stop words as a new column"
   ]
  },
  {
   "cell_type": "markdown",
   "id": "pretty-sweet",
   "metadata": {},
   "source": [
    "Common Words"
   ]
  },
  {
   "cell_type": "code",
   "execution_count": 217,
   "id": "early-supplier",
   "metadata": {},
   "outputs": [],
   "source": [
    "# Instantiate a CountVectorizer with the default hyperparameters.\n",
    "cvec = CountVectorizer()\n",
    "X1 = coffee['raw_text']"
   ]
  },
  {
   "cell_type": "code",
   "execution_count": 218,
   "id": "consistent-upgrade",
   "metadata": {},
   "outputs": [],
   "source": [
    "coffee['raw_text'] = coffee['raw_text'].astype(str) #changing data type"
   ]
  },
  {
   "cell_type": "code",
   "execution_count": 219,
   "id": "israeli-mathematics",
   "metadata": {},
   "outputs": [
    {
     "data": {
      "text/plain": [
       "CountVectorizer()"
      ]
     },
     "execution_count": 219,
     "metadata": {},
     "output_type": "execute_result"
    }
   ],
   "source": [
    "#Fit on text\n",
    "cvec.fit(X1)"
   ]
  },
  {
   "cell_type": "code",
   "execution_count": 209,
   "id": "endangered-restaurant",
   "metadata": {},
   "outputs": [
    {
     "data": {
      "text/plain": [
       "2380    ['looking', 'electric', 'grinder', 'budget', '...\n",
       "2381    ['hi', 'coffee', 'lovers', 'using', 'delonghi'...\n",
       "2382    ['hello', 'tried', 'different', 'brewing', 'me...\n",
       "2383    ['hi', 'everyone', 'time', 'writing', 'read', ...\n",
       "2386    ['thought', 'explored', 'every', 'rabbit', 'ho...\n",
       "Name: raw_text, dtype: object"
      ]
     },
     "execution_count": 209,
     "metadata": {},
     "output_type": "execute_result"
    }
   ],
   "source": [
    "#Convert to a dataframe and store\n",
    "X1.tail()"
   ]
  },
  {
   "cell_type": "code",
   "execution_count": 220,
   "id": "alternate-pointer",
   "metadata": {},
   "outputs": [],
   "source": [
    "X1 = cvec.transform(X1)"
   ]
  },
  {
   "cell_type": "code",
   "execution_count": 211,
   "id": "colored-kidney",
   "metadata": {},
   "outputs": [
    {
     "data": {
      "text/plain": [
       "['attacks',\n",
       " 'attain',\n",
       " 'attainable',\n",
       " 'attempt',\n",
       " 'attempted',\n",
       " 'attempts',\n",
       " 'attention',\n",
       " 'attest',\n",
       " 'attributes',\n",
       " 'atypical']"
      ]
     },
     "execution_count": 211,
     "metadata": {},
     "output_type": "execute_result"
    }
   ],
   "source": [
    "cvec.get_feature_names()[1000:1010]"
   ]
  },
  {
   "cell_type": "code",
   "execution_count": 212,
   "id": "hawaiian-cattle",
   "metadata": {},
   "outputs": [
    {
     "data": {
      "text/plain": [
       "(1287, 8621)"
      ]
     },
     "execution_count": 212,
     "metadata": {},
     "output_type": "execute_result"
    }
   ],
   "source": [
    "X1.shape"
   ]
  },
  {
   "cell_type": "code",
   "execution_count": 221,
   "id": "stunning-economics",
   "metadata": {},
   "outputs": [
    {
     "data": {
      "text/plain": [
       "coffee       2882\n",
       "like          723\n",
       "water         550\n",
       "get           511\n",
       "would         502\n",
       "beans         491\n",
       "grinder       473\n",
       "use           442\n",
       "grind         430\n",
       "good          413\n",
       "espresso      401\n",
       "time          391\n",
       "one           383\n",
       "cup           380\n",
       "know          358\n",
       "machine       353\n",
       "brew          349\n",
       "make          335\n",
       "really        311\n",
       "much          301\n",
       "https         292\n",
       "anyone        277\n",
       "using         275\n",
       "com           266\n",
       "also          263\n",
       "want          255\n",
       "new           251\n",
       "amp           251\n",
       "pour          246\n",
       "something     242\n",
       "taste         237\n",
       "thanks        236\n",
       "first         235\n",
       "looking       233\n",
       "www           228\n",
       "dtype: int64"
      ]
     },
     "execution_count": 221,
     "metadata": {},
     "output_type": "execute_result"
    }
   ],
   "source": [
    "coffee_counts = pd.DataFrame(X1.toarray(),\n",
    "                      columns=cvec.get_feature_names())\n",
    "coffee_counts.T.sort_values(by=0, ascending=False).head(20) #word counts by index\n",
    "coffee_counts.sum().sort_values(ascending=False).head(35) #this shows top 35 words to pull 10 meaningful words"
   ]
  },
  {
   "cell_type": "code",
   "execution_count": 452,
   "id": "central-ocean",
   "metadata": {},
   "outputs": [
    {
     "data": {
      "image/png": "[encoded data removed]",
      "text/plain": [
       "<Figure size 576x648 with 1 Axes>"
      ]
     },
     "metadata": {
      "needs_background": "light"
     },
     "output_type": "display_data"
    }
   ],
   "source": [
    "#Plotting Common Words\n",
    "\n",
    "plt.figure(figsize=(8, 9))\n",
    "coffee_counts.sum().sort_values(ascending=False).head(10).plot(kind='barh', title = \"10 Most Common Words in r/Coffee\")\n",
    "plt.xlabel('count')\n",
    "plt.ylabel ('words')\n",
    "plt.show;"
   ]
  },
  {
   "cell_type": "code",
   "execution_count": 175,
   "id": "alive-clone",
   "metadata": {},
   "outputs": [],
   "source": [
    "tea['raw_text'] = tea['raw_text'].astype(str) #changing data type"
   ]
  },
  {
   "cell_type": "code",
   "execution_count": 182,
   "id": "accompanied-particular",
   "metadata": {},
   "outputs": [
    {
     "data": {
      "text/plain": [
       "(1287, 7805)"
      ]
     },
     "execution_count": 182,
     "metadata": {},
     "output_type": "execute_result"
    }
   ],
   "source": [
    "# Instantiate a CountVectorizer with the default hyperparameters.\n",
    "cvec2 = CountVectorizer()\n",
    "X2 = tea['raw_text']\n",
    "#Fit on text\n",
    "cvec2.fit(X2)\n",
    "#transform data\n",
    "X2 = cvec2.transform(X2)\n",
    "X2.shape"
   ]
  },
  {
   "cell_type": "code",
   "execution_count": 249,
   "id": "amateur-reputation",
   "metadata": {},
   "outputs": [
    {
     "data": {
      "text/plain": [
       "tea          2994\n",
       "like          714\n",
       "teas          600\n",
       "would         392\n",
       "amp           380\n",
       "good          362\n",
       "water         359\n",
       "know          331\n",
       "one           322\n",
       "anyone        319\n",
       "green         314\n",
       "get           305\n",
       "black         289\n",
       "really        279\n",
       "looking       257\n",
       "also          254\n",
       "https         239\n",
       "loose         239\n",
       "leaf          237\n",
       "time          233\n",
       "much          230\n",
       "taste         224\n",
       "want          223\n",
       "tried         221\n",
       "something     217\n",
       "love          212\n",
       "drink         208\n",
       "use           206\n",
       "find          204\n",
       "try           196\n",
       "thanks        191\n",
       "first         176\n",
       "make          176\n",
       "different     172\n",
       "even          166\n",
       "com           165\n",
       "got           161\n",
       "drinking      160\n",
       "brewing       158\n",
       "brew          157\n",
       "dtype: int64"
      ]
     },
     "execution_count": 249,
     "metadata": {},
     "output_type": "execute_result"
    }
   ],
   "source": [
    "tea_counts = pd.DataFrame(X2.toarray(),\n",
    "                      columns=cvec2.get_feature_names())\n",
    "tea_counts.T.sort_values(by=0, ascending=False).head(30) #this shows the break down of word counts per index\n",
    "tea_counts.sum().sort_values(ascending=False).head(40) #this shows top 40 words for insights"
   ]
  },
  {
   "cell_type": "code",
   "execution_count": 455,
   "id": "caring-monday",
   "metadata": {},
   "outputs": [
    {
     "data": {
      "image/png": "[encoded data removed]",
      "text/plain": [
       "<Figure size 576x648 with 1 Axes>"
      ]
     },
     "metadata": {
      "needs_background": "light"
     },
     "output_type": "display_data"
    }
   ],
   "source": [
    "#Plotting Common Words\n",
    "\n",
    "# plot top occuring words\n",
    "plt.figure(figsize=(8, 9))\n",
    "tea_counts.sum().sort_values(ascending=False).head(12).plot(kind='barh', title = \"10 Most Common Words in r/Tea\")\n",
    "plt.xlabel('count')\n",
    "plt.ylabel ('words')\n",
    "plt.show;"
   ]
  },
  {
   "cell_type": "code",
   "execution_count": 250,
   "id": "national-precipitation",
   "metadata": {},
   "outputs": [],
   "source": [
    "frames = [coffee, tea] \n",
    "data_df = pd.concat(frames) #combining two dataframes"
   ]
  },
  {
   "cell_type": "code",
   "execution_count": 251,
   "id": "advised-discussion",
   "metadata": {},
   "outputs": [
    {
     "data": {
      "text/html": [
       "<div>\n",
       "<style scoped>\n",
       "    .dataframe tbody tr th:only-of-type {\n",
       "        vertical-align: middle;\n",
       "    }\n",
       "\n",
       "    .dataframe tbody tr th {\n",
       "        vertical-align: top;\n",
       "    }\n",
       "\n",
       "    .dataframe thead th {\n",
       "        text-align: right;\n",
       "    }\n",
       "</style>\n",
       "<table border=\"1\" class=\"dataframe\">\n",
       "  <thead>\n",
       "    <tr style=\"text-align: right;\">\n",
       "      <th></th>\n",
       "      <th>subreddit</th>\n",
       "      <th>author</th>\n",
       "      <th>title</th>\n",
       "      <th>selftext</th>\n",
       "      <th>statuslength</th>\n",
       "      <th>statuswordcount</th>\n",
       "      <th>text</th>\n",
       "      <th>tokenized_sents</th>\n",
       "      <th>text_lemmatized</th>\n",
       "      <th>raw_text</th>\n",
       "    </tr>\n",
       "  </thead>\n",
       "  <tbody>\n",
       "    <tr>\n",
       "      <th>3491</th>\n",
       "      <td>tea</td>\n",
       "      <td>da_real_gman</td>\n",
       "      <td>Any pointers?</td>\n",
       "      <td>Never really tried tea till about 3 weeks ago ...</td>\n",
       "      <td>214</td>\n",
       "      <td>43</td>\n",
       "      <td>Never really tried tea till about 3 weeks ago ...</td>\n",
       "      <td>[never, really, tried, tea, till, about, 3, we...</td>\n",
       "      <td>[Never, really, tried, tea, till, about, 3, we...</td>\n",
       "      <td>['never', 'really', 'tried', 'tea', 'till', '3...</td>\n",
       "    </tr>\n",
       "    <tr>\n",
       "      <th>3494</th>\n",
       "      <td>tea</td>\n",
       "      <td>madmix27</td>\n",
       "      <td>People who drink tea with lemon, how you do it?</td>\n",
       "      <td>Hey, how you prepare your tea with lemon:\\n\\n*...</td>\n",
       "      <td>330</td>\n",
       "      <td>65</td>\n",
       "      <td>Hey how you prepare your tea with lemon Slice ...</td>\n",
       "      <td>[hey, how, you, prepare, your, tea, with, lemo...</td>\n",
       "      <td>[Hey, how, you, prepare, your, tea, with, lemo...</td>\n",
       "      <td>['hey', 'prepare', 'tea', 'lemon', 'slice', 'l...</td>\n",
       "    </tr>\n",
       "    <tr>\n",
       "      <th>3495</th>\n",
       "      <td>tea</td>\n",
       "      <td>adfjj123nb</td>\n",
       "      <td>Canadian online tea sellers</td>\n",
       "      <td>Can anyone recommend good online tea sellers i...</td>\n",
       "      <td>169</td>\n",
       "      <td>27</td>\n",
       "      <td>Can anyone recommend good online tea sellers i...</td>\n",
       "      <td>[can, anyone, recommend, good, online, tea, se...</td>\n",
       "      <td>[Can, anyone, recommend, good, online, tea, se...</td>\n",
       "      <td>['anyone', 'recommend', 'good', 'online', 'tea...</td>\n",
       "    </tr>\n",
       "    <tr>\n",
       "      <th>3496</th>\n",
       "      <td>tea</td>\n",
       "      <td>xcleru</td>\n",
       "      <td>What's the best beginner's set up for drinking...</td>\n",
       "      <td>I became fascinated with tea lately and have b...</td>\n",
       "      <td>479</td>\n",
       "      <td>82</td>\n",
       "      <td>I became fascinated with tea lately and have b...</td>\n",
       "      <td>[i, became, fascinated, with, tea, lately, and...</td>\n",
       "      <td>[I, became, fascinated, with, tea, lately, and...</td>\n",
       "      <td>['became', 'fascinated', 'tea', 'lately', 'par...</td>\n",
       "    </tr>\n",
       "    <tr>\n",
       "      <th>3499</th>\n",
       "      <td>tea</td>\n",
       "      <td>LOLraul1335</td>\n",
       "      <td>Do you add sugar or honey to your tea/chai?</td>\n",
       "      <td>If you have the time, explain why you do/don't...</td>\n",
       "      <td>96</td>\n",
       "      <td>11</td>\n",
       "      <td>If you have the time explain why you do don t ...</td>\n",
       "      <td>[if, you, have, the, time, explain, why, you, ...</td>\n",
       "      <td>[If, you, have, the, time, explain, why, you, ...</td>\n",
       "      <td>['time', 'explain', 'view', 'poll', 'https', '...</td>\n",
       "    </tr>\n",
       "  </tbody>\n",
       "</table>\n",
       "</div>"
      ],
      "text/plain": [
       "     subreddit        author  \\\n",
       "3491       tea  da_real_gman   \n",
       "3494       tea      madmix27   \n",
       "3495       tea    adfjj123nb   \n",
       "3496       tea        xcleru   \n",
       "3499       tea   LOLraul1335   \n",
       "\n",
       "                                                  title  \\\n",
       "3491                                      Any pointers?   \n",
       "3494    People who drink tea with lemon, how you do it?   \n",
       "3495                        Canadian online tea sellers   \n",
       "3496  What's the best beginner's set up for drinking...   \n",
       "3499        Do you add sugar or honey to your tea/chai?   \n",
       "\n",
       "                                               selftext  statuslength  \\\n",
       "3491  Never really tried tea till about 3 weeks ago ...           214   \n",
       "3494  Hey, how you prepare your tea with lemon:\\n\\n*...           330   \n",
       "3495  Can anyone recommend good online tea sellers i...           169   \n",
       "3496  I became fascinated with tea lately and have b...           479   \n",
       "3499  If you have the time, explain why you do/don't...            96   \n",
       "\n",
       "      statuswordcount                                               text  \\\n",
       "3491               43  Never really tried tea till about 3 weeks ago ...   \n",
       "3494               65  Hey how you prepare your tea with lemon Slice ...   \n",
       "3495               27  Can anyone recommend good online tea sellers i...   \n",
       "3496               82  I became fascinated with tea lately and have b...   \n",
       "3499               11  If you have the time explain why you do don t ...   \n",
       "\n",
       "                                        tokenized_sents  \\\n",
       "3491  [never, really, tried, tea, till, about, 3, we...   \n",
       "3494  [hey, how, you, prepare, your, tea, with, lemo...   \n",
       "3495  [can, anyone, recommend, good, online, tea, se...   \n",
       "3496  [i, became, fascinated, with, tea, lately, and...   \n",
       "3499  [if, you, have, the, time, explain, why, you, ...   \n",
       "\n",
       "                                        text_lemmatized  \\\n",
       "3491  [Never, really, tried, tea, till, about, 3, we...   \n",
       "3494  [Hey, how, you, prepare, your, tea, with, lemo...   \n",
       "3495  [Can, anyone, recommend, good, online, tea, se...   \n",
       "3496  [I, became, fascinated, with, tea, lately, and...   \n",
       "3499  [If, you, have, the, time, explain, why, you, ...   \n",
       "\n",
       "                                               raw_text  \n",
       "3491  ['never', 'really', 'tried', 'tea', 'till', '3...  \n",
       "3494  ['hey', 'prepare', 'tea', 'lemon', 'slice', 'l...  \n",
       "3495  ['anyone', 'recommend', 'good', 'online', 'tea...  \n",
       "3496  ['became', 'fascinated', 'tea', 'lately', 'par...  \n",
       "3499  ['time', 'explain', 'view', 'poll', 'https', '...  "
      ]
     },
     "execution_count": 251,
     "metadata": {},
     "output_type": "execute_result"
    }
   ],
   "source": [
    "data_df.tail()"
   ]
  },
  {
   "cell_type": "code",
   "execution_count": 252,
   "id": "behind-booth",
   "metadata": {},
   "outputs": [],
   "source": [
    "# Instantiate a CountVectorizer with the default hyperparameters.\n",
    "cvec3 = CountVectorizer()"
   ]
  },
  {
   "cell_type": "code",
   "execution_count": 253,
   "id": "direct-phenomenon",
   "metadata": {},
   "outputs": [],
   "source": [
    "X = data_df['raw_text']"
   ]
  },
  {
   "cell_type": "code",
   "execution_count": 254,
   "id": "dependent-compact",
   "metadata": {},
   "outputs": [
    {
     "name": "stdout",
     "output_type": "stream",
     "text": [
      "<class 'pandas.core.frame.DataFrame'>\n",
      "Int64Index: 2574 entries, 0 to 3499\n",
      "Data columns (total 10 columns):\n",
      " #   Column           Non-Null Count  Dtype \n",
      "---  ------           --------------  ----- \n",
      " 0   subreddit        2574 non-null   object\n",
      " 1   author           2574 non-null   object\n",
      " 2   title            2574 non-null   object\n",
      " 3   selftext         2574 non-null   object\n",
      " 4   statuslength     2574 non-null   int64 \n",
      " 5   statuswordcount  2574 non-null   int64 \n",
      " 6   text             2574 non-null   object\n",
      " 7   tokenized_sents  2574 non-null   object\n",
      " 8   text_lemmatized  2574 non-null   object\n",
      " 9   raw_text         2574 non-null   object\n",
      "dtypes: int64(2), object(8)\n",
      "memory usage: 221.2+ KB\n"
     ]
    }
   ],
   "source": [
    "data_df.info()"
   ]
  },
  {
   "cell_type": "code",
   "execution_count": 255,
   "id": "moral-shareware",
   "metadata": {},
   "outputs": [],
   "source": [
    "data_df['raw_text'] = data_df[\"raw_text\"].astype(str) #changing data type"
   ]
  },
  {
   "cell_type": "code",
   "execution_count": 293,
   "id": "played-webcam",
   "metadata": {},
   "outputs": [
    {
     "data": {
      "text/plain": [
       "Coffee    1287\n",
       "tea       1287\n",
       "Name: subreddit, dtype: int64"
      ]
     },
     "execution_count": 293,
     "metadata": {},
     "output_type": "execute_result"
    }
   ],
   "source": [
    "X = data_df['raw_text'].astype(str)\n",
    "y = data_df['subreddit']\n",
    "y.value_counts()"
   ]
  },
  {
   "cell_type": "code",
   "execution_count": 294,
   "id": "hundred-amazon",
   "metadata": {},
   "outputs": [],
   "source": [
    "# Split the data into the training and testing sets.\n",
    "X_train, X_test, y_train, y_test = train_test_split(X,\n",
    "                                                    y,\n",
    "                                                    test_size=0.33,\n",
    "                                                    stratify=y,\n",
    "                                                    random_state=42)"
   ]
  },
  {
   "cell_type": "code",
   "execution_count": 295,
   "id": "treated-tennis",
   "metadata": {},
   "outputs": [
    {
     "data": {
      "text/plain": [
       "['broaden',\n",
       " 'broadened',\n",
       " 'broadly',\n",
       " 'broke',\n",
       " 'broken',\n",
       " 'brooklyn',\n",
       " 'brother',\n",
       " 'broths',\n",
       " 'brought',\n",
       " 'brown']"
      ]
     },
     "execution_count": 295,
     "metadata": {},
     "output_type": "execute_result"
    }
   ],
   "source": [
    "# Instantiate a CountVectorizer with the default hyperparameters.\n",
    "cv = CountVectorizer()\n",
    "# Fit the vectorizer on corpus.\n",
    "cv.fit(X_train)\n",
    "cv.fit(X_test)\n",
    "# Transform the corpus.\n",
    "X_train = cv.transform(X_train)\n",
    "X_test = cv.transform(X_test)\n",
    "cv.get_feature_names()[1000:1010]"
   ]
  },
  {
   "cell_type": "code",
   "execution_count": 273,
   "id": "altered-vertex",
   "metadata": {},
   "outputs": [
    {
     "data": {
      "text/plain": [
       "tea          2044\n",
       "coffee       2022\n",
       "like          978\n",
       "water         641\n",
       "would         621\n",
       "get           575\n",
       "good          533\n",
       "one           491\n",
       "amp           491\n",
       "know          456\n",
       "use           437\n",
       "time          431\n",
       "really        403\n",
       "anyone        396\n",
       "teas          377\n",
       "cup           366\n",
       "https         366\n",
       "beans         358\n",
       "much          355\n",
       "also          352\n",
       "grinder       347\n",
       "make          347\n",
       "brew          344\n",
       "want          340\n",
       "looking       331\n",
       "taste         324\n",
       "grind         318\n",
       "tried         314\n",
       "thanks        308\n",
       "something     307\n",
       "first         292\n",
       "new           291\n",
       "com           288\n",
       "espresso      280\n",
       "got           270\n",
       "even          264\n",
       "find          254\n",
       "using         252\n",
       "brewing       240\n",
       "try           239\n",
       "dtype: int64"
      ]
     },
     "execution_count": 273,
     "metadata": {},
     "output_type": "execute_result"
    }
   ],
   "source": [
    " #MATRIX REPRESENTATION\n",
    "counts = pd.DataFrame(X_train.toarray(),\n",
    "                      columns=cv.get_feature_names())\n",
    "\n",
    "counts.T.sort_values(by=0, ascending=False).head(20) \n",
    "\n",
    "#Print top words from the matrix\n",
    "counts.sum().sort_values(ascending=False).head(40) "
   ]
  },
  {
   "cell_type": "code",
   "execution_count": 274,
   "id": "filled-frost",
   "metadata": {},
   "outputs": [
    {
     "data": {
      "image/png": "[encoded data removed]",
      "text/plain": [
       "<Figure size 1296x648 with 1 Axes>"
      ]
     },
     "metadata": {
      "needs_background": "light"
     },
     "output_type": "display_data"
    }
   ],
   "source": [
    "#Plotting Common Words\n",
    "\n",
    "plt.figure(figsize=(18, 9))\n",
    "counts.sum().sort_values(ascending=False).head(30).plot(kind='barh', title = \"30 Most Common Words in r/Coffee and r/Tea\")\n",
    "plt.show;"
   ]
  },
  {
   "cell_type": "markdown",
   "id": "wound-authorization",
   "metadata": {},
   "source": [
    "**MODELING**"
   ]
  },
  {
   "cell_type": "markdown",
   "id": "incorporated-employment",
   "metadata": {},
   "source": [
    "**1. RANDOM FOREST CLASSIFIER**"
   ]
  },
  {
   "cell_type": "code",
   "execution_count": 309,
   "id": "round-polyester",
   "metadata": {},
   "outputs": [],
   "source": [
    "from sklearn.ensemble import RandomForestClassifier, ExtraTreesClassifier\n",
    "from sklearn.model_selection import cross_val_score, train_test_split, GridSearchCV\n",
    "from sklearn.metrics import confusion_matrix, plot_confusion_matrix\n",
    "from sklearn.metrics import accuracy_score, confusion_matrix, classification_report\n"
   ]
  },
  {
   "cell_type": "code",
   "execution_count": 276,
   "id": "historic-russell",
   "metadata": {},
   "outputs": [],
   "source": [
    "#instantiate the model\n",
    "rf = RandomForestClassifier(n_estimators=100)\n",
    "et = ExtraTreesClassifier(n_estimators=100)"
   ]
  },
  {
   "cell_type": "code",
   "execution_count": 297,
   "id": "prospective-pressing",
   "metadata": {},
   "outputs": [
    {
     "data": {
      "text/plain": [
       "RandomForestClassifier()"
      ]
     },
     "execution_count": 297,
     "metadata": {},
     "output_type": "execute_result"
    }
   ],
   "source": [
    "rf.fit(X_train, y_train)"
   ]
  },
  {
   "cell_type": "code",
   "execution_count": 298,
   "id": "imposed-remove",
   "metadata": {},
   "outputs": [],
   "source": [
    "y_pred_test = rf.predict(X_test)"
   ]
  },
  {
   "cell_type": "code",
   "execution_count": 310,
   "id": "naughty-heath",
   "metadata": {},
   "outputs": [
    {
     "data": {
      "text/plain": [
       "0.9482352941176471"
      ]
     },
     "execution_count": 310,
     "metadata": {},
     "output_type": "execute_result"
    }
   ],
   "source": [
    "accuracy_score(y_test, y_pred_test)"
   ]
  },
  {
   "cell_type": "code",
   "execution_count": 312,
   "id": "instructional-stadium",
   "metadata": {},
   "outputs": [
    {
     "data": {
      "text/plain": [
       "0.950123019885406"
      ]
     },
     "execution_count": 312,
     "metadata": {},
     "output_type": "execute_result"
    }
   ],
   "source": [
    "cross_val_score(rf, X_train, y_train, cv=5).mean()"
   ]
  },
  {
   "cell_type": "code",
   "execution_count": 313,
   "id": "focal-favor",
   "metadata": {},
   "outputs": [
    {
     "data": {
      "text/plain": [
       "0.943529411764706"
      ]
     },
     "execution_count": 313,
     "metadata": {},
     "output_type": "execute_result"
    }
   ],
   "source": [
    "cross_val_score(rf, X_test, y_test, cv=5).mean()"
   ]
  },
  {
   "cell_type": "code",
   "execution_count": 314,
   "id": "persistent-emperor",
   "metadata": {},
   "outputs": [
    {
     "data": {
      "text/plain": [
       "0.9483599946229333"
      ]
     },
     "execution_count": 314,
     "metadata": {},
     "output_type": "execute_result"
    }
   ],
   "source": [
    "cross_val_score(rf, X_train, y_train, cv=10).mean() #it didn't get better"
   ]
  },
  {
   "cell_type": "code",
   "execution_count": 317,
   "id": "extended-edward",
   "metadata": {},
   "outputs": [],
   "source": [
    "#Another X and y for ExtraRandomTrees\n",
    "X = data_df['raw_text'].astype(str)\n",
    "y = data_df['subreddit']\n",
    "# Split the data into the training and testing sets.\n",
    "X_train, X_test, y_train, y_test = train_test_split(X,\n",
    "                                                    y,\n",
    "                                                    test_size=0.33,\n",
    "                                                    stratify=y,\n",
    "                                                    random_state=42)\n",
    "# Instantiate a CountVectorizer with the default hyperparameters.\n",
    "cv = CountVectorizer()\n",
    "# Fit the vectorizer on corpus.\n",
    "cv.fit(X_train)\n",
    "cv.fit(X_test)\n",
    "# Transform the corpus.\n",
    "X_train = cv.transform(X_train)\n",
    "X_test = cv.transform(X_test)"
   ]
  },
  {
   "cell_type": "code",
   "execution_count": null,
   "id": "straight-timothy",
   "metadata": {},
   "outputs": [],
   "source": []
  },
  {
   "cell_type": "code",
   "execution_count": 318,
   "id": "cubic-ottawa",
   "metadata": {},
   "outputs": [
    {
     "data": {
      "text/plain": [
       "ExtraTreesClassifier()"
      ]
     },
     "execution_count": 318,
     "metadata": {},
     "output_type": "execute_result"
    }
   ],
   "source": [
    "et.fit(X_train, y_train)"
   ]
  },
  {
   "cell_type": "code",
   "execution_count": 321,
   "id": "supposed-evanescence",
   "metadata": {},
   "outputs": [],
   "source": [
    "y_pred_test = et.predict(X_test)"
   ]
  },
  {
   "cell_type": "code",
   "execution_count": 322,
   "id": "liberal-airplane",
   "metadata": {},
   "outputs": [
    {
     "data": {
      "text/plain": [
       "0.9564705882352941"
      ]
     },
     "execution_count": 322,
     "metadata": {},
     "output_type": "execute_result"
    }
   ],
   "source": [
    "accuracy_score(y_test, y_pred_test) #This is better than the RandomTreesClassifier"
   ]
  },
  {
   "cell_type": "code",
   "execution_count": 323,
   "id": "gross-massachusetts",
   "metadata": {},
   "outputs": [
    {
     "data": {
      "text/plain": [
       "0.9419969666329626"
      ]
     },
     "execution_count": 323,
     "metadata": {},
     "output_type": "execute_result"
    }
   ],
   "source": [
    "cross_val_score(et, X_train, y_train, cv=5).mean()#Random Extra Trees for extra randomization and see if score improves"
   ]
  },
  {
   "cell_type": "code",
   "execution_count": 324,
   "id": "literary-electricity",
   "metadata": {},
   "outputs": [
    {
     "data": {
      "text/plain": [
       "0.9294117647058824"
      ]
     },
     "execution_count": 324,
     "metadata": {},
     "output_type": "execute_result"
    }
   ],
   "source": [
    "cross_val_score(et, X_test, y_test, cv=5).mean() #This seems a little overfit than the RandomForestClassifier model."
   ]
  },
  {
   "cell_type": "markdown",
   "id": "august-assignment",
   "metadata": {},
   "source": [
    "**EVALUATION**\n",
    "\n",
    "The ExtraTreesClassifier() gave a better accuracy score of 95.65% vs RandomForestClassifier() with 94.82% \n",
    "but the model seems add some overfitting. This accuracy score measures how many labels the model got right out of the total number of predictions.\n",
    "\n",
    "\n",
    "\n",
    "\n"
   ]
  },
  {
   "cell_type": "markdown",
   "id": "athletic-melissa",
   "metadata": {},
   "source": [
    "**2. Multinomial Naive Bayes with Optimization**"
   ]
  },
  {
   "cell_type": "code",
   "execution_count": 406,
   "id": "expensive-finger",
   "metadata": {},
   "outputs": [],
   "source": [
    "from sklearn.naive_bayes import MultinomialNB\n",
    "from sklearn.model_selection import train_test_split, GridSearchCV\n",
    "from sklearn.pipeline import Pipeline\n"
   ]
  },
  {
   "cell_type": "code",
   "execution_count": 409,
   "id": "light-think",
   "metadata": {},
   "outputs": [],
   "source": [
    "#Define X and y\n",
    "X = data_df['raw_text'].astype(str)\n",
    "y = data_df['subreddit']\n",
    "# Split the data into the training and testing sets.\n",
    "X_train, X_test, y_train, y_test = train_test_split(X,\n",
    "                                                    y,\n",
    "                                                    test_size=0.33,\n",
    "                                                    stratify=y,\n",
    "                                                    random_state=42)"
   ]
  },
  {
   "cell_type": "code",
   "execution_count": 410,
   "id": "abroad-relationship",
   "metadata": {},
   "outputs": [
    {
     "data": {
      "text/plain": [
       "0.9588203572632288"
      ]
     },
     "execution_count": 410,
     "metadata": {},
     "output_type": "execute_result"
    }
   ],
   "source": [
    "#instantiate and CountVectorize then fit in training data\n",
    "pipe = Pipeline([\n",
    "    ('cvec', CountVectorizer()),\n",
    "    ('nb', MultinomialNB())\n",
    "])\n",
    "\n",
    "# Fit your model\n",
    "pipe.fit(X_train, y_train)\n",
    "\n",
    "# Estimate how model will perform on unseen data\n",
    "cross_val_score(pipe, X_train, y_train, cv=5).mean() "
   ]
  },
  {
   "cell_type": "code",
   "execution_count": 411,
   "id": "moderate-safety",
   "metadata": {},
   "outputs": [
    {
     "data": {
      "text/plain": [
       "0.9895591647331786"
      ]
     },
     "execution_count": 411,
     "metadata": {},
     "output_type": "execute_result"
    }
   ],
   "source": [
    "# Training score\n",
    "pipe.score(X_train, y_train)"
   ]
  },
  {
   "cell_type": "code",
   "execution_count": 412,
   "id": "nasty-canal",
   "metadata": {},
   "outputs": [],
   "source": [
    "#Predictions\n",
    "y_preds = pipe.predict(X_test)"
   ]
  },
  {
   "cell_type": "code",
   "execution_count": 413,
   "id": "brutal-county",
   "metadata": {},
   "outputs": [
    {
     "data": {
      "text/plain": [
       "0.9658823529411765"
      ]
     },
     "execution_count": 413,
     "metadata": {},
     "output_type": "execute_result"
    }
   ],
   "source": [
    "accuracy_score(y_test, y_pred_test)"
   ]
  },
  {
   "cell_type": "code",
   "execution_count": 415,
   "id": "increased-ticket",
   "metadata": {},
   "outputs": [],
   "source": [
    "#Looks good, now to see if I can still optimize with the following parameters:"
   ]
  },
  {
   "cell_type": "code",
   "execution_count": 416,
   "id": "dietary-theory",
   "metadata": {},
   "outputs": [],
   "source": [
    "pipe_params = {\n",
    "    'cvec__max_features': [2_000, 3_000, 4_000, 5_000],\n",
    "    'cvec__min_df': [2, 3],\n",
    "    'cvec__max_df': [.9, .95]\n",
    "}"
   ]
  },
  {
   "cell_type": "code",
   "execution_count": 417,
   "id": "genuine-green",
   "metadata": {},
   "outputs": [],
   "source": [
    "# Instantiate GridSearchCV.\n",
    "gs = GridSearchCV(pipe, # optimizing pipe above\n",
    "                  param_grid=pipe_params, # params above\n",
    "                  cv=5) # 5-fold cross-validation."
   ]
  },
  {
   "cell_type": "code",
   "execution_count": 418,
   "id": "frank-mailing",
   "metadata": {},
   "outputs": [
    {
     "data": {
      "text/plain": [
       "GridSearchCV(cv=5,\n",
       "             estimator=Pipeline(steps=[('cvec', CountVectorizer()),\n",
       "                                       ('nb', MultinomialNB())]),\n",
       "             param_grid={'cvec__max_df': [0.9, 0.95],\n",
       "                         'cvec__max_features': [2000, 3000, 4000, 5000],\n",
       "                         'cvec__min_df': [2, 3]})"
      ]
     },
     "execution_count": 418,
     "metadata": {},
     "output_type": "execute_result"
    }
   ],
   "source": [
    "# Fit GridSearch to training data.\n",
    "gs.fit(X_train, y_train)"
   ]
  },
  {
   "cell_type": "code",
   "execution_count": 419,
   "id": "bottom-jefferson",
   "metadata": {},
   "outputs": [
    {
     "data": {
      "text/plain": [
       "0.9698375870069605"
      ]
     },
     "execution_count": 419,
     "metadata": {},
     "output_type": "execute_result"
    }
   ],
   "source": [
    "# Score NB model on training set.\n",
    "gs.score(X_train, y_train)"
   ]
  },
  {
   "cell_type": "code",
   "execution_count": 423,
   "id": "geographic-holder",
   "metadata": {},
   "outputs": [],
   "source": [
    "#Well this did not improved previous result.. Instead of CountVectorizer let me try TfidVectorizer"
   ]
  },
  {
   "cell_type": "code",
   "execution_count": 424,
   "id": "olive-orleans",
   "metadata": {},
   "outputs": [],
   "source": [
    "from sklearn.feature_extraction.text import TfidfVectorizer\n",
    "# Instantiate and fit this tfid.\n",
    "tvec = TfidfVectorizer()"
   ]
  },
  {
   "cell_type": "code",
   "execution_count": 425,
   "id": "historical-trainer",
   "metadata": {},
   "outputs": [
    {
     "data": {
      "image/png": "[encoded data removed]",
      "text/plain": [
       "<Figure size 432x288 with 1 Axes>"
      ]
     },
     "metadata": {
      "needs_background": "light"
     },
     "output_type": "display_data"
    }
   ],
   "source": [
    "# convert data to vectorized dataframe\n",
    "X_train_df = pd.DataFrame(tvec.fit_transform(X_train).todense(), \n",
    "                          columns=tvec.get_feature_names())\n",
    "X_test_df = pd.DataFrame(tvec.fit_transform(X_test).todense(), \n",
    "                          columns=tvec.get_feature_names())\n",
    "\n",
    "\n",
    "# plot top occuring words to check if anything's changed\n",
    "X_train_df.sum().sort_values(ascending=False).head(20).plot(kind='barh', title = 'Top 20 words');"
   ]
  },
  {
   "cell_type": "code",
   "execution_count": 426,
   "id": "valid-tomato",
   "metadata": {},
   "outputs": [],
   "source": [
    "# Set up a pipeline Multinomial Naive Bayes Classifier and TfidVectorizer\n",
    "pipe_tvec = Pipeline([\n",
    "    ('tvec', TfidfVectorizer()),\n",
    "    ('nb', MultinomialNB())\n",
    "])"
   ]
  },
  {
   "cell_type": "code",
   "execution_count": 427,
   "id": "owned-shark",
   "metadata": {},
   "outputs": [],
   "source": [
    "#pipe params for optimization\n",
    "pipe_tvec_params = {\n",
    "    'tvec__max_features': [2_000, 3_000, 4_000, 5_000],\n",
    "    'tvec__stop_words': [None, 'english']\n",
    "}"
   ]
  },
  {
   "cell_type": "code",
   "execution_count": 428,
   "id": "missing-presentation",
   "metadata": {},
   "outputs": [],
   "source": [
    "# Instantiate GridSearchCV \n",
    "gs_tvec = GridSearchCV(pipe_tvec, \n",
    "                        param_grid = pipe_tvec_params, \n",
    "                        cv=5) "
   ]
  },
  {
   "cell_type": "code",
   "execution_count": 429,
   "id": "accessory-radius",
   "metadata": {},
   "outputs": [
    {
     "data": {
      "text/plain": [
       "GridSearchCV(cv=5,\n",
       "             estimator=Pipeline(steps=[('tvec', TfidfVectorizer()),\n",
       "                                       ('nb', MultinomialNB())]),\n",
       "             param_grid={'tvec__max_features': [2000, 3000, 4000, 5000],\n",
       "                         'tvec__stop_words': [None, 'english']})"
      ]
     },
     "execution_count": 429,
     "metadata": {},
     "output_type": "execute_result"
    }
   ],
   "source": [
    "# Fit GridSearch to training data.\n",
    "gs_tvec.fit(X_train, y_train)"
   ]
  },
  {
   "cell_type": "code",
   "execution_count": 431,
   "id": "affecting-peripheral",
   "metadata": {},
   "outputs": [
    {
     "data": {
      "text/plain": [
       "0.9820185614849188"
      ]
     },
     "execution_count": 431,
     "metadata": {},
     "output_type": "execute_result"
    }
   ],
   "source": [
    "# Score model on training set.\n",
    "gs_tvec.score(X_train, y_train)"
   ]
  },
  {
   "cell_type": "code",
   "execution_count": 432,
   "id": "seventh-breeding",
   "metadata": {},
   "outputs": [
    {
     "data": {
      "text/plain": [
       "0.9588235294117647"
      ]
     },
     "execution_count": 432,
     "metadata": {},
     "output_type": "execute_result"
    }
   ],
   "source": [
    "# Score model on training set.\n",
    "gs_tvec.score(X_test, y_test)"
   ]
  },
  {
   "cell_type": "code",
   "execution_count": 430,
   "id": "alive-polyester",
   "metadata": {},
   "outputs": [
    {
     "data": {
      "text/plain": [
       "{'tvec__max_features': 4000, 'tvec__stop_words': None}"
      ]
     },
     "execution_count": 430,
     "metadata": {},
     "output_type": "execute_result"
    }
   ],
   "source": [
    "#best params\n",
    "gs_tvec.best_params_"
   ]
  },
  {
   "cell_type": "code",
   "execution_count": 438,
   "id": "bronze-longer",
   "metadata": {},
   "outputs": [],
   "source": [
    "#optimizing from above info \n",
    "pipe_tvec_params = {\n",
    "    'tvec__max_features': [4_000],\n",
    "    'tvec__stop_words': ['english']\n",
    "}"
   ]
  },
  {
   "cell_type": "code",
   "execution_count": 439,
   "id": "structured-white",
   "metadata": {},
   "outputs": [
    {
     "data": {
      "text/plain": [
       "0.9837587006960556"
      ]
     },
     "execution_count": 439,
     "metadata": {},
     "output_type": "execute_result"
    }
   ],
   "source": [
    "# Instantiate GridSearchCV \n",
    "gs_tvec = GridSearchCV(pipe_tvec, \n",
    "                        param_grid = pipe_tvec_params, \n",
    "                        cv=5) \n",
    "\n",
    "# Fit GridSearch to training data.\n",
    "gs_tvec.fit(X_train, y_train)\n",
    "\n",
    "# Score model on training set.\n",
    "gs_tvec.score(X_train, y_train)"
   ]
  },
  {
   "cell_type": "code",
   "execution_count": 435,
   "id": "supported-rubber",
   "metadata": {},
   "outputs": [
    {
     "data": {
      "text/plain": [
       "0.9576470588235294"
      ]
     },
     "execution_count": 435,
     "metadata": {},
     "output_type": "execute_result"
    }
   ],
   "source": [
    "# Score model on training set.\n",
    "gs_tvec.score(X_test, y_test)"
   ]
  },
  {
   "cell_type": "markdown",
   "id": "precious-chest",
   "metadata": {},
   "source": [
    "Confusion Matrix"
   ]
  },
  {
   "cell_type": "code",
   "execution_count": 456,
   "id": "knowing-ethics",
   "metadata": {},
   "outputs": [
    {
     "data": {
      "image/png": "[encoded data removed]",
      "text/plain": [
       "<Figure size 432x288 with 2 Axes>"
      ]
     },
     "metadata": {
      "needs_background": "light"
     },
     "output_type": "display_data"
    }
   ],
   "source": [
    "from sklearn.metrics import confusion_matrix, plot_confusion_matrix\n",
    "# Get predictions on the best scoring MultinomialNB \n",
    "preds = gs_tvec.predict(X_test)\n",
    "\n",
    "# Save confusion matrix values\n",
    "tn, fp, fn, tp = confusion_matrix(y_test, preds).ravel()\n",
    "# View confusion matrix\n",
    "\n",
    "plot_confusion_matrix(gs, X_test, y_test, cmap='Greens', values_format='d')\n",
    "plt.title (\"Prediction Confusion Matrix\")\n",
    "plt.show;"
   ]
  },
  {
   "cell_type": "code",
   "execution_count": 446,
   "id": "electronic-africa",
   "metadata": {},
   "outputs": [
    {
     "name": "stdout",
     "output_type": "stream",
     "text": [
      "Accuracy: 0.9576470588235294\n"
     ]
    }
   ],
   "source": [
    "# Calculate the specificity\n",
    "acc = (tp + tn) / (tp + fp + tn + fn)\n",
    "print('Accuracy:', acc)"
   ]
  },
  {
   "cell_type": "markdown",
   "id": "honest-possibility",
   "metadata": {},
   "source": [
    "**EVALUATION**\n",
    "\n",
    "The Multinomial NB Classifier, with TFIDVectorizer, performed better than the rest of the other classifiers because I optimized it by using the best parameters on Pipeline and Gridsearch. Scores above shows some overfitting that happened but still acceptable.\n",
    "This model have an accuracy score of 95.76% and the confusion matrix above is available to see the how many predictions we got correct, incorrect."
   ]
  },
  {
   "cell_type": "markdown",
   "id": "smooth-synthetic",
   "metadata": {},
   "source": [
    "**CONCLUSION**"
   ]
  },
  {
   "cell_type": "markdown",
   "id": "registered-jackson",
   "metadata": {},
   "source": [
    "For this project, the Multinomial NB Classifier performed better than the rest of the other classifiers because I optimized it by using the best parameters on Pipeline and Gridsearch."
   ]
  },
  {
   "cell_type": "markdown",
   "id": "dominant-authorization",
   "metadata": {},
   "source": [
    "**NEXT STEPS**"
   ]
  },
  {
   "cell_type": "markdown",
   "id": "encouraging-engineering",
   "metadata": {},
   "source": [
    "Work with strings (n_grams) and setting a more subreddit channel focused stop-word dictionary.\n"
   ]
  }
 ],
 "metadata": {
  "kernelspec": {
   "display_name": "Python 3",
   "language": "python",
   "name": "python3"
  },
  "language_info": {
   "codemirror_mode": {
    "name": "ipython",
    "version": 3
   },
   "file_extension": ".py",
   "mimetype": "text/x-python",
   "name": "python",
   "nbconvert_exporter": "python",
   "pygments_lexer": "ipython3",
   "version": "3.8.5"
  }
 },
 "nbformat": 4,
 "nbformat_minor": 5
}
